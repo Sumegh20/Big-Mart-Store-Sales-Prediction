{
 "cells": [
  {
   "cell_type": "markdown",
   "id": "5569200d",
   "metadata": {
    "id": "5569200d"
   },
   "source": [
    "### Problem Statement:\n",
    "Nowadays, shopping malls and Big Marts keep track of individual item sales data in\n",
    "order to forecast future client demand and adjust inventory management. In a data\n",
    "warehouse, these data stores hold a significant amount of consumer information and\n",
    "particular item details. By mining the data store from the data warehouse, more\n",
    "anomalies and common patterns can be discovered."
   ]
  },
  {
   "cell_type": "markdown",
   "id": "e5796b4e",
   "metadata": {
    "id": "e5796b4e"
   },
   "source": [
    "### Columns Description\n",
    "\n",
    "1. Item_Identifier: Unique product ID\n",
    "2. Item_Weight: Weight of product\n",
    "3. Item_Fat_Content: Whether the product is low fat or not\n",
    "4. Item_Visibility: The % of total display area of all products in a store allocated to theparticular product\n",
    "5. Item_Type: The category to which the product belongs\n",
    "6. Item_MRP: Maximum Retail Price (list price) of the product\n",
    "7. Outlet_Identifier: Unique store ID\n",
    "8. Outlet_Establishment_Year: The year in which store was established\n",
    "9. Outlet_Size: The size of the store in terms of ground area covered\n",
    "10. Outlet_Location_Type: The type of city in which the store is located\n",
    "11. Outlet_Type: Whether the outlet is just a grocery store or some sort of supermarket\n",
    "12. Item_Outlet_Sales: Sales of the product in the particulat store. This is the outcome variable to be predicted."
   ]
  },
  {
   "cell_type": "code",
   "execution_count": 1,
   "id": "b2b1392a",
   "metadata": {
    "id": "b2b1392a"
   },
   "outputs": [],
   "source": [
    "import pandas as pd\n",
    "import numpy as np\n",
    "import matplotlib.pyplot as plt\n",
    "import seaborn as sns\n",
    "\n",
    "%matplotlib inline"
   ]
  },
  {
   "cell_type": "code",
   "execution_count": 2,
   "id": "f7ec3dc3",
   "metadata": {
    "id": "f7ec3dc3"
   },
   "outputs": [],
   "source": [
    "## To see all columns of the dataset\n",
    "\n",
    "pd.set_option(\"display.max_columns\", None)"
   ]
  },
  {
   "cell_type": "code",
   "execution_count": 3,
   "id": "e2ea630c",
   "metadata": {
    "id": "e2ea630c",
    "outputId": "6b1ca1a4-f9b9-458c-9035-240f0f31ec4f",
    "scrolled": true
   },
   "outputs": [
    {
     "data": {
      "text/html": [
       "<div>\n",
       "<style scoped>\n",
       "    .dataframe tbody tr th:only-of-type {\n",
       "        vertical-align: middle;\n",
       "    }\n",
       "\n",
       "    .dataframe tbody tr th {\n",
       "        vertical-align: top;\n",
       "    }\n",
       "\n",
       "    .dataframe thead th {\n",
       "        text-align: right;\n",
       "    }\n",
       "</style>\n",
       "<table border=\"1\" class=\"dataframe\">\n",
       "  <thead>\n",
       "    <tr style=\"text-align: right;\">\n",
       "      <th></th>\n",
       "      <th>Item_Identifier</th>\n",
       "      <th>Item_Weight</th>\n",
       "      <th>Item_Fat_Content</th>\n",
       "      <th>Item_Visibility</th>\n",
       "      <th>Item_Type</th>\n",
       "      <th>Item_MRP</th>\n",
       "      <th>Outlet_Identifier</th>\n",
       "      <th>Outlet_Establishment_Year</th>\n",
       "      <th>Outlet_Size</th>\n",
       "      <th>Outlet_Location_Type</th>\n",
       "      <th>Outlet_Type</th>\n",
       "      <th>Item_Outlet_Sales</th>\n",
       "    </tr>\n",
       "  </thead>\n",
       "  <tbody>\n",
       "    <tr>\n",
       "      <th>0</th>\n",
       "      <td>FDA15</td>\n",
       "      <td>9.30</td>\n",
       "      <td>Low Fat</td>\n",
       "      <td>0.016047</td>\n",
       "      <td>Dairy</td>\n",
       "      <td>249.8092</td>\n",
       "      <td>OUT049</td>\n",
       "      <td>1999</td>\n",
       "      <td>Medium</td>\n",
       "      <td>Tier 1</td>\n",
       "      <td>Supermarket Type1</td>\n",
       "      <td>3735.1380</td>\n",
       "    </tr>\n",
       "    <tr>\n",
       "      <th>1</th>\n",
       "      <td>DRC01</td>\n",
       "      <td>5.92</td>\n",
       "      <td>Regular</td>\n",
       "      <td>0.019278</td>\n",
       "      <td>Soft Drinks</td>\n",
       "      <td>48.2692</td>\n",
       "      <td>OUT018</td>\n",
       "      <td>2009</td>\n",
       "      <td>Medium</td>\n",
       "      <td>Tier 3</td>\n",
       "      <td>Supermarket Type2</td>\n",
       "      <td>443.4228</td>\n",
       "    </tr>\n",
       "    <tr>\n",
       "      <th>2</th>\n",
       "      <td>FDN15</td>\n",
       "      <td>17.50</td>\n",
       "      <td>Low Fat</td>\n",
       "      <td>0.016760</td>\n",
       "      <td>Meat</td>\n",
       "      <td>141.6180</td>\n",
       "      <td>OUT049</td>\n",
       "      <td>1999</td>\n",
       "      <td>Medium</td>\n",
       "      <td>Tier 1</td>\n",
       "      <td>Supermarket Type1</td>\n",
       "      <td>2097.2700</td>\n",
       "    </tr>\n",
       "    <tr>\n",
       "      <th>3</th>\n",
       "      <td>FDX07</td>\n",
       "      <td>19.20</td>\n",
       "      <td>Regular</td>\n",
       "      <td>0.000000</td>\n",
       "      <td>Fruits and Vegetables</td>\n",
       "      <td>182.0950</td>\n",
       "      <td>OUT010</td>\n",
       "      <td>1998</td>\n",
       "      <td>NaN</td>\n",
       "      <td>Tier 3</td>\n",
       "      <td>Grocery Store</td>\n",
       "      <td>732.3800</td>\n",
       "    </tr>\n",
       "    <tr>\n",
       "      <th>4</th>\n",
       "      <td>NCD19</td>\n",
       "      <td>8.93</td>\n",
       "      <td>Low Fat</td>\n",
       "      <td>0.000000</td>\n",
       "      <td>Household</td>\n",
       "      <td>53.8614</td>\n",
       "      <td>OUT013</td>\n",
       "      <td>1987</td>\n",
       "      <td>High</td>\n",
       "      <td>Tier 3</td>\n",
       "      <td>Supermarket Type1</td>\n",
       "      <td>994.7052</td>\n",
       "    </tr>\n",
       "  </tbody>\n",
       "</table>\n",
       "</div>"
      ],
      "text/plain": [
       "  Item_Identifier  Item_Weight Item_Fat_Content  Item_Visibility  \\\n",
       "0           FDA15         9.30          Low Fat         0.016047   \n",
       "1           DRC01         5.92          Regular         0.019278   \n",
       "2           FDN15        17.50          Low Fat         0.016760   \n",
       "3           FDX07        19.20          Regular         0.000000   \n",
       "4           NCD19         8.93          Low Fat         0.000000   \n",
       "\n",
       "               Item_Type  Item_MRP Outlet_Identifier  \\\n",
       "0                  Dairy  249.8092            OUT049   \n",
       "1            Soft Drinks   48.2692            OUT018   \n",
       "2                   Meat  141.6180            OUT049   \n",
       "3  Fruits and Vegetables  182.0950            OUT010   \n",
       "4              Household   53.8614            OUT013   \n",
       "\n",
       "   Outlet_Establishment_Year Outlet_Size Outlet_Location_Type  \\\n",
       "0                       1999      Medium               Tier 1   \n",
       "1                       2009      Medium               Tier 3   \n",
       "2                       1999      Medium               Tier 1   \n",
       "3                       1998         NaN               Tier 3   \n",
       "4                       1987        High               Tier 3   \n",
       "\n",
       "         Outlet_Type  Item_Outlet_Sales  \n",
       "0  Supermarket Type1          3735.1380  \n",
       "1  Supermarket Type2           443.4228  \n",
       "2  Supermarket Type1          2097.2700  \n",
       "3      Grocery Store           732.3800  \n",
       "4  Supermarket Type1           994.7052  "
      ]
     },
     "execution_count": 3,
     "metadata": {},
     "output_type": "execute_result"
    }
   ],
   "source": [
    "df = pd.read_csv('original_data_set/Train.csv')\n",
    "df.head()"
   ]
  },
  {
   "cell_type": "code",
   "execution_count": 4,
   "id": "cf57eb2f",
   "metadata": {
    "scrolled": true
   },
   "outputs": [],
   "source": [
    "# !pip install --user pandas-profiling"
   ]
  },
  {
   "cell_type": "code",
   "execution_count": 5,
   "id": "8d14a295",
   "metadata": {
    "scrolled": true
   },
   "outputs": [],
   "source": [
    "# from pandas_profiling import ProfileReport\n",
    "# profile = ProfileReport(df, title=\"Pandas Profiling Report\", explorative=True)\n",
    "\n",
    "# profile.to_notebook_iframe()"
   ]
  },
  {
   "cell_type": "markdown",
   "id": "10b154d0",
   "metadata": {
    "id": "10b154d0"
   },
   "source": [
    "# EDA"
   ]
  },
  {
   "cell_type": "code",
   "execution_count": 6,
   "id": "6beaaf43",
   "metadata": {
    "id": "6beaaf43",
    "outputId": "d112a2dc-b0d9-4739-dad9-d9267dc47dd5"
   },
   "outputs": [
    {
     "name": "stdout",
     "output_type": "stream",
     "text": [
      "<class 'pandas.core.frame.DataFrame'>\n",
      "RangeIndex: 8523 entries, 0 to 8522\n",
      "Data columns (total 12 columns):\n",
      " #   Column                     Non-Null Count  Dtype  \n",
      "---  ------                     --------------  -----  \n",
      " 0   Item_Identifier            8523 non-null   object \n",
      " 1   Item_Weight                7060 non-null   float64\n",
      " 2   Item_Fat_Content           8523 non-null   object \n",
      " 3   Item_Visibility            8523 non-null   float64\n",
      " 4   Item_Type                  8523 non-null   object \n",
      " 5   Item_MRP                   8523 non-null   float64\n",
      " 6   Outlet_Identifier          8523 non-null   object \n",
      " 7   Outlet_Establishment_Year  8523 non-null   int64  \n",
      " 8   Outlet_Size                6113 non-null   object \n",
      " 9   Outlet_Location_Type       8523 non-null   object \n",
      " 10  Outlet_Type                8523 non-null   object \n",
      " 11  Item_Outlet_Sales          8523 non-null   float64\n",
      "dtypes: float64(4), int64(1), object(7)\n",
      "memory usage: 799.2+ KB\n"
     ]
    }
   ],
   "source": [
    "df.info()"
   ]
  },
  {
   "cell_type": "code",
   "execution_count": 7,
   "id": "7c42c620",
   "metadata": {
    "id": "7c42c620",
    "outputId": "3ad55a6d-8146-4441-906d-cae302924c1e"
   },
   "outputs": [
    {
     "data": {
      "text/html": [
       "<div>\n",
       "<style scoped>\n",
       "    .dataframe tbody tr th:only-of-type {\n",
       "        vertical-align: middle;\n",
       "    }\n",
       "\n",
       "    .dataframe tbody tr th {\n",
       "        vertical-align: top;\n",
       "    }\n",
       "\n",
       "    .dataframe thead th {\n",
       "        text-align: right;\n",
       "    }\n",
       "</style>\n",
       "<table border=\"1\" class=\"dataframe\">\n",
       "  <thead>\n",
       "    <tr style=\"text-align: right;\">\n",
       "      <th></th>\n",
       "      <th>Item_Weight</th>\n",
       "      <th>Item_Visibility</th>\n",
       "      <th>Item_MRP</th>\n",
       "      <th>Outlet_Establishment_Year</th>\n",
       "      <th>Item_Outlet_Sales</th>\n",
       "    </tr>\n",
       "  </thead>\n",
       "  <tbody>\n",
       "    <tr>\n",
       "      <th>count</th>\n",
       "      <td>7060.000000</td>\n",
       "      <td>8523.000000</td>\n",
       "      <td>8523.000000</td>\n",
       "      <td>8523.000000</td>\n",
       "      <td>8523.000000</td>\n",
       "    </tr>\n",
       "    <tr>\n",
       "      <th>mean</th>\n",
       "      <td>12.857645</td>\n",
       "      <td>0.066132</td>\n",
       "      <td>140.992782</td>\n",
       "      <td>1997.831867</td>\n",
       "      <td>2181.288914</td>\n",
       "    </tr>\n",
       "    <tr>\n",
       "      <th>std</th>\n",
       "      <td>4.643456</td>\n",
       "      <td>0.051598</td>\n",
       "      <td>62.275067</td>\n",
       "      <td>8.371760</td>\n",
       "      <td>1706.499616</td>\n",
       "    </tr>\n",
       "    <tr>\n",
       "      <th>min</th>\n",
       "      <td>4.555000</td>\n",
       "      <td>0.000000</td>\n",
       "      <td>31.290000</td>\n",
       "      <td>1985.000000</td>\n",
       "      <td>33.290000</td>\n",
       "    </tr>\n",
       "    <tr>\n",
       "      <th>25%</th>\n",
       "      <td>8.773750</td>\n",
       "      <td>0.026989</td>\n",
       "      <td>93.826500</td>\n",
       "      <td>1987.000000</td>\n",
       "      <td>834.247400</td>\n",
       "    </tr>\n",
       "    <tr>\n",
       "      <th>50%</th>\n",
       "      <td>12.600000</td>\n",
       "      <td>0.053931</td>\n",
       "      <td>143.012800</td>\n",
       "      <td>1999.000000</td>\n",
       "      <td>1794.331000</td>\n",
       "    </tr>\n",
       "    <tr>\n",
       "      <th>75%</th>\n",
       "      <td>16.850000</td>\n",
       "      <td>0.094585</td>\n",
       "      <td>185.643700</td>\n",
       "      <td>2004.000000</td>\n",
       "      <td>3101.296400</td>\n",
       "    </tr>\n",
       "    <tr>\n",
       "      <th>max</th>\n",
       "      <td>21.350000</td>\n",
       "      <td>0.328391</td>\n",
       "      <td>266.888400</td>\n",
       "      <td>2009.000000</td>\n",
       "      <td>13086.964800</td>\n",
       "    </tr>\n",
       "  </tbody>\n",
       "</table>\n",
       "</div>"
      ],
      "text/plain": [
       "       Item_Weight  Item_Visibility     Item_MRP  Outlet_Establishment_Year  \\\n",
       "count  7060.000000      8523.000000  8523.000000                8523.000000   \n",
       "mean     12.857645         0.066132   140.992782                1997.831867   \n",
       "std       4.643456         0.051598    62.275067                   8.371760   \n",
       "min       4.555000         0.000000    31.290000                1985.000000   \n",
       "25%       8.773750         0.026989    93.826500                1987.000000   \n",
       "50%      12.600000         0.053931   143.012800                1999.000000   \n",
       "75%      16.850000         0.094585   185.643700                2004.000000   \n",
       "max      21.350000         0.328391   266.888400                2009.000000   \n",
       "\n",
       "       Item_Outlet_Sales  \n",
       "count        8523.000000  \n",
       "mean         2181.288914  \n",
       "std          1706.499616  \n",
       "min            33.290000  \n",
       "25%           834.247400  \n",
       "50%          1794.331000  \n",
       "75%          3101.296400  \n",
       "max         13086.964800  "
      ]
     },
     "execution_count": 7,
     "metadata": {},
     "output_type": "execute_result"
    }
   ],
   "source": [
    "df.describe()"
   ]
  },
  {
   "cell_type": "code",
   "execution_count": 8,
   "id": "15fe7b6d",
   "metadata": {
    "id": "15fe7b6d",
    "outputId": "307324bd-c33f-4770-846c-1a447ffb544c"
   },
   "outputs": [
    {
     "data": {
      "text/plain": [
       "Item_Identifier                 0\n",
       "Item_Weight                  1463\n",
       "Item_Fat_Content                0\n",
       "Item_Visibility                 0\n",
       "Item_Type                       0\n",
       "Item_MRP                        0\n",
       "Outlet_Identifier               0\n",
       "Outlet_Establishment_Year       0\n",
       "Outlet_Size                  2410\n",
       "Outlet_Location_Type            0\n",
       "Outlet_Type                     0\n",
       "Item_Outlet_Sales               0\n",
       "dtype: int64"
      ]
     },
     "execution_count": 8,
     "metadata": {},
     "output_type": "execute_result"
    }
   ],
   "source": [
    "## Ceaking for missing values\n",
    "\n",
    "df.isnull().sum()"
   ]
  },
  {
   "cell_type": "code",
   "execution_count": 9,
   "id": "26318afb",
   "metadata": {
    "id": "26318afb",
    "outputId": "dde650b5-03a0-4f9b-f39b-2785caca657d"
   },
   "outputs": [
    {
     "data": {
      "text/plain": [
       "0"
      ]
     },
     "execution_count": 9,
     "metadata": {},
     "output_type": "execute_result"
    }
   ],
   "source": [
    "## Cheak for duplicate data\n",
    "\n",
    "df.duplicated().sum()"
   ]
  },
  {
   "cell_type": "markdown",
   "id": "d7c666bb",
   "metadata": {
    "id": "d7c666bb"
   },
   "source": [
    "## Remark\n",
    "\n",
    "1. Missing values in Item_Weight,Outlet_Size\n",
    "2. No duplicates row"
   ]
  },
  {
   "cell_type": "code",
   "execution_count": 10,
   "id": "78573fed",
   "metadata": {
    "id": "78573fed"
   },
   "outputs": [],
   "source": [
    "## Creating two list of attriutes\n",
    "\n",
    "Categorical = [i for i in df.columns if df[i].dtypes == 'object']\n",
    "Numerical = [i for i in df.columns if df[i].dtypes != 'object' and i not in Categorical]"
   ]
  },
  {
   "cell_type": "markdown",
   "id": "O8iJCCDMMCIv",
   "metadata": {
    "id": "O8iJCCDMMCIv"
   },
   "source": [
    "## Summary of Categorial data"
   ]
  },
  {
   "cell_type": "code",
   "execution_count": 11,
   "id": "73f4f2e7",
   "metadata": {
    "id": "73f4f2e7",
    "outputId": "412cc5c5-c49c-4a96-c0dd-2f401dcb3c0e"
   },
   "outputs": [
    {
     "data": {
      "text/html": [
       "<div>\n",
       "<style scoped>\n",
       "    .dataframe tbody tr th:only-of-type {\n",
       "        vertical-align: middle;\n",
       "    }\n",
       "\n",
       "    .dataframe tbody tr th {\n",
       "        vertical-align: top;\n",
       "    }\n",
       "\n",
       "    .dataframe thead th {\n",
       "        text-align: right;\n",
       "    }\n",
       "</style>\n",
       "<table border=\"1\" class=\"dataframe\">\n",
       "  <thead>\n",
       "    <tr style=\"text-align: right;\">\n",
       "      <th></th>\n",
       "      <th>columns</th>\n",
       "      <th>values</th>\n",
       "      <th>inc_na</th>\n",
       "      <th>exc_na</th>\n",
       "      <th>mode</th>\n",
       "      <th>missval</th>\n",
       "      <th>%_missval</th>\n",
       "    </tr>\n",
       "  </thead>\n",
       "  <tbody>\n",
       "    <tr>\n",
       "      <th>0</th>\n",
       "      <td>Outlet_Type</td>\n",
       "      <td>[Supermarket Type1, Supermarket Type2, Grocery...</td>\n",
       "      <td>4</td>\n",
       "      <td>4</td>\n",
       "      <td>Supermarket Type1</td>\n",
       "      <td>0</td>\n",
       "      <td>0.000000</td>\n",
       "    </tr>\n",
       "    <tr>\n",
       "      <th>1</th>\n",
       "      <td>Outlet_Location_Type</td>\n",
       "      <td>[Tier 1, Tier 3, Tier 2]</td>\n",
       "      <td>3</td>\n",
       "      <td>3</td>\n",
       "      <td>Tier 3</td>\n",
       "      <td>0</td>\n",
       "      <td>0.000000</td>\n",
       "    </tr>\n",
       "    <tr>\n",
       "      <th>2</th>\n",
       "      <td>Outlet_Size</td>\n",
       "      <td>[Medium, nan, High, Small]</td>\n",
       "      <td>4</td>\n",
       "      <td>3</td>\n",
       "      <td>Medium</td>\n",
       "      <td>2410</td>\n",
       "      <td>28.276428</td>\n",
       "    </tr>\n",
       "    <tr>\n",
       "      <th>3</th>\n",
       "      <td>Outlet_Identifier</td>\n",
       "      <td>[OUT049, OUT018, OUT010, OUT013, OUT027, OUT04...</td>\n",
       "      <td>10</td>\n",
       "      <td>10</td>\n",
       "      <td>OUT027</td>\n",
       "      <td>0</td>\n",
       "      <td>0.000000</td>\n",
       "    </tr>\n",
       "    <tr>\n",
       "      <th>4</th>\n",
       "      <td>Item_Type</td>\n",
       "      <td>[Dairy, Soft Drinks, Meat, Fruits and Vegetabl...</td>\n",
       "      <td>16</td>\n",
       "      <td>16</td>\n",
       "      <td>Fruits and Vegetables</td>\n",
       "      <td>0</td>\n",
       "      <td>0.000000</td>\n",
       "    </tr>\n",
       "    <tr>\n",
       "      <th>5</th>\n",
       "      <td>Item_Fat_Content</td>\n",
       "      <td>[Low Fat, Regular, low fat, LF, reg]</td>\n",
       "      <td>5</td>\n",
       "      <td>5</td>\n",
       "      <td>Low Fat</td>\n",
       "      <td>0</td>\n",
       "      <td>0.000000</td>\n",
       "    </tr>\n",
       "    <tr>\n",
       "      <th>6</th>\n",
       "      <td>Item_Identifier</td>\n",
       "      <td>[FDA15, DRC01, FDN15, FDX07, NCD19, FDP36, FDO...</td>\n",
       "      <td>1559</td>\n",
       "      <td>1559</td>\n",
       "      <td>FDG33</td>\n",
       "      <td>0</td>\n",
       "      <td>0.000000</td>\n",
       "    </tr>\n",
       "  </tbody>\n",
       "</table>\n",
       "</div>"
      ],
      "text/plain": [
       "                columns                                             values  \\\n",
       "0           Outlet_Type  [Supermarket Type1, Supermarket Type2, Grocery...   \n",
       "1  Outlet_Location_Type                           [Tier 1, Tier 3, Tier 2]   \n",
       "2           Outlet_Size                         [Medium, nan, High, Small]   \n",
       "3     Outlet_Identifier  [OUT049, OUT018, OUT010, OUT013, OUT027, OUT04...   \n",
       "4             Item_Type  [Dairy, Soft Drinks, Meat, Fruits and Vegetabl...   \n",
       "5      Item_Fat_Content               [Low Fat, Regular, low fat, LF, reg]   \n",
       "6       Item_Identifier  [FDA15, DRC01, FDN15, FDX07, NCD19, FDP36, FDO...   \n",
       "\n",
       "  inc_na exc_na                   mode missval  %_missval  \n",
       "0      4      4      Supermarket Type1       0   0.000000  \n",
       "1      3      3                 Tier 3       0   0.000000  \n",
       "2      4      3                 Medium    2410  28.276428  \n",
       "3     10     10                 OUT027       0   0.000000  \n",
       "4     16     16  Fruits and Vegetables       0   0.000000  \n",
       "5      5      5                Low Fat       0   0.000000  \n",
       "6   1559   1559                  FDG33       0   0.000000  "
      ]
     },
     "execution_count": 11,
     "metadata": {},
     "output_type": "execute_result"
    }
   ],
   "source": [
    "#Summary of Categorial data\n",
    "\n",
    "Categorical_summary = pd.DataFrame(columns=['columns', 'values', 'inc_na', 'exc_na', 'mode', 'missval', '%_missval'])\n",
    "temp = pd.DataFrame()\n",
    "\n",
    "for i in Categorical:\n",
    "    temp['columns'] = [i]\n",
    "    temp['values'] = [df[i].unique()]\n",
    "    temp['inc_na'] = len(df[i].unique())\n",
    "    temp['exc_na'] = df[i].nunique()\n",
    "    temp['mode'] = df[i].mode()[0]\n",
    "    temp['missval'] = df[i].isnull().sum()\n",
    "    temp['%_missval'] = (df[i].isnull().sum()/len(df))*100\n",
    "    Categorical_summary = pd.concat([temp,Categorical_summary],ignore_index=True)\n",
    "    \n",
    "Categorical_summary"
   ]
  },
  {
   "cell_type": "code",
   "execution_count": 12,
   "id": "bb9a1910",
   "metadata": {
    "id": "bb9a1910",
    "outputId": "9c90f40c-7f34-4dcc-f51e-5ca88c28284e",
    "scrolled": false
   },
   "outputs": [
    {
     "data": {
      "image/png": "[encoded data removed]",
      "text/plain": [
       "<Figure size 1080x504 with 1 Axes>"
      ]
     },
     "metadata": {
      "needs_background": "light"
     },
     "output_type": "display_data"
    },
    {
     "data": {
      "image/png": "[encoded data removed]",
      "text/plain": [
       "<Figure size 1080x504 with 1 Axes>"
      ]
     },
     "metadata": {
      "needs_background": "light"
     },
     "output_type": "display_data"
    },
    {
     "data": {
      "image/png": "[encoded data removed]",
      "text/plain": [
       "<Figure size 1080x504 with 1 Axes>"
      ]
     },
     "metadata": {
      "needs_background": "light"
     },
     "output_type": "display_data"
    },
    {
     "data": {
      "image/png": "[encoded data removed]",
      "text/plain": [
       "<Figure size 1080x504 with 1 Axes>"
      ]
     },
     "metadata": {
      "needs_background": "light"
     },
     "output_type": "display_data"
    },
    {
     "data": {
      "image/png": "[encoded data removed]",
      "text/plain": [
       "<Figure size 1080x504 with 1 Axes>"
      ]
     },
     "metadata": {
      "needs_background": "light"
     },
     "output_type": "display_data"
    },
    {
     "data": {
      "image/png": "[encoded data removed]",
      "text/plain": [
       "<Figure size 1080x504 with 1 Axes>"
      ]
     },
     "metadata": {
      "needs_background": "light"
     },
     "output_type": "display_data"
    }
   ],
   "source": [
    "# Count plot of Categorical variable\n",
    "\n",
    "for feature in Categorical:\n",
    "    if feature != 'Item_Identifier':\n",
    "        data = df.copy()\n",
    "        plt.figure(figsize=(15,7))\n",
    "        sns.countplot(x=data[feature])\n",
    "        plt.title(feature, size=20)\n",
    "        plt.show()"
   ]
  },
  {
   "cell_type": "markdown",
   "id": "5e2c526f",
   "metadata": {
    "id": "5e2c526f"
   },
   "source": [
    "## Remark\n",
    "1. In Item_Fat_Content the categories Low Fat, low fat, LF same\n",
    "2. In Item_Fat_Content the categories Reegular and reg are same"
   ]
  },
  {
   "cell_type": "code",
   "execution_count": 13,
   "id": "b72ef207",
   "metadata": {
    "id": "b72ef207",
    "outputId": "720dc699-bf4d-4ba9-8d6a-df5bbbb0a8c2",
    "scrolled": false
   },
   "outputs": [
    {
     "data": {
      "image/png": "[encoded data removed]",
      "text/plain": [
       "<Figure size 1080x504 with 1 Axes>"
      ]
     },
     "metadata": {
      "needs_background": "light"
     },
     "output_type": "display_data"
    },
    {
     "data": {
      "image/png": "[encoded data removed]",
      "text/plain": [
       "<Figure size 1080x504 with 1 Axes>"
      ]
     },
     "metadata": {
      "needs_background": "light"
     },
     "output_type": "display_data"
    },
    {
     "data": {
      "image/png": "[encoded data removed]",
      "text/plain": [
       "<Figure size 1080x504 with 1 Axes>"
      ]
     },
     "metadata": {
      "needs_background": "light"
     },
     "output_type": "display_data"
    },
    {
     "data": {
      "image/png": "[encoded data removed]",
      "text/plain": [
       "<Figure size 1080x504 with 1 Axes>"
      ]
     },
     "metadata": {
      "needs_background": "light"
     },
     "output_type": "display_data"
    },
    {
     "data": {
      "image/png": "[encoded data removed]",
      "text/plain": [
       "<Figure size 1080x504 with 1 Axes>"
      ]
     },
     "metadata": {
      "needs_background": "light"
     },
     "output_type": "display_data"
    },
    {
     "data": {
      "image/png": "[encoded data removed]",
      "text/plain": [
       "<Figure size 1080x504 with 1 Axes>"
      ]
     },
     "metadata": {
      "needs_background": "light"
     },
     "output_type": "display_data"
    }
   ],
   "source": [
    "# Relationship Between Categorical Variable and Item_Outlet_Sales\n",
    "\n",
    "for feature in Categorical:\n",
    "    if feature != 'Item_Identifier':\n",
    "        data = df.copy()\n",
    "        plt.figure(figsize=(15,7))\n",
    "        sns.boxplot(x=data[feature],y=data.Item_Outlet_Sales)\n",
    "        plt.title(feature, size=20)\n",
    "        plt.show()"
   ]
  },
  {
   "cell_type": "markdown",
   "id": "m6E7a6pCMH_0",
   "metadata": {
    "id": "m6E7a6pCMH_0"
   },
   "source": [
    "## Summary of Nuerical data"
   ]
  },
  {
   "cell_type": "code",
   "execution_count": 14,
   "id": "e03f2b8d",
   "metadata": {
    "id": "e03f2b8d",
    "outputId": "7e13c8bf-215b-4092-858b-e5cd633d968d"
   },
   "outputs": [
    {
     "data": {
      "text/html": [
       "<div>\n",
       "<style scoped>\n",
       "    .dataframe tbody tr th:only-of-type {\n",
       "        vertical-align: middle;\n",
       "    }\n",
       "\n",
       "    .dataframe tbody tr th {\n",
       "        vertical-align: top;\n",
       "    }\n",
       "\n",
       "    .dataframe thead th {\n",
       "        text-align: right;\n",
       "    }\n",
       "</style>\n",
       "<table border=\"1\" class=\"dataframe\">\n",
       "  <thead>\n",
       "    <tr style=\"text-align: right;\">\n",
       "      <th></th>\n",
       "      <th>columns</th>\n",
       "      <th>Min</th>\n",
       "      <th>1st_Quartile</th>\n",
       "      <th>Median</th>\n",
       "      <th>3rd_Quartile</th>\n",
       "      <th>Max</th>\n",
       "      <th>Mean</th>\n",
       "      <th>Variance</th>\n",
       "      <th>Skewness</th>\n",
       "      <th>Kurtosis</th>\n",
       "      <th>MissingVals</th>\n",
       "      <th>%_MissingVals</th>\n",
       "      <th>IQR</th>\n",
       "      <th>lower</th>\n",
       "      <th>upper</th>\n",
       "      <th>Outlier_lower</th>\n",
       "      <th>Outlier_upper</th>\n",
       "    </tr>\n",
       "  </thead>\n",
       "  <tbody>\n",
       "    <tr>\n",
       "      <th>0</th>\n",
       "      <td>Item_Outlet_Sales</td>\n",
       "      <td>33.290</td>\n",
       "      <td>834.247400</td>\n",
       "      <td>1794.331000</td>\n",
       "      <td>3101.296400</td>\n",
       "      <td>13086.964800</td>\n",
       "      <td>2181.288914</td>\n",
       "      <td>2.912141e+06</td>\n",
       "      <td>1.177323</td>\n",
       "      <td>1.614225</td>\n",
       "      <td>0</td>\n",
       "      <td>0.000000</td>\n",
       "      <td>2267.049000</td>\n",
       "      <td>-2566.326100</td>\n",
       "      <td>6501.869900</td>\n",
       "      <td>0</td>\n",
       "      <td>186</td>\n",
       "    </tr>\n",
       "    <tr>\n",
       "      <th>1</th>\n",
       "      <td>Outlet_Establishment_Year</td>\n",
       "      <td>1985.000</td>\n",
       "      <td>1987.000000</td>\n",
       "      <td>1999.000000</td>\n",
       "      <td>2004.000000</td>\n",
       "      <td>2009.000000</td>\n",
       "      <td>1997.831867</td>\n",
       "      <td>7.008637e+01</td>\n",
       "      <td>-0.396571</td>\n",
       "      <td>-1.205691</td>\n",
       "      <td>0</td>\n",
       "      <td>0.000000</td>\n",
       "      <td>17.000000</td>\n",
       "      <td>1961.500000</td>\n",
       "      <td>2029.500000</td>\n",
       "      <td>0</td>\n",
       "      <td>0</td>\n",
       "    </tr>\n",
       "    <tr>\n",
       "      <th>2</th>\n",
       "      <td>Item_MRP</td>\n",
       "      <td>31.290</td>\n",
       "      <td>93.826500</td>\n",
       "      <td>143.012800</td>\n",
       "      <td>185.643700</td>\n",
       "      <td>266.888400</td>\n",
       "      <td>140.992782</td>\n",
       "      <td>3.878184e+03</td>\n",
       "      <td>0.127180</td>\n",
       "      <td>-0.889951</td>\n",
       "      <td>0</td>\n",
       "      <td>0.000000</td>\n",
       "      <td>91.817200</td>\n",
       "      <td>-43.899300</td>\n",
       "      <td>323.369500</td>\n",
       "      <td>0</td>\n",
       "      <td>0</td>\n",
       "    </tr>\n",
       "    <tr>\n",
       "      <th>3</th>\n",
       "      <td>Item_Visibility</td>\n",
       "      <td>0.000</td>\n",
       "      <td>0.026989</td>\n",
       "      <td>0.053931</td>\n",
       "      <td>0.094585</td>\n",
       "      <td>0.328391</td>\n",
       "      <td>0.066132</td>\n",
       "      <td>2.662335e-03</td>\n",
       "      <td>1.166885</td>\n",
       "      <td>1.677757</td>\n",
       "      <td>0</td>\n",
       "      <td>0.000000</td>\n",
       "      <td>0.067596</td>\n",
       "      <td>-0.074404</td>\n",
       "      <td>0.195979</td>\n",
       "      <td>0</td>\n",
       "      <td>144</td>\n",
       "    </tr>\n",
       "    <tr>\n",
       "      <th>4</th>\n",
       "      <td>Item_Weight</td>\n",
       "      <td>4.555</td>\n",
       "      <td>8.773750</td>\n",
       "      <td>12.600000</td>\n",
       "      <td>16.850000</td>\n",
       "      <td>21.350000</td>\n",
       "      <td>12.857645</td>\n",
       "      <td>2.156169e+01</td>\n",
       "      <td>NaN</td>\n",
       "      <td>NaN</td>\n",
       "      <td>1463</td>\n",
       "      <td>17.165317</td>\n",
       "      <td>8.076250</td>\n",
       "      <td>-3.340625</td>\n",
       "      <td>28.964375</td>\n",
       "      <td>0</td>\n",
       "      <td>0</td>\n",
       "    </tr>\n",
       "  </tbody>\n",
       "</table>\n",
       "</div>"
      ],
      "text/plain": [
       "                     columns       Min  1st_Quartile       Median  \\\n",
       "0          Item_Outlet_Sales    33.290    834.247400  1794.331000   \n",
       "1  Outlet_Establishment_Year  1985.000   1987.000000  1999.000000   \n",
       "2                   Item_MRP    31.290     93.826500   143.012800   \n",
       "3            Item_Visibility     0.000      0.026989     0.053931   \n",
       "4                Item_Weight     4.555      8.773750    12.600000   \n",
       "\n",
       "   3rd_Quartile           Max         Mean      Variance  Skewness  Kurtosis  \\\n",
       "0   3101.296400  13086.964800  2181.288914  2.912141e+06  1.177323  1.614225   \n",
       "1   2004.000000   2009.000000  1997.831867  7.008637e+01 -0.396571 -1.205691   \n",
       "2    185.643700    266.888400   140.992782  3.878184e+03  0.127180 -0.889951   \n",
       "3      0.094585      0.328391     0.066132  2.662335e-03  1.166885  1.677757   \n",
       "4     16.850000     21.350000    12.857645  2.156169e+01       NaN       NaN   \n",
       "\n",
       "  MissingVals  %_MissingVals          IQR        lower        upper  \\\n",
       "0           0       0.000000  2267.049000 -2566.326100  6501.869900   \n",
       "1           0       0.000000    17.000000  1961.500000  2029.500000   \n",
       "2           0       0.000000    91.817200   -43.899300   323.369500   \n",
       "3           0       0.000000     0.067596    -0.074404     0.195979   \n",
       "4        1463      17.165317     8.076250    -3.340625    28.964375   \n",
       "\n",
       "  Outlier_lower Outlier_upper  \n",
       "0             0           186  \n",
       "1             0             0  \n",
       "2             0             0  \n",
       "3             0           144  \n",
       "4             0             0  "
      ]
     },
     "execution_count": 14,
     "metadata": {},
     "output_type": "execute_result"
    }
   ],
   "source": [
    "#Summary of Nuerical data\n",
    "from scipy.stats import skew, kurtosis\n",
    "\n",
    "Numerical_summary = pd.DataFrame(columns=['columns','Min','1st_Quartile','Median','3rd_Quartile','Max','Mean','Variance',\n",
    "                                          'Skewness','Kurtosis','MissingVals','%_MissingVals','IQR','lower','upper',\n",
    "                                          'Outlier_upper','Outlier_lower'])\n",
    "temp = pd.DataFrame()\n",
    "for i in Numerical:\n",
    "    temp['columns'] = [i]\n",
    "    temp['Min'] = df[i].min()\n",
    "    temp['1st_Quartile'] = df[i].quantile(0.25)\n",
    "    temp['Median'] = df[i].quantile(0.5)\n",
    "    temp['3rd_Quartile'] = df[i].quantile(0.75)\n",
    "    temp['Max'] = df[i].max()\n",
    "    temp['Mean'] = df[i].mean()\n",
    "    temp['Variance'] = df[i].var()\n",
    "    temp['Skewness'] = skew(df[i], axis=0, bias=True)\n",
    "    temp['Kurtosis'] = kurtosis(df[i], axis=0, fisher=True, bias=True)\n",
    "    temp['MissingVals'] = df[i].isnull().sum()\n",
    "    temp['%_MissingVals'] = df[i].isnull().sum()/len(df)*100\n",
    "    temp['IQR'] = df[i].quantile(0.75) - df[i].quantile(0.25)\n",
    "    temp['lower'] = df[i].quantile(0.25) - 1.5*temp['IQR']\n",
    "    temp['upper'] = df[i].quantile(0.75) + 1.5*temp['IQR']\n",
    "    temp['Outlier_lower'] = len(df.loc[df[i]<float(temp['lower'])])\n",
    "    temp['Outlier_upper'] = len(df.loc[df[i]>float(temp['upper'])])\n",
    "    Numerical_summary = pd.concat([temp,Numerical_summary],ignore_index=True)\n",
    "    \n",
    "Numerical_summary"
   ]
  },
  {
   "cell_type": "code",
   "execution_count": 15,
   "id": "36af5548",
   "metadata": {
    "id": "36af5548",
    "outputId": "26de3fb1-3f46-4daa-cdfb-1c5f657cec53",
    "scrolled": false
   },
   "outputs": [
    {
     "data": {
      "image/png": "[encoded data removed]",
      "text/plain": [
       "<Figure size 1080x360 with 2 Axes>"
      ]
     },
     "metadata": {
      "needs_background": "light"
     },
     "output_type": "display_data"
    },
    {
     "data": {
      "image/png": "[encoded data removed]",
      "text/plain": [
       "<Figure size 1080x360 with 2 Axes>"
      ]
     },
     "metadata": {
      "needs_background": "light"
     },
     "output_type": "display_data"
    },
    {
     "data": {
      "image/png": "[encoded data removed]",
      "text/plain": [
       "<Figure size 1080x360 with 2 Axes>"
      ]
     },
     "metadata": {
      "needs_background": "light"
     },
     "output_type": "display_data"
    },
    {
     "data": {
      "image/png": "[encoded data removed]",
      "text/plain": [
       "<Figure size 1080x360 with 2 Axes>"
      ]
     },
     "metadata": {
      "needs_background": "light"
     },
     "output_type": "display_data"
    },
    {
     "data": {
      "image/png": "[encoded data removed]",
      "text/plain": [
       "<Figure size 1080x360 with 2 Axes>"
      ]
     },
     "metadata": {
      "needs_background": "light"
     },
     "output_type": "display_data"
    }
   ],
   "source": [
    "## plot Histogram and Boxplot to see the distribution and outliers\n",
    "\n",
    "for feature in Numerical:\n",
    "    fig = plt.figure(figsize = (15,5))\n",
    "    ax1 = fig.add_subplot(1,2,1)\n",
    "    sns.histplot(x=feature, data=df, color='red',ax = ax1)\n",
    "    ax2 = fig.add_subplot(1,2,2)\n",
    "    sns.boxplot(x=feature, data=df, ax = ax2)"
   ]
  },
  {
   "cell_type": "markdown",
   "id": "35de9f5c",
   "metadata": {
    "id": "35de9f5c"
   },
   "source": [
    "## Remark\n",
    "1. **Item_Visibility** and **Item_Outlet_Sales** have outliers and positivly skew."
   ]
  },
  {
   "cell_type": "code",
   "execution_count": 16,
   "id": "f5bf2735",
   "metadata": {
    "id": "f5bf2735",
    "outputId": "7cb36854-e804-49d5-9438-873ddd47ca7e",
    "scrolled": false
   },
   "outputs": [
    {
     "data": {
      "text/html": [
       "<div>\n",
       "<style scoped>\n",
       "    .dataframe tbody tr th:only-of-type {\n",
       "        vertical-align: middle;\n",
       "    }\n",
       "\n",
       "    .dataframe tbody tr th {\n",
       "        vertical-align: top;\n",
       "    }\n",
       "\n",
       "    .dataframe thead th {\n",
       "        text-align: right;\n",
       "    }\n",
       "</style>\n",
       "<table border=\"1\" class=\"dataframe\">\n",
       "  <thead>\n",
       "    <tr style=\"text-align: right;\">\n",
       "      <th></th>\n",
       "      <th>Item_Weight</th>\n",
       "      <th>Item_Visibility</th>\n",
       "      <th>Item_MRP</th>\n",
       "      <th>Outlet_Establishment_Year</th>\n",
       "      <th>Item_Outlet_Sales</th>\n",
       "    </tr>\n",
       "  </thead>\n",
       "  <tbody>\n",
       "    <tr>\n",
       "      <th>Item_Weight</th>\n",
       "      <td>1.000000</td>\n",
       "      <td>-0.014048</td>\n",
       "      <td>0.027141</td>\n",
       "      <td>-0.011588</td>\n",
       "      <td>0.014123</td>\n",
       "    </tr>\n",
       "    <tr>\n",
       "      <th>Item_Visibility</th>\n",
       "      <td>-0.014048</td>\n",
       "      <td>1.000000</td>\n",
       "      <td>-0.001315</td>\n",
       "      <td>-0.074834</td>\n",
       "      <td>-0.128625</td>\n",
       "    </tr>\n",
       "    <tr>\n",
       "      <th>Item_MRP</th>\n",
       "      <td>0.027141</td>\n",
       "      <td>-0.001315</td>\n",
       "      <td>1.000000</td>\n",
       "      <td>0.005020</td>\n",
       "      <td>0.567574</td>\n",
       "    </tr>\n",
       "    <tr>\n",
       "      <th>Outlet_Establishment_Year</th>\n",
       "      <td>-0.011588</td>\n",
       "      <td>-0.074834</td>\n",
       "      <td>0.005020</td>\n",
       "      <td>1.000000</td>\n",
       "      <td>-0.049135</td>\n",
       "    </tr>\n",
       "    <tr>\n",
       "      <th>Item_Outlet_Sales</th>\n",
       "      <td>0.014123</td>\n",
       "      <td>-0.128625</td>\n",
       "      <td>0.567574</td>\n",
       "      <td>-0.049135</td>\n",
       "      <td>1.000000</td>\n",
       "    </tr>\n",
       "  </tbody>\n",
       "</table>\n",
       "</div>"
      ],
      "text/plain": [
       "                           Item_Weight  Item_Visibility  Item_MRP  \\\n",
       "Item_Weight                   1.000000        -0.014048  0.027141   \n",
       "Item_Visibility              -0.014048         1.000000 -0.001315   \n",
       "Item_MRP                      0.027141        -0.001315  1.000000   \n",
       "Outlet_Establishment_Year    -0.011588        -0.074834  0.005020   \n",
       "Item_Outlet_Sales             0.014123        -0.128625  0.567574   \n",
       "\n",
       "                           Outlet_Establishment_Year  Item_Outlet_Sales  \n",
       "Item_Weight                                -0.011588           0.014123  \n",
       "Item_Visibility                            -0.074834          -0.128625  \n",
       "Item_MRP                                    0.005020           0.567574  \n",
       "Outlet_Establishment_Year                   1.000000          -0.049135  \n",
       "Item_Outlet_Sales                          -0.049135           1.000000  "
      ]
     },
     "execution_count": 16,
     "metadata": {},
     "output_type": "execute_result"
    }
   ],
   "source": [
    "## Correlation Matrix\n",
    "\n",
    "df.corr()"
   ]
  },
  {
   "cell_type": "code",
   "execution_count": 17,
   "id": "7d766e9a",
   "metadata": {
    "id": "7d766e9a",
    "outputId": "3001d2e7-735f-4db4-dfe4-6cfd76305ae9",
    "scrolled": false
   },
   "outputs": [
    {
     "data": {
      "text/plain": [
       "<AxesSubplot:>"
      ]
     },
     "execution_count": 17,
     "metadata": {},
     "output_type": "execute_result"
    },
    {
     "data": {
      "image/png": "[encoded data removed]",
      "text/plain": [
       "<Figure size 432x288 with 2 Axes>"
      ]
     },
     "metadata": {
      "needs_background": "light"
     },
     "output_type": "display_data"
    }
   ],
   "source": [
    "sns.heatmap(df.corr(), annot=True)"
   ]
  },
  {
   "cell_type": "markdown",
   "id": "f0dda240",
   "metadata": {},
   "source": [
    "## Report\n",
    "1. Correlation between **Item_Weight** and **Item_Outlet_Sales** is very **low**\n",
    "2. Correlation between **Item_Visibility** and **Item_Outlet_Sales** is very **low**\n",
    "3. Correlation between **Outlet_Establishment_Year** and **Item_Outlet_Sales** is very **low**"
   ]
  },
  {
   "cell_type": "markdown",
   "id": "01d665ba",
   "metadata": {
    "id": "01d665ba"
   },
   "source": [
    "# Feature Engineering"
   ]
  },
  {
   "cell_type": "code",
   "execution_count": 18,
   "id": "0fd8ede1",
   "metadata": {
    "id": "0fd8ede1"
   },
   "outputs": [],
   "source": [
    "df1 = df.copy()"
   ]
  },
  {
   "cell_type": "markdown",
   "id": "53645d7d",
   "metadata": {
    "id": "53645d7d"
   },
   "source": [
    "## 1. Missing Value Imputation\n",
    "\n",
    "Here wee have one categorical(Outlet_Size) and one numerical(Item_Weight) attribute with missing values."
   ]
  },
  {
   "cell_type": "code",
   "execution_count": 19,
   "id": "6b22d2c5",
   "metadata": {},
   "outputs": [
    {
     "data": {
      "text/plain": [
       "12.858"
      ]
     },
     "execution_count": 19,
     "metadata": {},
     "output_type": "execute_result"
    }
   ],
   "source": [
    "round(df1['Item_Weight'].mean(),3)"
   ]
  },
  {
   "cell_type": "code",
   "execution_count": 20,
   "id": "0671474c",
   "metadata": {
    "id": "0671474c"
   },
   "outputs": [],
   "source": [
    "## Creating a function which impute missing values of a numerical variable with it's median and with it's rando number\n",
    "\n",
    "def Missing_Value_Imputation_with_Random(data,feature,median,mean):\n",
    "    data[feature+\"_median\"] = data[feature].fillna(median)\n",
    "    data[feature+\"_mean\"] = data[feature].fillna(mean)\n",
    "    \n",
    "    ##Create a random Series of variable feature\n",
    "    Random_sample = data[feature].dropna().sample(data[feature].isnull().sum(),random_state = 0)   \n",
    "    Random_sample.index = data[data[feature].isnull()].index\n",
    "    data.loc[data[feature].isnull(),feature+'_random'] = Random_sample"
   ]
  },
  {
   "cell_type": "code",
   "execution_count": 21,
   "id": "8548c0c1",
   "metadata": {
    "id": "8548c0c1"
   },
   "outputs": [],
   "source": [
    "Missing_Value_Imputation_with_Random(df1,'Item_Weight',df1['Item_Weight'].quantile(0.5),round(df1['Item_Weight'].mean(),3))"
   ]
  },
  {
   "cell_type": "code",
   "execution_count": 22,
   "id": "8ebe0fea",
   "metadata": {
    "id": "8ebe0fea",
    "outputId": "eaf21996-24d1-4c49-8ee4-db7a0d8899ea",
    "scrolled": true
   },
   "outputs": [
    {
     "data": {
      "text/plain": [
       "<matplotlib.legend.Legend at 0x1c644645ac0>"
      ]
     },
     "execution_count": 22,
     "metadata": {},
     "output_type": "execute_result"
    },
    {
     "data": {
      "image/png": "[encoded data removed]",
      "text/plain": [
       "<Figure size 432x288 with 1 Axes>"
      ]
     },
     "metadata": {
      "needs_background": "light"
     },
     "output_type": "display_data"
    }
   ],
   "source": [
    "fig = plt.figure()\n",
    "df1['Item_Weight'].plot(kind = 'kde',color = 'black')\n",
    "df1.Item_Weight_median.plot(kind = 'kde',color = 'green')\n",
    "df1.Item_Weight_mean.plot(kind = 'kde',color = 'blue')\n",
    "df1.Item_Weight_random.plot(kind = 'kde',color = 'red')\n",
    "plt.legend()"
   ]
  },
  {
   "cell_type": "markdown",
   "id": "f6af94f2",
   "metadata": {
    "id": "f6af94f2"
   },
   "source": [
    "* Here we use random samples to fill the missing values as it does not change the distribution of the variale."
   ]
  },
  {
   "cell_type": "code",
   "execution_count": 23,
   "id": "7550fe8c",
   "metadata": {
    "id": "7550fe8c",
    "outputId": "edeb8353-0b64-4a83-d285-fabca7f402e8"
   },
   "outputs": [
    {
     "data": {
      "text/plain": [
       "Item_Identifier                 0\n",
       "Item_Weight                     0\n",
       "Item_Fat_Content                0\n",
       "Item_Visibility                 0\n",
       "Item_Type                       0\n",
       "Item_MRP                        0\n",
       "Outlet_Identifier               0\n",
       "Outlet_Establishment_Year       0\n",
       "Outlet_Size                  2410\n",
       "Outlet_Location_Type            0\n",
       "Outlet_Type                     0\n",
       "Item_Outlet_Sales               0\n",
       "dtype: int64"
      ]
     },
     "execution_count": 23,
     "metadata": {},
     "output_type": "execute_result"
    }
   ],
   "source": [
    "df1['Item_Weight'] = df1['Item_Weight_median']\n",
    "\n",
    "df1.drop(['Item_Weight_random','Item_Weight_median','Item_Weight_mean'],axis = 1,inplace=True)\n",
    "df1.isnull().sum()"
   ]
  },
  {
   "cell_type": "code",
   "execution_count": 24,
   "id": "18c25a92",
   "metadata": {
    "id": "18c25a92",
    "outputId": "916151c0-ef7a-4c3c-8ad7-8eea58624d01",
    "scrolled": false
   },
   "outputs": [
    {
     "data": {
      "image/png": "[encoded data removed]",
      "text/plain": [
       "<Figure size 720x504 with 1 Axes>"
      ]
     },
     "metadata": {
      "needs_background": "light"
     },
     "output_type": "display_data"
    }
   ],
   "source": [
    "# Outlet_Identifier vs Outlet_Size\n",
    "plt.figure(figsize=(10,7))\n",
    "sns.countplot(x = 'Outlet_Identifier',data = df1,hue = 'Outlet_Size')\n",
    "plt.title('Fig-1',size = 15)\n",
    "plt.show()"
   ]
  },
  {
   "cell_type": "markdown",
   "id": "9a100a82",
   "metadata": {
    "id": "9a100a82"
   },
   "source": [
    "* Summary of Fig-1\n",
    "  \n",
    "  Here we can see that Outlet_Identifier **OUT010, OUT017, OUT045** had no Outlet_Size"
   ]
  },
  {
   "cell_type": "code",
   "execution_count": 25,
   "id": "38e5d8e5",
   "metadata": {
    "id": "38e5d8e5",
    "outputId": "03e025e6-88d5-47c8-f6fd-606696b027df",
    "scrolled": false
   },
   "outputs": [
    {
     "data": {
      "image/png": "[encoded data removed]",
      "text/plain": [
       "<Figure size 1440x504 with 1 Axes>"
      ]
     },
     "metadata": {
      "needs_background": "light"
     },
     "output_type": "display_data"
    }
   ],
   "source": [
    "# Outlet_Identifier VS Outlet_Location_Type\n",
    "plt.figure(figsize=(20,7))\n",
    "sns.countplot(x = 'Outlet_Identifier',data = df1,hue = 'Outlet_Location_Type')\n",
    "plt.title('Fig-2',size = 15)\n",
    "plt.show()"
   ]
  },
  {
   "cell_type": "markdown",
   "id": "98bbe9ef",
   "metadata": {
    "id": "98bbe9ef"
   },
   "source": [
    "* Summary of Fig-2\n",
    "    Here wee can see that \n",
    "    \n",
    "1. OUT010 belongs to Tier 3\n",
    "2. OUT017, OUT045 belongs to Tier 2"
   ]
  },
  {
   "cell_type": "code",
   "execution_count": 26,
   "id": "1f4831cc",
   "metadata": {
    "id": "1f4831cc",
    "outputId": "6c31eee2-b8e3-4134-cd7d-8d4ccc82c3b6"
   },
   "outputs": [
    {
     "data": {
      "image/png": "[encoded data removed]",
      "text/plain": [
       "<Figure size 720x504 with 1 Axes>"
      ]
     },
     "metadata": {
      "needs_background": "light"
     },
     "output_type": "display_data"
    }
   ],
   "source": [
    "# Outlet_Location_Type Vs Outlet_Size\n",
    "plt.figure(figsize=(10,7))\n",
    "sns.countplot(x = 'Outlet_Location_Type',data = df1,hue = 'Outlet_Size')\n",
    "plt.title('Fig-3',size = 15)\n",
    "plt.show()"
   ]
  },
  {
   "cell_type": "markdown",
   "id": "b34c6356",
   "metadata": {
    "id": "b34c6356"
   },
   "source": [
    "* Summary of Fig-3\n",
    "\n",
    "\n",
    "From this figure we can say \n",
    "1. Tier-2 has Outlet_Size Small"
   ]
  },
  {
   "cell_type": "code",
   "execution_count": 27,
   "id": "f9220d0e",
   "metadata": {
    "id": "f9220d0e",
    "outputId": "31a169fd-1cb7-46cf-9f3c-4cf6d3da323a",
    "scrolled": false
   },
   "outputs": [
    {
     "data": {
      "image/png": "[encoded data removed]",
      "text/plain": [
       "<Figure size 1440x504 with 1 Axes>"
      ]
     },
     "metadata": {
      "needs_background": "light"
     },
     "output_type": "display_data"
    }
   ],
   "source": [
    "# Outlet_Identifier Vs Outlet_Type\n",
    "plt.figure(figsize=(20,7))\n",
    "sns.countplot(x = 'Outlet_Identifier',data = df1,hue = 'Outlet_Type')\n",
    "plt.title('Fig-4',size = 15)\n",
    "plt.show()"
   ]
  },
  {
   "cell_type": "markdown",
   "id": "983b54c1",
   "metadata": {
    "id": "983b54c1"
   },
   "source": [
    "* Summary of Fig-4\n",
    "\n",
    "    From this Figure we can say Outlet_Identifier OUT010 is a Grocery Store"
   ]
  },
  {
   "cell_type": "code",
   "execution_count": 28,
   "id": "139e1c0c",
   "metadata": {
    "id": "139e1c0c",
    "outputId": "ab63f0c5-7c8d-48bc-ed2e-f0eb79e17072"
   },
   "outputs": [
    {
     "data": {
      "image/png": "[encoded data removed]",
      "text/plain": [
       "<Figure size 1440x504 with 1 Axes>"
      ]
     },
     "metadata": {
      "needs_background": "light"
     },
     "output_type": "display_data"
    }
   ],
   "source": [
    "# Outlet_Type Vs Outlet_Size\n",
    "plt.figure(figsize=(20,7))\n",
    "sns.countplot(x = 'Outlet_Type',data = df1,hue = 'Outlet_Size')\n",
    "plt.title('Fig-5',size = 15)\n",
    "plt.show()"
   ]
  },
  {
   "cell_type": "markdown",
   "id": "c17ae48c",
   "metadata": {
    "id": "c17ae48c"
   },
   "source": [
    "* Summary of Fig-5\n",
    "\n",
    "    From this we can say Grocery Store are small"
   ]
  },
  {
   "cell_type": "code",
   "execution_count": 29,
   "id": "32f9a3f6",
   "metadata": {
    "id": "32f9a3f6"
   },
   "outputs": [],
   "source": [
    "# So we can replace the missing values of Outlet_Size with the category small\n",
    "\n",
    "df1['Outlet_Size'].fillna('Small',inplace=True)"
   ]
  },
  {
   "cell_type": "code",
   "execution_count": 30,
   "id": "90d82d60",
   "metadata": {
    "id": "90d82d60",
    "outputId": "3c10b79b-4222-4f0d-fcbf-83472c84bff6",
    "scrolled": true
   },
   "outputs": [
    {
     "data": {
      "text/plain": [
       "Item_Identifier              0\n",
       "Item_Weight                  0\n",
       "Item_Fat_Content             0\n",
       "Item_Visibility              0\n",
       "Item_Type                    0\n",
       "Item_MRP                     0\n",
       "Outlet_Identifier            0\n",
       "Outlet_Establishment_Year    0\n",
       "Outlet_Size                  0\n",
       "Outlet_Location_Type         0\n",
       "Outlet_Type                  0\n",
       "Item_Outlet_Sales            0\n",
       "dtype: int64"
      ]
     },
     "execution_count": 30,
     "metadata": {},
     "output_type": "execute_result"
    }
   ],
   "source": [
    "df1.isnull().sum()"
   ]
  },
  {
   "cell_type": "markdown",
   "id": "80fe84db",
   "metadata": {
    "id": "80fe84db"
   },
   "source": [
    "## 2. Outlier Remover\n",
    "\n",
    "Item_Visibility has outliers so we remove them"
   ]
  },
  {
   "cell_type": "code",
   "execution_count": 31,
   "id": "b84c442a",
   "metadata": {
    "id": "b84c442a"
   },
   "outputs": [],
   "source": [
    "# Calculating IQR, Upper lavel and Lower level of the distributuion of Item Visibility\n",
    "\n",
    "IQR = df1['Item_Visibility'].quantile(.75) - df1['Item_Visibility'].quantile(.25)\n",
    "u_lvl = df1['Item_Visibility'].quantile(.75) + 1.5*IQR\n",
    "l_lvl = df1['Item_Visibility'].quantile(.25) - 1.5*IQR\n",
    "\n",
    "# removing outliers\n",
    "df1.loc[df1['Item_Visibility'] > u_lvl, ['Item_Visibility']] = u_lvl"
   ]
  },
  {
   "cell_type": "code",
   "execution_count": 32,
   "id": "1a25dbe6",
   "metadata": {
    "id": "1a25dbe6",
    "outputId": "bc2451e5-f51a-4ecd-93c5-a0e4b48ceeb3",
    "scrolled": true
   },
   "outputs": [
    {
     "data": {
      "text/plain": [
       "<AxesSubplot:xlabel='Item_Visibility'>"
      ]
     },
     "execution_count": 32,
     "metadata": {},
     "output_type": "execute_result"
    },
    {
     "data": {
      "image/png": "[encoded data removed]",
      "text/plain": [
       "<Figure size 1080x360 with 2 Axes>"
      ]
     },
     "metadata": {
      "needs_background": "light"
     },
     "output_type": "display_data"
    }
   ],
   "source": [
    "fig = plt.figure(figsize = (15,5))\n",
    "ax1 = fig.add_subplot(1,2,1)\n",
    "sns.histplot(x='Item_Visibility', data=df1, color='red',ax = ax1)\n",
    "ax2 = fig.add_subplot(1,2,2)\n",
    "sns.boxplot(x='Item_Visibility', data=df1, ax = ax2)"
   ]
  },
  {
   "cell_type": "markdown",
   "id": "d205b846",
   "metadata": {
    "id": "d205b846"
   },
   "source": [
    "Now Item_Visibility have a lot of value 0 which make no sence so we can treate them as a missing value "
   ]
  },
  {
   "cell_type": "code",
   "execution_count": 33,
   "id": "a023a3af",
   "metadata": {
    "id": "a023a3af",
    "outputId": "b923b1da-c8b6-4074-f6aa-399514ad896c"
   },
   "outputs": [
    {
     "data": {
      "text/plain": [
       "Item_Identifier                0\n",
       "Item_Weight                    0\n",
       "Item_Fat_Content               0\n",
       "Item_Visibility              526\n",
       "Item_Type                      0\n",
       "Item_MRP                       0\n",
       "Outlet_Identifier              0\n",
       "Outlet_Establishment_Year      0\n",
       "Outlet_Size                    0\n",
       "Outlet_Location_Type           0\n",
       "Outlet_Type                    0\n",
       "Item_Outlet_Sales              0\n",
       "dtype: int64"
      ]
     },
     "execution_count": 33,
     "metadata": {},
     "output_type": "execute_result"
    }
   ],
   "source": [
    "df1['Item_Visibility'].replace(0,np.nan,inplace=True)\n",
    "df1.isnull().sum()"
   ]
  },
  {
   "cell_type": "code",
   "execution_count": 34,
   "id": "8825aada",
   "metadata": {
    "id": "8825aada"
   },
   "outputs": [],
   "source": [
    "Missing_Value_Imputation_with_Random(df1,'Item_Visibility',df1['Item_Visibility'].quantile(0.5),df1['Item_Visibility'].mean())"
   ]
  },
  {
   "cell_type": "code",
   "execution_count": 35,
   "id": "07751437",
   "metadata": {
    "id": "07751437",
    "outputId": "21611526-42e3-4a6d-cfcf-baa177053601",
    "scrolled": true
   },
   "outputs": [
    {
     "data": {
      "text/plain": [
       "<matplotlib.legend.Legend at 0x1c644658fd0>"
      ]
     },
     "execution_count": 35,
     "metadata": {},
     "output_type": "execute_result"
    },
    {
     "data": {
      "image/png": "[encoded data removed]",
      "text/plain": [
       "<Figure size 432x288 with 1 Axes>"
      ]
     },
     "metadata": {
      "needs_background": "light"
     },
     "output_type": "display_data"
    }
   ],
   "source": [
    "fig = plt.figure()\n",
    "df1['Item_Visibility'].plot(kind = 'kde',color = 'black')\n",
    "df1.Item_Visibility_median.plot(kind = 'kde',color = 'green')\n",
    "df1.Item_Visibility_mean.plot(kind = 'kde',color = 'blue')\n",
    "df1.Item_Visibility_random.plot(kind = 'kde',color = 'red')\n",
    "plt.legend()"
   ]
  },
  {
   "cell_type": "code",
   "execution_count": 36,
   "id": "2066a2c2",
   "metadata": {
    "id": "2066a2c2"
   },
   "outputs": [],
   "source": [
    "df1['Item_Visibility'] = df1['Item_Visibility_median']"
   ]
  },
  {
   "cell_type": "code",
   "execution_count": 37,
   "id": "c8d12aa1",
   "metadata": {
    "id": "c8d12aa1",
    "outputId": "35b23ddb-8a61-4e77-eb3c-bfa96fe09f2d"
   },
   "outputs": [
    {
     "data": {
      "text/plain": [
       "Item_Identifier              0\n",
       "Item_Weight                  0\n",
       "Item_Fat_Content             0\n",
       "Item_Visibility              0\n",
       "Item_Type                    0\n",
       "Item_MRP                     0\n",
       "Outlet_Identifier            0\n",
       "Outlet_Establishment_Year    0\n",
       "Outlet_Size                  0\n",
       "Outlet_Location_Type         0\n",
       "Outlet_Type                  0\n",
       "Item_Outlet_Sales            0\n",
       "dtype: int64"
      ]
     },
     "execution_count": 37,
     "metadata": {},
     "output_type": "execute_result"
    }
   ],
   "source": [
    "df1.drop(['Item_Visibility_random','Item_Visibility_median','Item_Visibility_mean'],axis = 1,inplace=True)\n",
    "\n",
    "df1.isnull().sum()"
   ]
  },
  {
   "cell_type": "code",
   "execution_count": 38,
   "id": "440d82a4",
   "metadata": {
    "id": "440d82a4",
    "outputId": "5a5f0ed0-4f98-4222-e8aa-824fed7357f3"
   },
   "outputs": [
    {
     "data": {
      "text/plain": [
       "<AxesSubplot:xlabel='Item_Visibility'>"
      ]
     },
     "execution_count": 38,
     "metadata": {},
     "output_type": "execute_result"
    },
    {
     "data": {
      "image/png": "[encoded data removed]",
      "text/plain": [
       "<Figure size 1080x360 with 2 Axes>"
      ]
     },
     "metadata": {
      "needs_background": "light"
     },
     "output_type": "display_data"
    }
   ],
   "source": [
    "fig = plt.figure(figsize = (15,5))\n",
    "ax1 = fig.add_subplot(1,2,1)\n",
    "sns.histplot(x='Item_Visibility', data=df1, color='red',ax = ax1)\n",
    "ax2 = fig.add_subplot(1,2,2)\n",
    "sns.boxplot(x='Item_Visibility', data=df1, ax = ax2)"
   ]
  },
  {
   "cell_type": "code",
   "execution_count": 39,
   "id": "af68855a",
   "metadata": {},
   "outputs": [],
   "source": [
    "# Calculating IQR, Upper lavel and Lower level of the distributuion of Item Visibility\n",
    "\n",
    "IQR = df1['Item_Visibility'].quantile(.75) - df1['Item_Visibility'].quantile(.25)\n",
    "u_lvl = df1['Item_Visibility'].quantile(.75) + 1.5*IQR\n",
    "l_lvl = df1['Item_Visibility'].quantile(.25) - 1.5*IQR\n",
    "\n",
    "# removing outliers\n",
    "df1.loc[df1['Item_Visibility'] > u_lvl, ['Item_Visibility']] = u_lvl"
   ]
  },
  {
   "cell_type": "code",
   "execution_count": 40,
   "id": "08e61ae5",
   "metadata": {
    "id": "08e61ae5"
   },
   "outputs": [],
   "source": [
    "df2 = df1.copy()"
   ]
  },
  {
   "cell_type": "markdown",
   "id": "218dd738",
   "metadata": {
    "id": "218dd738"
   },
   "source": [
    "## 3. Transformation of attriutes (Convert them to normal distriution)\n",
    "\n",
    "Item_Weight, Item_Visibility, Item_MRP, Outlet_Establishment_Year"
   ]
  },
  {
   "cell_type": "code",
   "execution_count": 41,
   "id": "b3b4af52",
   "metadata": {
    "id": "b3b4af52"
   },
   "outputs": [],
   "source": [
    "## Checking Gaussian Distribution\n",
    "\n",
    "import scipy.stats as stats\n",
    "\n",
    "def QQ_plot(series):\n",
    "    \n",
    "    plt.figure(figsize = (15,6))\n",
    "    \n",
    "    plt.subplot(121)\n",
    "    sns.histplot(series, kde = True)\n",
    "    \n",
    "    plt.subplot(122)\n",
    "    stats.probplot(series, plot = plt)\n",
    "    \n",
    "    plt.show()"
   ]
  },
  {
   "cell_type": "code",
   "execution_count": 42,
   "id": "c000cb2a",
   "metadata": {},
   "outputs": [
    {
     "data": {
      "image/png": "[encoded data removed]",
      "text/plain": [
       "<Figure size 1080x432 with 2 Axes>"
      ]
     },
     "metadata": {
      "needs_background": "light"
     },
     "output_type": "display_data"
    }
   ],
   "source": [
    "QQ_plot(df2['Item_Weight'])"
   ]
  },
  {
   "cell_type": "code",
   "execution_count": 43,
   "id": "9785d81a",
   "metadata": {
    "id": "9785d81a",
    "outputId": "629747fa-82a0-4ac2-bc76-b8a3f8083126",
    "scrolled": false
   },
   "outputs": [
    {
     "data": {
      "image/png": "[encoded data removed]",
      "text/plain": [
       "<Figure size 1080x432 with 2 Axes>"
      ]
     },
     "metadata": {
      "needs_background": "light"
     },
     "output_type": "display_data"
    }
   ],
   "source": [
    "QQ_plot(df2['Item_Weight']**2)"
   ]
  },
  {
   "cell_type": "code",
   "execution_count": 44,
   "id": "fabefe0d",
   "metadata": {
    "id": "fabefe0d",
    "outputId": "57ada3bb-e530-423b-d965-f662fdeda2f9",
    "scrolled": false
   },
   "outputs": [
    {
     "data": {
      "image/png": "[encoded data removed]",
      "text/plain": [
       "<Figure size 1080x432 with 2 Axes>"
      ]
     },
     "metadata": {
      "needs_background": "light"
     },
     "output_type": "display_data"
    }
   ],
   "source": [
    "QQ_plot(df2['Item_MRP'])"
   ]
  },
  {
   "cell_type": "code",
   "execution_count": 45,
   "id": "b4c8b65c",
   "metadata": {
    "id": "b4c8b65c",
    "outputId": "e02cf9ce-3783-4bcc-f1fd-609d0a1e6c69"
   },
   "outputs": [
    {
     "data": {
      "image/png": "[encoded data removed]",
      "text/plain": [
       "<Figure size 1080x432 with 2 Axes>"
      ]
     },
     "metadata": {
      "needs_background": "light"
     },
     "output_type": "display_data"
    }
   ],
   "source": [
    "QQ_plot(df2['Item_Visibility']**(1/5))"
   ]
  },
  {
   "cell_type": "code",
   "execution_count": 46,
   "id": "9c728403",
   "metadata": {
    "id": "9c728403"
   },
   "outputs": [],
   "source": [
    "## Creating a new variale Outlet_Establishment_Age\n",
    "\n",
    "import datetime\n",
    "y = datetime.datetime.now()\n",
    "\n",
    "df2['Outlet_Age'] = df2['Outlet_Establishment_Year'].apply(lambda x: y.year - x)"
   ]
  },
  {
   "cell_type": "code",
   "execution_count": 47,
   "id": "852fc6f9",
   "metadata": {
    "id": "852fc6f9",
    "outputId": "f2883367-c33c-4197-c952-b8968005f2d2"
   },
   "outputs": [
    {
     "data": {
      "text/plain": [
       "<AxesSubplot:xlabel='Outlet_Age'>"
      ]
     },
     "execution_count": 47,
     "metadata": {},
     "output_type": "execute_result"
    },
    {
     "data": {
      "image/png": "[encoded data removed]",
      "text/plain": [
       "<Figure size 1080x360 with 2 Axes>"
      ]
     },
     "metadata": {
      "needs_background": "light"
     },
     "output_type": "display_data"
    }
   ],
   "source": [
    "fig = plt.figure(figsize = (15,5))\n",
    "ax1 = fig.add_subplot(1,2,1)\n",
    "sns.histplot(x='Outlet_Age', data=df2, color='red',ax = ax1)\n",
    "ax2 = fig.add_subplot(1,2,2)\n",
    "sns.boxplot(x='Outlet_Age', data=df2, ax = ax2)"
   ]
  },
  {
   "cell_type": "code",
   "execution_count": 48,
   "id": "76cc20c2",
   "metadata": {
    "id": "76cc20c2",
    "outputId": "e4dcffc0-05f4-4d00-9605-158032288c45"
   },
   "outputs": [
    {
     "data": {
      "image/png": "[encoded data removed]",
      "text/plain": [
       "<Figure size 1080x432 with 2 Axes>"
      ]
     },
     "metadata": {
      "needs_background": "light"
     },
     "output_type": "display_data"
    }
   ],
   "source": [
    "QQ_plot(df2['Outlet_Age'])"
   ]
  },
  {
   "cell_type": "code",
   "execution_count": 49,
   "id": "d5ed59e7",
   "metadata": {},
   "outputs": [
    {
     "data": {
      "image/png": "[encoded data removed]",
      "text/plain": [
       "<Figure size 1080x432 with 2 Axes>"
      ]
     },
     "metadata": {
      "needs_background": "light"
     },
     "output_type": "display_data"
    }
   ],
   "source": [
    "QQ_plot(df2['Item_Outlet_Sales']**(0.3))"
   ]
  },
  {
   "cell_type": "code",
   "execution_count": 50,
   "id": "ca06beb3",
   "metadata": {
    "id": "ca06beb3"
   },
   "outputs": [],
   "source": [
    "## Reciprocal Transformation of Item_Visibility\n",
    "\n",
    "df2['Item_Visibility'] = df2['Item_Visibility']**(1/5)"
   ]
  },
  {
   "cell_type": "code",
   "execution_count": 51,
   "id": "c57f257d",
   "metadata": {},
   "outputs": [],
   "source": [
    "## We transform the Item_Outlet_Sales as it follows a positively skewed distribution. By this transformation we convart\n",
    "# the target column into a normal distribution\n",
    "\n",
    "df2['Item_Outlet_Sales'] = df2['Item_Outlet_Sales']**(0.3)"
   ]
  },
  {
   "cell_type": "markdown",
   "id": "f18419c3",
   "metadata": {
    "id": "f18419c3"
   },
   "source": [
    "## 4. Checking multicollinearity using VIF"
   ]
  },
  {
   "cell_type": "code",
   "execution_count": 52,
   "id": "487195a7",
   "metadata": {
    "id": "487195a7"
   },
   "outputs": [],
   "source": [
    "df3 = df2.copy()"
   ]
  },
  {
   "cell_type": "code",
   "execution_count": 53,
   "id": "26da41b3",
   "metadata": {
    "id": "26da41b3",
    "outputId": "c3cc2092-604d-4249-923a-85879a7f4855",
    "scrolled": false
   },
   "outputs": [
    {
     "data": {
      "text/html": [
       "<div>\n",
       "<style scoped>\n",
       "    .dataframe tbody tr th:only-of-type {\n",
       "        vertical-align: middle;\n",
       "    }\n",
       "\n",
       "    .dataframe tbody tr th {\n",
       "        vertical-align: top;\n",
       "    }\n",
       "\n",
       "    .dataframe thead th {\n",
       "        text-align: right;\n",
       "    }\n",
       "</style>\n",
       "<table border=\"1\" class=\"dataframe\">\n",
       "  <thead>\n",
       "    <tr style=\"text-align: right;\">\n",
       "      <th></th>\n",
       "      <th>Features</th>\n",
       "      <th>VIF</th>\n",
       "    </tr>\n",
       "  </thead>\n",
       "  <tbody>\n",
       "    <tr>\n",
       "      <th>0</th>\n",
       "      <td>Item_Weight</td>\n",
       "      <td>8.768451</td>\n",
       "    </tr>\n",
       "    <tr>\n",
       "      <th>1</th>\n",
       "      <td>Item_Visibility</td>\n",
       "      <td>16.326685</td>\n",
       "    </tr>\n",
       "    <tr>\n",
       "      <th>2</th>\n",
       "      <td>Item_MRP</td>\n",
       "      <td>5.701518</td>\n",
       "    </tr>\n",
       "    <tr>\n",
       "      <th>3</th>\n",
       "      <td>Outlet_Age</td>\n",
       "      <td>8.473177</td>\n",
       "    </tr>\n",
       "  </tbody>\n",
       "</table>\n",
       "</div>"
      ],
      "text/plain": [
       "          Features        VIF\n",
       "0      Item_Weight   8.768451\n",
       "1  Item_Visibility  16.326685\n",
       "2         Item_MRP   5.701518\n",
       "3       Outlet_Age   8.473177"
      ]
     },
     "execution_count": 53,
     "metadata": {},
     "output_type": "execute_result"
    }
   ],
   "source": [
    "## Calculating VIF\n",
    "\n",
    "from statsmodels.stats.outliers_influence import variance_inflation_factor\n",
    "\n",
    "X = df3[['Item_Weight','Item_Visibility','Item_MRP','Outlet_Age']]\n",
    "\n",
    "vif_data = pd.DataFrame()\n",
    "vif_data[\"Features\"] = X.columns\n",
    "\n",
    "vif_data[\"VIF\"] = [variance_inflation_factor(X.values, i) for i in range(len(X.columns))]\n",
    "\n",
    "vif_data"
   ]
  },
  {
   "cell_type": "code",
   "execution_count": 54,
   "id": "7e290ecd",
   "metadata": {
    "id": "7e290ecd"
   },
   "outputs": [],
   "source": [
    "df3.drop(columns=['Item_Visibility'],axis = 1,inplace = True)"
   ]
  },
  {
   "cell_type": "code",
   "execution_count": 55,
   "id": "3866a0ff",
   "metadata": {
    "id": "3866a0ff",
    "outputId": "a129da52-2e78-4ec2-ba5e-de0eb52f9df3"
   },
   "outputs": [
    {
     "data": {
      "text/html": [
       "<div>\n",
       "<style scoped>\n",
       "    .dataframe tbody tr th:only-of-type {\n",
       "        vertical-align: middle;\n",
       "    }\n",
       "\n",
       "    .dataframe tbody tr th {\n",
       "        vertical-align: top;\n",
       "    }\n",
       "\n",
       "    .dataframe thead th {\n",
       "        text-align: right;\n",
       "    }\n",
       "</style>\n",
       "<table border=\"1\" class=\"dataframe\">\n",
       "  <thead>\n",
       "    <tr style=\"text-align: right;\">\n",
       "      <th></th>\n",
       "      <th>Features</th>\n",
       "      <th>VIF</th>\n",
       "    </tr>\n",
       "  </thead>\n",
       "  <tbody>\n",
       "    <tr>\n",
       "      <th>0</th>\n",
       "      <td>Item_Weight</td>\n",
       "      <td>6.298966</td>\n",
       "    </tr>\n",
       "    <tr>\n",
       "      <th>1</th>\n",
       "      <td>Item_MRP</td>\n",
       "      <td>4.864825</td>\n",
       "    </tr>\n",
       "    <tr>\n",
       "      <th>2</th>\n",
       "      <td>Outlet_Age</td>\n",
       "      <td>5.947901</td>\n",
       "    </tr>\n",
       "  </tbody>\n",
       "</table>\n",
       "</div>"
      ],
      "text/plain": [
       "      Features       VIF\n",
       "0  Item_Weight  6.298966\n",
       "1     Item_MRP  4.864825\n",
       "2   Outlet_Age  5.947901"
      ]
     },
     "execution_count": 55,
     "metadata": {},
     "output_type": "execute_result"
    }
   ],
   "source": [
    "## Calculating VIF\n",
    "\n",
    "from statsmodels.stats.outliers_influence import variance_inflation_factor\n",
    "\n",
    "X = df3[['Item_Weight','Item_MRP','Outlet_Age']]\n",
    "\n",
    "vif_data = pd.DataFrame()\n",
    "vif_data[\"Features\"] = X.columns\n",
    "\n",
    "vif_data[\"VIF\"] = [variance_inflation_factor(X.values, i) for i in range(len(X.columns))]\n",
    "\n",
    "vif_data"
   ]
  },
  {
   "cell_type": "code",
   "execution_count": 56,
   "id": "12818a39",
   "metadata": {
    "scrolled": false
   },
   "outputs": [
    {
     "data": {
      "text/html": [
       "<div>\n",
       "<style scoped>\n",
       "    .dataframe tbody tr th:only-of-type {\n",
       "        vertical-align: middle;\n",
       "    }\n",
       "\n",
       "    .dataframe tbody tr th {\n",
       "        vertical-align: top;\n",
       "    }\n",
       "\n",
       "    .dataframe thead th {\n",
       "        text-align: right;\n",
       "    }\n",
       "</style>\n",
       "<table border=\"1\" class=\"dataframe\">\n",
       "  <thead>\n",
       "    <tr style=\"text-align: right;\">\n",
       "      <th></th>\n",
       "      <th>Item_Identifier</th>\n",
       "      <th>Item_Weight</th>\n",
       "      <th>Item_Fat_Content</th>\n",
       "      <th>Item_Type</th>\n",
       "      <th>Item_MRP</th>\n",
       "      <th>Outlet_Identifier</th>\n",
       "      <th>Outlet_Establishment_Year</th>\n",
       "      <th>Outlet_Size</th>\n",
       "      <th>Outlet_Location_Type</th>\n",
       "      <th>Outlet_Type</th>\n",
       "      <th>Item_Outlet_Sales</th>\n",
       "      <th>Outlet_Age</th>\n",
       "    </tr>\n",
       "  </thead>\n",
       "  <tbody>\n",
       "    <tr>\n",
       "      <th>0</th>\n",
       "      <td>FDA15</td>\n",
       "      <td>9.30</td>\n",
       "      <td>Low Fat</td>\n",
       "      <td>Dairy</td>\n",
       "      <td>249.8092</td>\n",
       "      <td>OUT049</td>\n",
       "      <td>1999</td>\n",
       "      <td>Medium</td>\n",
       "      <td>Tier 1</td>\n",
       "      <td>Supermarket Type1</td>\n",
       "      <td>11.794838</td>\n",
       "      <td>23</td>\n",
       "    </tr>\n",
       "    <tr>\n",
       "      <th>1</th>\n",
       "      <td>DRC01</td>\n",
       "      <td>5.92</td>\n",
       "      <td>Regular</td>\n",
       "      <td>Soft Drinks</td>\n",
       "      <td>48.2692</td>\n",
       "      <td>OUT018</td>\n",
       "      <td>2009</td>\n",
       "      <td>Medium</td>\n",
       "      <td>Tier 3</td>\n",
       "      <td>Supermarket Type2</td>\n",
       "      <td>6.223654</td>\n",
       "      <td>13</td>\n",
       "    </tr>\n",
       "    <tr>\n",
       "      <th>2</th>\n",
       "      <td>FDN15</td>\n",
       "      <td>17.50</td>\n",
       "      <td>Low Fat</td>\n",
       "      <td>Meat</td>\n",
       "      <td>141.6180</td>\n",
       "      <td>OUT049</td>\n",
       "      <td>1999</td>\n",
       "      <td>Medium</td>\n",
       "      <td>Tier 1</td>\n",
       "      <td>Supermarket Type1</td>\n",
       "      <td>9.919649</td>\n",
       "      <td>23</td>\n",
       "    </tr>\n",
       "    <tr>\n",
       "      <th>3</th>\n",
       "      <td>FDX07</td>\n",
       "      <td>19.20</td>\n",
       "      <td>Regular</td>\n",
       "      <td>Fruits and Vegetables</td>\n",
       "      <td>182.0950</td>\n",
       "      <td>OUT010</td>\n",
       "      <td>1998</td>\n",
       "      <td>Small</td>\n",
       "      <td>Tier 3</td>\n",
       "      <td>Grocery Store</td>\n",
       "      <td>7.234707</td>\n",
       "      <td>24</td>\n",
       "    </tr>\n",
       "    <tr>\n",
       "      <th>4</th>\n",
       "      <td>NCD19</td>\n",
       "      <td>8.93</td>\n",
       "      <td>Low Fat</td>\n",
       "      <td>Household</td>\n",
       "      <td>53.8614</td>\n",
       "      <td>OUT013</td>\n",
       "      <td>1987</td>\n",
       "      <td>High</td>\n",
       "      <td>Tier 3</td>\n",
       "      <td>Supermarket Type1</td>\n",
       "      <td>7.930641</td>\n",
       "      <td>35</td>\n",
       "    </tr>\n",
       "  </tbody>\n",
       "</table>\n",
       "</div>"
      ],
      "text/plain": [
       "  Item_Identifier  Item_Weight Item_Fat_Content              Item_Type  \\\n",
       "0           FDA15         9.30          Low Fat                  Dairy   \n",
       "1           DRC01         5.92          Regular            Soft Drinks   \n",
       "2           FDN15        17.50          Low Fat                   Meat   \n",
       "3           FDX07        19.20          Regular  Fruits and Vegetables   \n",
       "4           NCD19         8.93          Low Fat              Household   \n",
       "\n",
       "   Item_MRP Outlet_Identifier  Outlet_Establishment_Year Outlet_Size  \\\n",
       "0  249.8092            OUT049                       1999      Medium   \n",
       "1   48.2692            OUT018                       2009      Medium   \n",
       "2  141.6180            OUT049                       1999      Medium   \n",
       "3  182.0950            OUT010                       1998       Small   \n",
       "4   53.8614            OUT013                       1987        High   \n",
       "\n",
       "  Outlet_Location_Type        Outlet_Type  Item_Outlet_Sales  Outlet_Age  \n",
       "0               Tier 1  Supermarket Type1          11.794838          23  \n",
       "1               Tier 3  Supermarket Type2           6.223654          13  \n",
       "2               Tier 1  Supermarket Type1           9.919649          23  \n",
       "3               Tier 3      Grocery Store           7.234707          24  \n",
       "4               Tier 3  Supermarket Type1           7.930641          35  "
      ]
     },
     "execution_count": 56,
     "metadata": {},
     "output_type": "execute_result"
    }
   ],
   "source": [
    "df3.head()"
   ]
  },
  {
   "cell_type": "markdown",
   "id": "0f430e11",
   "metadata": {},
   "source": [
    "## Convert the string values into lowercase "
   ]
  },
  {
   "cell_type": "code",
   "execution_count": 57,
   "id": "5df85a19",
   "metadata": {},
   "outputs": [
    {
     "data": {
      "text/html": [
       "<div>\n",
       "<style scoped>\n",
       "    .dataframe tbody tr th:only-of-type {\n",
       "        vertical-align: middle;\n",
       "    }\n",
       "\n",
       "    .dataframe tbody tr th {\n",
       "        vertical-align: top;\n",
       "    }\n",
       "\n",
       "    .dataframe thead th {\n",
       "        text-align: right;\n",
       "    }\n",
       "</style>\n",
       "<table border=\"1\" class=\"dataframe\">\n",
       "  <thead>\n",
       "    <tr style=\"text-align: right;\">\n",
       "      <th></th>\n",
       "      <th>Item_Identifier</th>\n",
       "      <th>Item_Weight</th>\n",
       "      <th>Item_Fat_Content</th>\n",
       "      <th>Item_Type</th>\n",
       "      <th>Item_MRP</th>\n",
       "      <th>Outlet_Identifier</th>\n",
       "      <th>Outlet_Establishment_Year</th>\n",
       "      <th>Outlet_Size</th>\n",
       "      <th>Outlet_Location_Type</th>\n",
       "      <th>Outlet_Type</th>\n",
       "      <th>Item_Outlet_Sales</th>\n",
       "      <th>Outlet_Age</th>\n",
       "    </tr>\n",
       "  </thead>\n",
       "  <tbody>\n",
       "    <tr>\n",
       "      <th>0</th>\n",
       "      <td>fda15</td>\n",
       "      <td>9.3</td>\n",
       "      <td>low fat</td>\n",
       "      <td>dairy</td>\n",
       "      <td>249.8092</td>\n",
       "      <td>out049</td>\n",
       "      <td>1999</td>\n",
       "      <td>medium</td>\n",
       "      <td>tier 1</td>\n",
       "      <td>supermarket type1</td>\n",
       "      <td>11.794838416011734</td>\n",
       "      <td>23</td>\n",
       "    </tr>\n",
       "    <tr>\n",
       "      <th>1</th>\n",
       "      <td>drc01</td>\n",
       "      <td>5.92</td>\n",
       "      <td>regular</td>\n",
       "      <td>soft drinks</td>\n",
       "      <td>48.2692</td>\n",
       "      <td>out018</td>\n",
       "      <td>2009</td>\n",
       "      <td>medium</td>\n",
       "      <td>tier 3</td>\n",
       "      <td>supermarket type2</td>\n",
       "      <td>6.223653507948934</td>\n",
       "      <td>13</td>\n",
       "    </tr>\n",
       "    <tr>\n",
       "      <th>2</th>\n",
       "      <td>fdn15</td>\n",
       "      <td>17.5</td>\n",
       "      <td>low fat</td>\n",
       "      <td>meat</td>\n",
       "      <td>141.618</td>\n",
       "      <td>out049</td>\n",
       "      <td>1999</td>\n",
       "      <td>medium</td>\n",
       "      <td>tier 1</td>\n",
       "      <td>supermarket type1</td>\n",
       "      <td>9.919648958211196</td>\n",
       "      <td>23</td>\n",
       "    </tr>\n",
       "    <tr>\n",
       "      <th>3</th>\n",
       "      <td>fdx07</td>\n",
       "      <td>19.2</td>\n",
       "      <td>regular</td>\n",
       "      <td>fruits and vegetables</td>\n",
       "      <td>182.095</td>\n",
       "      <td>out010</td>\n",
       "      <td>1998</td>\n",
       "      <td>small</td>\n",
       "      <td>tier 3</td>\n",
       "      <td>grocery store</td>\n",
       "      <td>7.234706926215967</td>\n",
       "      <td>24</td>\n",
       "    </tr>\n",
       "    <tr>\n",
       "      <th>4</th>\n",
       "      <td>ncd19</td>\n",
       "      <td>8.93</td>\n",
       "      <td>low fat</td>\n",
       "      <td>household</td>\n",
       "      <td>53.8614</td>\n",
       "      <td>out013</td>\n",
       "      <td>1987</td>\n",
       "      <td>high</td>\n",
       "      <td>tier 3</td>\n",
       "      <td>supermarket type1</td>\n",
       "      <td>7.930641467059172</td>\n",
       "      <td>35</td>\n",
       "    </tr>\n",
       "  </tbody>\n",
       "</table>\n",
       "</div>"
      ],
      "text/plain": [
       "  Item_Identifier Item_Weight Item_Fat_Content              Item_Type  \\\n",
       "0           fda15         9.3          low fat                  dairy   \n",
       "1           drc01        5.92          regular            soft drinks   \n",
       "2           fdn15        17.5          low fat                   meat   \n",
       "3           fdx07        19.2          regular  fruits and vegetables   \n",
       "4           ncd19        8.93          low fat              household   \n",
       "\n",
       "   Item_MRP Outlet_Identifier Outlet_Establishment_Year Outlet_Size  \\\n",
       "0  249.8092            out049                      1999      medium   \n",
       "1   48.2692            out018                      2009      medium   \n",
       "2   141.618            out049                      1999      medium   \n",
       "3   182.095            out010                      1998       small   \n",
       "4   53.8614            out013                      1987        high   \n",
       "\n",
       "  Outlet_Location_Type        Outlet_Type   Item_Outlet_Sales Outlet_Age  \n",
       "0               tier 1  supermarket type1  11.794838416011734         23  \n",
       "1               tier 3  supermarket type2   6.223653507948934         13  \n",
       "2               tier 1  supermarket type1   9.919648958211196         23  \n",
       "3               tier 3      grocery store   7.234706926215967         24  \n",
       "4               tier 3  supermarket type1   7.930641467059172         35  "
      ]
     },
     "execution_count": 57,
     "metadata": {},
     "output_type": "execute_result"
    }
   ],
   "source": [
    "df3=df3.apply(lambda x: x.astype(str).str.lower())\n",
    "df3.head()"
   ]
  },
  {
   "cell_type": "markdown",
   "id": "bcf1408e",
   "metadata": {
    "id": "bcf1408e"
   },
   "source": [
    "## 5. Categorical Variables Encoding"
   ]
  },
  {
   "cell_type": "code",
   "execution_count": 58,
   "id": "165d3591",
   "metadata": {},
   "outputs": [],
   "source": [
    "df4 = df3.copy()"
   ]
  },
  {
   "cell_type": "code",
   "execution_count": 59,
   "id": "d536701e",
   "metadata": {
    "scrolled": false
   },
   "outputs": [
    {
     "data": {
      "text/plain": [
       "array(['low fat', 'regular', 'lf', 'reg'], dtype=object)"
      ]
     },
     "execution_count": 59,
     "metadata": {},
     "output_type": "execute_result"
    }
   ],
   "source": [
    "df4['Item_Fat_Content'].unique()"
   ]
  },
  {
   "cell_type": "code",
   "execution_count": 60,
   "id": "8cc5a6cd",
   "metadata": {
    "id": "8cc5a6cd"
   },
   "outputs": [],
   "source": [
    "# Change the values of Item_Fat_Content\n",
    "\n",
    "item_fat = df4.Item_Fat_Content.replace('lf', 'low fat')\n",
    "item_fat = item_fat.replace('reg', 'regular')\n",
    "\n",
    "df4['Item_Fat_Content'] = item_fat"
   ]
  },
  {
   "cell_type": "code",
   "execution_count": 61,
   "id": "8dfc171e",
   "metadata": {
    "id": "8dfc171e",
    "outputId": "f88201e3-d79c-411e-b781-f3066966bb54",
    "scrolled": true
   },
   "outputs": [
    {
     "data": {
      "text/html": [
       "<div>\n",
       "<style scoped>\n",
       "    .dataframe tbody tr th:only-of-type {\n",
       "        vertical-align: middle;\n",
       "    }\n",
       "\n",
       "    .dataframe tbody tr th {\n",
       "        vertical-align: top;\n",
       "    }\n",
       "\n",
       "    .dataframe thead th {\n",
       "        text-align: right;\n",
       "    }\n",
       "</style>\n",
       "<table border=\"1\" class=\"dataframe\">\n",
       "  <thead>\n",
       "    <tr style=\"text-align: right;\">\n",
       "      <th></th>\n",
       "      <th>Item_Weight</th>\n",
       "      <th>Item_Fat_Content</th>\n",
       "      <th>Item_Type</th>\n",
       "      <th>Item_MRP</th>\n",
       "      <th>Outlet_Size</th>\n",
       "      <th>Outlet_Location_Type</th>\n",
       "      <th>Outlet_Type</th>\n",
       "      <th>Item_Outlet_Sales</th>\n",
       "      <th>Outlet_Age</th>\n",
       "    </tr>\n",
       "  </thead>\n",
       "  <tbody>\n",
       "    <tr>\n",
       "      <th>0</th>\n",
       "      <td>9.3</td>\n",
       "      <td>low fat</td>\n",
       "      <td>dairy</td>\n",
       "      <td>249.8092</td>\n",
       "      <td>medium</td>\n",
       "      <td>tier 1</td>\n",
       "      <td>supermarket type1</td>\n",
       "      <td>11.794838416011734</td>\n",
       "      <td>23</td>\n",
       "    </tr>\n",
       "    <tr>\n",
       "      <th>1</th>\n",
       "      <td>5.92</td>\n",
       "      <td>regular</td>\n",
       "      <td>soft drinks</td>\n",
       "      <td>48.2692</td>\n",
       "      <td>medium</td>\n",
       "      <td>tier 3</td>\n",
       "      <td>supermarket type2</td>\n",
       "      <td>6.223653507948934</td>\n",
       "      <td>13</td>\n",
       "    </tr>\n",
       "    <tr>\n",
       "      <th>2</th>\n",
       "      <td>17.5</td>\n",
       "      <td>low fat</td>\n",
       "      <td>meat</td>\n",
       "      <td>141.618</td>\n",
       "      <td>medium</td>\n",
       "      <td>tier 1</td>\n",
       "      <td>supermarket type1</td>\n",
       "      <td>9.919648958211196</td>\n",
       "      <td>23</td>\n",
       "    </tr>\n",
       "    <tr>\n",
       "      <th>3</th>\n",
       "      <td>19.2</td>\n",
       "      <td>regular</td>\n",
       "      <td>fruits and vegetables</td>\n",
       "      <td>182.095</td>\n",
       "      <td>small</td>\n",
       "      <td>tier 3</td>\n",
       "      <td>grocery store</td>\n",
       "      <td>7.234706926215967</td>\n",
       "      <td>24</td>\n",
       "    </tr>\n",
       "    <tr>\n",
       "      <th>4</th>\n",
       "      <td>8.93</td>\n",
       "      <td>low fat</td>\n",
       "      <td>household</td>\n",
       "      <td>53.8614</td>\n",
       "      <td>high</td>\n",
       "      <td>tier 3</td>\n",
       "      <td>supermarket type1</td>\n",
       "      <td>7.930641467059172</td>\n",
       "      <td>35</td>\n",
       "    </tr>\n",
       "  </tbody>\n",
       "</table>\n",
       "</div>"
      ],
      "text/plain": [
       "  Item_Weight Item_Fat_Content              Item_Type  Item_MRP Outlet_Size  \\\n",
       "0         9.3          low fat                  dairy  249.8092      medium   \n",
       "1        5.92          regular            soft drinks   48.2692      medium   \n",
       "2        17.5          low fat                   meat   141.618      medium   \n",
       "3        19.2          regular  fruits and vegetables   182.095       small   \n",
       "4        8.93          low fat              household   53.8614        high   \n",
       "\n",
       "  Outlet_Location_Type        Outlet_Type   Item_Outlet_Sales Outlet_Age  \n",
       "0               tier 1  supermarket type1  11.794838416011734         23  \n",
       "1               tier 3  supermarket type2   6.223653507948934         13  \n",
       "2               tier 1  supermarket type1   9.919648958211196         23  \n",
       "3               tier 3      grocery store   7.234706926215967         24  \n",
       "4               tier 3  supermarket type1   7.930641467059172         35  "
      ]
     },
     "execution_count": 61,
     "metadata": {},
     "output_type": "execute_result"
    }
   ],
   "source": [
    "## Drop Item_Identifier, Outlet_Establishment_Year\n",
    "\n",
    "df4.drop(columns=['Outlet_Establishment_Year','Item_Identifier','Outlet_Identifier'],axis = 1,inplace=True)\n",
    "df4.head()"
   ]
  },
  {
   "cell_type": "code",
   "execution_count": 62,
   "id": "5cfed679",
   "metadata": {
    "scrolled": false
   },
   "outputs": [
    {
     "name": "stdout",
     "output_type": "stream",
     "text": [
      "['medium' 'small' 'high']\n",
      "['tier 1' 'tier 3' 'tier 2']\n"
     ]
    }
   ],
   "source": [
    "print(df4['Outlet_Size'].unique())\n",
    "print(df4['Outlet_Location_Type'].unique())"
   ]
  },
  {
   "cell_type": "code",
   "execution_count": 63,
   "id": "9f00a27c",
   "metadata": {},
   "outputs": [],
   "source": [
    "# Find out the frequency of Outlet_Identifier\n",
    "\n",
    "Outlet_Size_map = {'small':0, 'medium':1, 'high':2}\n",
    "Outlet_Location_Type_map = {'tier 1':2, 'tier 2':1, 'tier 3':0}"
   ]
  },
  {
   "cell_type": "code",
   "execution_count": 64,
   "id": "9ed81f72",
   "metadata": {},
   "outputs": [],
   "source": [
    "# Replace the elements by feature map\n",
    "\n",
    "df4['Outlet_Size'] = df4['Outlet_Size'].map(Outlet_Size_map)\n",
    "df4['Outlet_Location_Type'] = df4['Outlet_Location_Type'].map(Outlet_Location_Type_map)"
   ]
  },
  {
   "cell_type": "code",
   "execution_count": 65,
   "id": "6bd1d9ae",
   "metadata": {
    "scrolled": true
   },
   "outputs": [
    {
     "data": {
      "text/html": [
       "<div>\n",
       "<style scoped>\n",
       "    .dataframe tbody tr th:only-of-type {\n",
       "        vertical-align: middle;\n",
       "    }\n",
       "\n",
       "    .dataframe tbody tr th {\n",
       "        vertical-align: top;\n",
       "    }\n",
       "\n",
       "    .dataframe thead th {\n",
       "        text-align: right;\n",
       "    }\n",
       "</style>\n",
       "<table border=\"1\" class=\"dataframe\">\n",
       "  <thead>\n",
       "    <tr style=\"text-align: right;\">\n",
       "      <th></th>\n",
       "      <th>Item_Weight</th>\n",
       "      <th>Item_Fat_Content</th>\n",
       "      <th>Item_Type</th>\n",
       "      <th>Item_MRP</th>\n",
       "      <th>Outlet_Size</th>\n",
       "      <th>Outlet_Location_Type</th>\n",
       "      <th>Outlet_Type</th>\n",
       "      <th>Item_Outlet_Sales</th>\n",
       "      <th>Outlet_Age</th>\n",
       "    </tr>\n",
       "  </thead>\n",
       "  <tbody>\n",
       "    <tr>\n",
       "      <th>0</th>\n",
       "      <td>9.3</td>\n",
       "      <td>low fat</td>\n",
       "      <td>dairy</td>\n",
       "      <td>249.8092</td>\n",
       "      <td>1</td>\n",
       "      <td>2</td>\n",
       "      <td>supermarket type1</td>\n",
       "      <td>11.794838416011734</td>\n",
       "      <td>23</td>\n",
       "    </tr>\n",
       "    <tr>\n",
       "      <th>1</th>\n",
       "      <td>5.92</td>\n",
       "      <td>regular</td>\n",
       "      <td>soft drinks</td>\n",
       "      <td>48.2692</td>\n",
       "      <td>1</td>\n",
       "      <td>0</td>\n",
       "      <td>supermarket type2</td>\n",
       "      <td>6.223653507948934</td>\n",
       "      <td>13</td>\n",
       "    </tr>\n",
       "    <tr>\n",
       "      <th>2</th>\n",
       "      <td>17.5</td>\n",
       "      <td>low fat</td>\n",
       "      <td>meat</td>\n",
       "      <td>141.618</td>\n",
       "      <td>1</td>\n",
       "      <td>2</td>\n",
       "      <td>supermarket type1</td>\n",
       "      <td>9.919648958211196</td>\n",
       "      <td>23</td>\n",
       "    </tr>\n",
       "    <tr>\n",
       "      <th>3</th>\n",
       "      <td>19.2</td>\n",
       "      <td>regular</td>\n",
       "      <td>fruits and vegetables</td>\n",
       "      <td>182.095</td>\n",
       "      <td>0</td>\n",
       "      <td>0</td>\n",
       "      <td>grocery store</td>\n",
       "      <td>7.234706926215967</td>\n",
       "      <td>24</td>\n",
       "    </tr>\n",
       "    <tr>\n",
       "      <th>4</th>\n",
       "      <td>8.93</td>\n",
       "      <td>low fat</td>\n",
       "      <td>household</td>\n",
       "      <td>53.8614</td>\n",
       "      <td>2</td>\n",
       "      <td>0</td>\n",
       "      <td>supermarket type1</td>\n",
       "      <td>7.930641467059172</td>\n",
       "      <td>35</td>\n",
       "    </tr>\n",
       "  </tbody>\n",
       "</table>\n",
       "</div>"
      ],
      "text/plain": [
       "  Item_Weight Item_Fat_Content              Item_Type  Item_MRP  Outlet_Size  \\\n",
       "0         9.3          low fat                  dairy  249.8092            1   \n",
       "1        5.92          regular            soft drinks   48.2692            1   \n",
       "2        17.5          low fat                   meat   141.618            1   \n",
       "3        19.2          regular  fruits and vegetables   182.095            0   \n",
       "4        8.93          low fat              household   53.8614            2   \n",
       "\n",
       "   Outlet_Location_Type        Outlet_Type   Item_Outlet_Sales Outlet_Age  \n",
       "0                     2  supermarket type1  11.794838416011734         23  \n",
       "1                     0  supermarket type2   6.223653507948934         13  \n",
       "2                     2  supermarket type1   9.919648958211196         23  \n",
       "3                     0      grocery store   7.234706926215967         24  \n",
       "4                     0  supermarket type1   7.930641467059172         35  "
      ]
     },
     "execution_count": 65,
     "metadata": {},
     "output_type": "execute_result"
    }
   ],
   "source": [
    "df4.head()"
   ]
  },
  {
   "cell_type": "code",
   "execution_count": 66,
   "id": "20c0d1fc",
   "metadata": {},
   "outputs": [
    {
     "data": {
      "text/plain": [
       "array([[0., 0., 0., ..., 1., 0., 0.],\n",
       "       [1., 0., 0., ..., 0., 1., 0.],\n",
       "       [0., 0., 0., ..., 1., 0., 0.],\n",
       "       ...,\n",
       "       [0., 0., 0., ..., 1., 0., 0.],\n",
       "       [1., 0., 0., ..., 0., 1., 0.],\n",
       "       [0., 0., 0., ..., 1., 0., 0.]])"
      ]
     },
     "execution_count": 66,
     "metadata": {},
     "output_type": "execute_result"
    }
   ],
   "source": [
    "## One Hot Encoding\n",
    "\n",
    "from sklearn.preprocessing import OneHotEncoder\n",
    "OneHot = OneHotEncoder(drop='first', sparse=False)\n",
    "\n",
    "onehot_vector = OneHot.fit_transform(df4[['Item_Fat_Content','Item_Type','Outlet_Type']])\n",
    "onehot_vector"
   ]
  },
  {
   "cell_type": "code",
   "execution_count": 67,
   "id": "4c725322",
   "metadata": {},
   "outputs": [
    {
     "data": {
      "text/plain": [
       "['Item_Fat_Content_regular',\n",
       " 'Item_Type_breads',\n",
       " 'Item_Type_breakfast',\n",
       " 'Item_Type_canned',\n",
       " 'Item_Type_dairy',\n",
       " 'Item_Type_frozen foods',\n",
       " 'Item_Type_fruits and vegetables',\n",
       " 'Item_Type_hard drinks',\n",
       " 'Item_Type_health and hygiene',\n",
       " 'Item_Type_household',\n",
       " 'Item_Type_meat',\n",
       " 'Item_Type_others',\n",
       " 'Item_Type_seafood',\n",
       " 'Item_Type_snack foods',\n",
       " 'Item_Type_soft drinks',\n",
       " 'Item_Type_starchy foods',\n",
       " 'Outlet_Type_supermarket type1',\n",
       " 'Outlet_Type_supermarket type2',\n",
       " 'Outlet_Type_supermarket type3']"
      ]
     },
     "execution_count": 67,
     "metadata": {},
     "output_type": "execute_result"
    }
   ],
   "source": [
    "# creating one hot encoded data columns\n",
    "\n",
    "cols = pd.get_dummies(df4[['Item_Fat_Content','Item_Type','Outlet_Type']], drop_first=True).columns.to_list()\n",
    "cols"
   ]
  },
  {
   "cell_type": "code",
   "execution_count": 68,
   "id": "5e507687",
   "metadata": {},
   "outputs": [
    {
     "data": {
      "text/html": [
       "<div>\n",
       "<style scoped>\n",
       "    .dataframe tbody tr th:only-of-type {\n",
       "        vertical-align: middle;\n",
       "    }\n",
       "\n",
       "    .dataframe tbody tr th {\n",
       "        vertical-align: top;\n",
       "    }\n",
       "\n",
       "    .dataframe thead th {\n",
       "        text-align: right;\n",
       "    }\n",
       "</style>\n",
       "<table border=\"1\" class=\"dataframe\">\n",
       "  <thead>\n",
       "    <tr style=\"text-align: right;\">\n",
       "      <th></th>\n",
       "      <th>Item_Fat_Content_regular</th>\n",
       "      <th>Item_Type_breads</th>\n",
       "      <th>Item_Type_breakfast</th>\n",
       "      <th>Item_Type_canned</th>\n",
       "      <th>Item_Type_dairy</th>\n",
       "      <th>Item_Type_frozen foods</th>\n",
       "      <th>Item_Type_fruits and vegetables</th>\n",
       "      <th>Item_Type_hard drinks</th>\n",
       "      <th>Item_Type_health and hygiene</th>\n",
       "      <th>Item_Type_household</th>\n",
       "      <th>Item_Type_meat</th>\n",
       "      <th>Item_Type_others</th>\n",
       "      <th>Item_Type_seafood</th>\n",
       "      <th>Item_Type_snack foods</th>\n",
       "      <th>Item_Type_soft drinks</th>\n",
       "      <th>Item_Type_starchy foods</th>\n",
       "      <th>Outlet_Type_supermarket type1</th>\n",
       "      <th>Outlet_Type_supermarket type2</th>\n",
       "      <th>Outlet_Type_supermarket type3</th>\n",
       "    </tr>\n",
       "  </thead>\n",
       "  <tbody>\n",
       "    <tr>\n",
       "      <th>0</th>\n",
       "      <td>0.0</td>\n",
       "      <td>0.0</td>\n",
       "      <td>0.0</td>\n",
       "      <td>0.0</td>\n",
       "      <td>1.0</td>\n",
       "      <td>0.0</td>\n",
       "      <td>0.0</td>\n",
       "      <td>0.0</td>\n",
       "      <td>0.0</td>\n",
       "      <td>0.0</td>\n",
       "      <td>0.0</td>\n",
       "      <td>0.0</td>\n",
       "      <td>0.0</td>\n",
       "      <td>0.0</td>\n",
       "      <td>0.0</td>\n",
       "      <td>0.0</td>\n",
       "      <td>1.0</td>\n",
       "      <td>0.0</td>\n",
       "      <td>0.0</td>\n",
       "    </tr>\n",
       "    <tr>\n",
       "      <th>1</th>\n",
       "      <td>1.0</td>\n",
       "      <td>0.0</td>\n",
       "      <td>0.0</td>\n",
       "      <td>0.0</td>\n",
       "      <td>0.0</td>\n",
       "      <td>0.0</td>\n",
       "      <td>0.0</td>\n",
       "      <td>0.0</td>\n",
       "      <td>0.0</td>\n",
       "      <td>0.0</td>\n",
       "      <td>0.0</td>\n",
       "      <td>0.0</td>\n",
       "      <td>0.0</td>\n",
       "      <td>0.0</td>\n",
       "      <td>1.0</td>\n",
       "      <td>0.0</td>\n",
       "      <td>0.0</td>\n",
       "      <td>1.0</td>\n",
       "      <td>0.0</td>\n",
       "    </tr>\n",
       "    <tr>\n",
       "      <th>2</th>\n",
       "      <td>0.0</td>\n",
       "      <td>0.0</td>\n",
       "      <td>0.0</td>\n",
       "      <td>0.0</td>\n",
       "      <td>0.0</td>\n",
       "      <td>0.0</td>\n",
       "      <td>0.0</td>\n",
       "      <td>0.0</td>\n",
       "      <td>0.0</td>\n",
       "      <td>0.0</td>\n",
       "      <td>1.0</td>\n",
       "      <td>0.0</td>\n",
       "      <td>0.0</td>\n",
       "      <td>0.0</td>\n",
       "      <td>0.0</td>\n",
       "      <td>0.0</td>\n",
       "      <td>1.0</td>\n",
       "      <td>0.0</td>\n",
       "      <td>0.0</td>\n",
       "    </tr>\n",
       "    <tr>\n",
       "      <th>3</th>\n",
       "      <td>1.0</td>\n",
       "      <td>0.0</td>\n",
       "      <td>0.0</td>\n",
       "      <td>0.0</td>\n",
       "      <td>0.0</td>\n",
       "      <td>0.0</td>\n",
       "      <td>1.0</td>\n",
       "      <td>0.0</td>\n",
       "      <td>0.0</td>\n",
       "      <td>0.0</td>\n",
       "      <td>0.0</td>\n",
       "      <td>0.0</td>\n",
       "      <td>0.0</td>\n",
       "      <td>0.0</td>\n",
       "      <td>0.0</td>\n",
       "      <td>0.0</td>\n",
       "      <td>0.0</td>\n",
       "      <td>0.0</td>\n",
       "      <td>0.0</td>\n",
       "    </tr>\n",
       "    <tr>\n",
       "      <th>4</th>\n",
       "      <td>0.0</td>\n",
       "      <td>0.0</td>\n",
       "      <td>0.0</td>\n",
       "      <td>0.0</td>\n",
       "      <td>0.0</td>\n",
       "      <td>0.0</td>\n",
       "      <td>0.0</td>\n",
       "      <td>0.0</td>\n",
       "      <td>0.0</td>\n",
       "      <td>1.0</td>\n",
       "      <td>0.0</td>\n",
       "      <td>0.0</td>\n",
       "      <td>0.0</td>\n",
       "      <td>0.0</td>\n",
       "      <td>0.0</td>\n",
       "      <td>0.0</td>\n",
       "      <td>1.0</td>\n",
       "      <td>0.0</td>\n",
       "      <td>0.0</td>\n",
       "    </tr>\n",
       "  </tbody>\n",
       "</table>\n",
       "</div>"
      ],
      "text/plain": [
       "   Item_Fat_Content_regular  Item_Type_breads  Item_Type_breakfast  \\\n",
       "0                       0.0               0.0                  0.0   \n",
       "1                       1.0               0.0                  0.0   \n",
       "2                       0.0               0.0                  0.0   \n",
       "3                       1.0               0.0                  0.0   \n",
       "4                       0.0               0.0                  0.0   \n",
       "\n",
       "   Item_Type_canned  Item_Type_dairy  Item_Type_frozen foods  \\\n",
       "0               0.0              1.0                     0.0   \n",
       "1               0.0              0.0                     0.0   \n",
       "2               0.0              0.0                     0.0   \n",
       "3               0.0              0.0                     0.0   \n",
       "4               0.0              0.0                     0.0   \n",
       "\n",
       "   Item_Type_fruits and vegetables  Item_Type_hard drinks  \\\n",
       "0                              0.0                    0.0   \n",
       "1                              0.0                    0.0   \n",
       "2                              0.0                    0.0   \n",
       "3                              1.0                    0.0   \n",
       "4                              0.0                    0.0   \n",
       "\n",
       "   Item_Type_health and hygiene  Item_Type_household  Item_Type_meat  \\\n",
       "0                           0.0                  0.0             0.0   \n",
       "1                           0.0                  0.0             0.0   \n",
       "2                           0.0                  0.0             1.0   \n",
       "3                           0.0                  0.0             0.0   \n",
       "4                           0.0                  1.0             0.0   \n",
       "\n",
       "   Item_Type_others  Item_Type_seafood  Item_Type_snack foods  \\\n",
       "0               0.0                0.0                    0.0   \n",
       "1               0.0                0.0                    0.0   \n",
       "2               0.0                0.0                    0.0   \n",
       "3               0.0                0.0                    0.0   \n",
       "4               0.0                0.0                    0.0   \n",
       "\n",
       "   Item_Type_soft drinks  Item_Type_starchy foods  \\\n",
       "0                    0.0                      0.0   \n",
       "1                    1.0                      0.0   \n",
       "2                    0.0                      0.0   \n",
       "3                    0.0                      0.0   \n",
       "4                    0.0                      0.0   \n",
       "\n",
       "   Outlet_Type_supermarket type1  Outlet_Type_supermarket type2  \\\n",
       "0                            1.0                            0.0   \n",
       "1                            0.0                            1.0   \n",
       "2                            1.0                            0.0   \n",
       "3                            0.0                            0.0   \n",
       "4                            1.0                            0.0   \n",
       "\n",
       "   Outlet_Type_supermarket type3  \n",
       "0                            0.0  \n",
       "1                            0.0  \n",
       "2                            0.0  \n",
       "3                            0.0  \n",
       "4                            0.0  "
      ]
     },
     "execution_count": 68,
     "metadata": {},
     "output_type": "execute_result"
    }
   ],
   "source": [
    "onehot_dataframe = pd.DataFrame(onehot_vector, columns=cols)\n",
    "onehot_dataframe.head()"
   ]
  },
  {
   "cell_type": "code",
   "execution_count": 69,
   "id": "dbf05bc8",
   "metadata": {
    "scrolled": false
   },
   "outputs": [
    {
     "data": {
      "text/html": [
       "<div>\n",
       "<style scoped>\n",
       "    .dataframe tbody tr th:only-of-type {\n",
       "        vertical-align: middle;\n",
       "    }\n",
       "\n",
       "    .dataframe tbody tr th {\n",
       "        vertical-align: top;\n",
       "    }\n",
       "\n",
       "    .dataframe thead th {\n",
       "        text-align: right;\n",
       "    }\n",
       "</style>\n",
       "<table border=\"1\" class=\"dataframe\">\n",
       "  <thead>\n",
       "    <tr style=\"text-align: right;\">\n",
       "      <th></th>\n",
       "      <th>Item_Fat_Content_regular</th>\n",
       "      <th>Item_Type_breads</th>\n",
       "      <th>Item_Type_breakfast</th>\n",
       "      <th>Item_Type_canned</th>\n",
       "      <th>Item_Type_dairy</th>\n",
       "      <th>Item_Type_frozen foods</th>\n",
       "      <th>Item_Type_fruits and vegetables</th>\n",
       "      <th>Item_Type_hard drinks</th>\n",
       "      <th>Item_Type_health and hygiene</th>\n",
       "      <th>Item_Type_household</th>\n",
       "      <th>Item_Type_meat</th>\n",
       "      <th>Item_Type_others</th>\n",
       "      <th>Item_Type_seafood</th>\n",
       "      <th>Item_Type_snack foods</th>\n",
       "      <th>Item_Type_soft drinks</th>\n",
       "      <th>Item_Type_starchy foods</th>\n",
       "      <th>Outlet_Type_supermarket type1</th>\n",
       "      <th>Outlet_Type_supermarket type2</th>\n",
       "      <th>Outlet_Type_supermarket type3</th>\n",
       "    </tr>\n",
       "  </thead>\n",
       "  <tbody>\n",
       "    <tr>\n",
       "      <th>0</th>\n",
       "      <td>0</td>\n",
       "      <td>0</td>\n",
       "      <td>0</td>\n",
       "      <td>0</td>\n",
       "      <td>1</td>\n",
       "      <td>0</td>\n",
       "      <td>0</td>\n",
       "      <td>0</td>\n",
       "      <td>0</td>\n",
       "      <td>0</td>\n",
       "      <td>0</td>\n",
       "      <td>0</td>\n",
       "      <td>0</td>\n",
       "      <td>0</td>\n",
       "      <td>0</td>\n",
       "      <td>0</td>\n",
       "      <td>1</td>\n",
       "      <td>0</td>\n",
       "      <td>0</td>\n",
       "    </tr>\n",
       "    <tr>\n",
       "      <th>1</th>\n",
       "      <td>1</td>\n",
       "      <td>0</td>\n",
       "      <td>0</td>\n",
       "      <td>0</td>\n",
       "      <td>0</td>\n",
       "      <td>0</td>\n",
       "      <td>0</td>\n",
       "      <td>0</td>\n",
       "      <td>0</td>\n",
       "      <td>0</td>\n",
       "      <td>0</td>\n",
       "      <td>0</td>\n",
       "      <td>0</td>\n",
       "      <td>0</td>\n",
       "      <td>1</td>\n",
       "      <td>0</td>\n",
       "      <td>0</td>\n",
       "      <td>1</td>\n",
       "      <td>0</td>\n",
       "    </tr>\n",
       "    <tr>\n",
       "      <th>2</th>\n",
       "      <td>0</td>\n",
       "      <td>0</td>\n",
       "      <td>0</td>\n",
       "      <td>0</td>\n",
       "      <td>0</td>\n",
       "      <td>0</td>\n",
       "      <td>0</td>\n",
       "      <td>0</td>\n",
       "      <td>0</td>\n",
       "      <td>0</td>\n",
       "      <td>1</td>\n",
       "      <td>0</td>\n",
       "      <td>0</td>\n",
       "      <td>0</td>\n",
       "      <td>0</td>\n",
       "      <td>0</td>\n",
       "      <td>1</td>\n",
       "      <td>0</td>\n",
       "      <td>0</td>\n",
       "    </tr>\n",
       "    <tr>\n",
       "      <th>3</th>\n",
       "      <td>1</td>\n",
       "      <td>0</td>\n",
       "      <td>0</td>\n",
       "      <td>0</td>\n",
       "      <td>0</td>\n",
       "      <td>0</td>\n",
       "      <td>1</td>\n",
       "      <td>0</td>\n",
       "      <td>0</td>\n",
       "      <td>0</td>\n",
       "      <td>0</td>\n",
       "      <td>0</td>\n",
       "      <td>0</td>\n",
       "      <td>0</td>\n",
       "      <td>0</td>\n",
       "      <td>0</td>\n",
       "      <td>0</td>\n",
       "      <td>0</td>\n",
       "      <td>0</td>\n",
       "    </tr>\n",
       "    <tr>\n",
       "      <th>4</th>\n",
       "      <td>0</td>\n",
       "      <td>0</td>\n",
       "      <td>0</td>\n",
       "      <td>0</td>\n",
       "      <td>0</td>\n",
       "      <td>0</td>\n",
       "      <td>0</td>\n",
       "      <td>0</td>\n",
       "      <td>0</td>\n",
       "      <td>1</td>\n",
       "      <td>0</td>\n",
       "      <td>0</td>\n",
       "      <td>0</td>\n",
       "      <td>0</td>\n",
       "      <td>0</td>\n",
       "      <td>0</td>\n",
       "      <td>1</td>\n",
       "      <td>0</td>\n",
       "      <td>0</td>\n",
       "    </tr>\n",
       "  </tbody>\n",
       "</table>\n",
       "</div>"
      ],
      "text/plain": [
       "   Item_Fat_Content_regular  Item_Type_breads  Item_Type_breakfast  \\\n",
       "0                         0                 0                    0   \n",
       "1                         1                 0                    0   \n",
       "2                         0                 0                    0   \n",
       "3                         1                 0                    0   \n",
       "4                         0                 0                    0   \n",
       "\n",
       "   Item_Type_canned  Item_Type_dairy  Item_Type_frozen foods  \\\n",
       "0                 0                1                       0   \n",
       "1                 0                0                       0   \n",
       "2                 0                0                       0   \n",
       "3                 0                0                       0   \n",
       "4                 0                0                       0   \n",
       "\n",
       "   Item_Type_fruits and vegetables  Item_Type_hard drinks  \\\n",
       "0                                0                      0   \n",
       "1                                0                      0   \n",
       "2                                0                      0   \n",
       "3                                1                      0   \n",
       "4                                0                      0   \n",
       "\n",
       "   Item_Type_health and hygiene  Item_Type_household  Item_Type_meat  \\\n",
       "0                             0                    0               0   \n",
       "1                             0                    0               0   \n",
       "2                             0                    0               1   \n",
       "3                             0                    0               0   \n",
       "4                             0                    1               0   \n",
       "\n",
       "   Item_Type_others  Item_Type_seafood  Item_Type_snack foods  \\\n",
       "0                 0                  0                      0   \n",
       "1                 0                  0                      0   \n",
       "2                 0                  0                      0   \n",
       "3                 0                  0                      0   \n",
       "4                 0                  0                      0   \n",
       "\n",
       "   Item_Type_soft drinks  Item_Type_starchy foods  \\\n",
       "0                      0                        0   \n",
       "1                      1                        0   \n",
       "2                      0                        0   \n",
       "3                      0                        0   \n",
       "4                      0                        0   \n",
       "\n",
       "   Outlet_Type_supermarket type1  Outlet_Type_supermarket type2  \\\n",
       "0                              1                              0   \n",
       "1                              0                              1   \n",
       "2                              1                              0   \n",
       "3                              0                              0   \n",
       "4                              1                              0   \n",
       "\n",
       "   Outlet_Type_supermarket type3  \n",
       "0                              0  \n",
       "1                              0  \n",
       "2                              0  \n",
       "3                              0  \n",
       "4                              0  "
      ]
     },
     "execution_count": 69,
     "metadata": {},
     "output_type": "execute_result"
    }
   ],
   "source": [
    "pd.get_dummies(df4[['Item_Fat_Content','Item_Type','Outlet_Type']], drop_first=True).head()"
   ]
  },
  {
   "cell_type": "code",
   "execution_count": 70,
   "id": "0982155a",
   "metadata": {
    "scrolled": true
   },
   "outputs": [
    {
     "data": {
      "text/html": [
       "<div>\n",
       "<style scoped>\n",
       "    .dataframe tbody tr th:only-of-type {\n",
       "        vertical-align: middle;\n",
       "    }\n",
       "\n",
       "    .dataframe tbody tr th {\n",
       "        vertical-align: top;\n",
       "    }\n",
       "\n",
       "    .dataframe thead th {\n",
       "        text-align: right;\n",
       "    }\n",
       "</style>\n",
       "<table border=\"1\" class=\"dataframe\">\n",
       "  <thead>\n",
       "    <tr style=\"text-align: right;\">\n",
       "      <th></th>\n",
       "      <th>Item_Weight</th>\n",
       "      <th>Item_Fat_Content</th>\n",
       "      <th>Item_Type</th>\n",
       "      <th>Item_MRP</th>\n",
       "      <th>Outlet_Size</th>\n",
       "      <th>Outlet_Location_Type</th>\n",
       "      <th>Outlet_Type</th>\n",
       "      <th>Item_Outlet_Sales</th>\n",
       "      <th>Outlet_Age</th>\n",
       "      <th>Item_Fat_Content_regular</th>\n",
       "      <th>Item_Type_breads</th>\n",
       "      <th>Item_Type_breakfast</th>\n",
       "      <th>Item_Type_canned</th>\n",
       "      <th>Item_Type_dairy</th>\n",
       "      <th>Item_Type_frozen foods</th>\n",
       "      <th>Item_Type_fruits and vegetables</th>\n",
       "      <th>Item_Type_hard drinks</th>\n",
       "      <th>Item_Type_health and hygiene</th>\n",
       "      <th>Item_Type_household</th>\n",
       "      <th>Item_Type_meat</th>\n",
       "      <th>Item_Type_others</th>\n",
       "      <th>Item_Type_seafood</th>\n",
       "      <th>Item_Type_snack foods</th>\n",
       "      <th>Item_Type_soft drinks</th>\n",
       "      <th>Item_Type_starchy foods</th>\n",
       "      <th>Outlet_Type_supermarket type1</th>\n",
       "      <th>Outlet_Type_supermarket type2</th>\n",
       "      <th>Outlet_Type_supermarket type3</th>\n",
       "    </tr>\n",
       "  </thead>\n",
       "  <tbody>\n",
       "    <tr>\n",
       "      <th>0</th>\n",
       "      <td>9.3</td>\n",
       "      <td>low fat</td>\n",
       "      <td>dairy</td>\n",
       "      <td>249.8092</td>\n",
       "      <td>1</td>\n",
       "      <td>2</td>\n",
       "      <td>supermarket type1</td>\n",
       "      <td>11.794838416011734</td>\n",
       "      <td>23</td>\n",
       "      <td>0.0</td>\n",
       "      <td>0.0</td>\n",
       "      <td>0.0</td>\n",
       "      <td>0.0</td>\n",
       "      <td>1.0</td>\n",
       "      <td>0.0</td>\n",
       "      <td>0.0</td>\n",
       "      <td>0.0</td>\n",
       "      <td>0.0</td>\n",
       "      <td>0.0</td>\n",
       "      <td>0.0</td>\n",
       "      <td>0.0</td>\n",
       "      <td>0.0</td>\n",
       "      <td>0.0</td>\n",
       "      <td>0.0</td>\n",
       "      <td>0.0</td>\n",
       "      <td>1.0</td>\n",
       "      <td>0.0</td>\n",
       "      <td>0.0</td>\n",
       "    </tr>\n",
       "    <tr>\n",
       "      <th>1</th>\n",
       "      <td>5.92</td>\n",
       "      <td>regular</td>\n",
       "      <td>soft drinks</td>\n",
       "      <td>48.2692</td>\n",
       "      <td>1</td>\n",
       "      <td>0</td>\n",
       "      <td>supermarket type2</td>\n",
       "      <td>6.223653507948934</td>\n",
       "      <td>13</td>\n",
       "      <td>1.0</td>\n",
       "      <td>0.0</td>\n",
       "      <td>0.0</td>\n",
       "      <td>0.0</td>\n",
       "      <td>0.0</td>\n",
       "      <td>0.0</td>\n",
       "      <td>0.0</td>\n",
       "      <td>0.0</td>\n",
       "      <td>0.0</td>\n",
       "      <td>0.0</td>\n",
       "      <td>0.0</td>\n",
       "      <td>0.0</td>\n",
       "      <td>0.0</td>\n",
       "      <td>0.0</td>\n",
       "      <td>1.0</td>\n",
       "      <td>0.0</td>\n",
       "      <td>0.0</td>\n",
       "      <td>1.0</td>\n",
       "      <td>0.0</td>\n",
       "    </tr>\n",
       "    <tr>\n",
       "      <th>2</th>\n",
       "      <td>17.5</td>\n",
       "      <td>low fat</td>\n",
       "      <td>meat</td>\n",
       "      <td>141.618</td>\n",
       "      <td>1</td>\n",
       "      <td>2</td>\n",
       "      <td>supermarket type1</td>\n",
       "      <td>9.919648958211196</td>\n",
       "      <td>23</td>\n",
       "      <td>0.0</td>\n",
       "      <td>0.0</td>\n",
       "      <td>0.0</td>\n",
       "      <td>0.0</td>\n",
       "      <td>0.0</td>\n",
       "      <td>0.0</td>\n",
       "      <td>0.0</td>\n",
       "      <td>0.0</td>\n",
       "      <td>0.0</td>\n",
       "      <td>0.0</td>\n",
       "      <td>1.0</td>\n",
       "      <td>0.0</td>\n",
       "      <td>0.0</td>\n",
       "      <td>0.0</td>\n",
       "      <td>0.0</td>\n",
       "      <td>0.0</td>\n",
       "      <td>1.0</td>\n",
       "      <td>0.0</td>\n",
       "      <td>0.0</td>\n",
       "    </tr>\n",
       "    <tr>\n",
       "      <th>3</th>\n",
       "      <td>19.2</td>\n",
       "      <td>regular</td>\n",
       "      <td>fruits and vegetables</td>\n",
       "      <td>182.095</td>\n",
       "      <td>0</td>\n",
       "      <td>0</td>\n",
       "      <td>grocery store</td>\n",
       "      <td>7.234706926215967</td>\n",
       "      <td>24</td>\n",
       "      <td>1.0</td>\n",
       "      <td>0.0</td>\n",
       "      <td>0.0</td>\n",
       "      <td>0.0</td>\n",
       "      <td>0.0</td>\n",
       "      <td>0.0</td>\n",
       "      <td>1.0</td>\n",
       "      <td>0.0</td>\n",
       "      <td>0.0</td>\n",
       "      <td>0.0</td>\n",
       "      <td>0.0</td>\n",
       "      <td>0.0</td>\n",
       "      <td>0.0</td>\n",
       "      <td>0.0</td>\n",
       "      <td>0.0</td>\n",
       "      <td>0.0</td>\n",
       "      <td>0.0</td>\n",
       "      <td>0.0</td>\n",
       "      <td>0.0</td>\n",
       "    </tr>\n",
       "    <tr>\n",
       "      <th>4</th>\n",
       "      <td>8.93</td>\n",
       "      <td>low fat</td>\n",
       "      <td>household</td>\n",
       "      <td>53.8614</td>\n",
       "      <td>2</td>\n",
       "      <td>0</td>\n",
       "      <td>supermarket type1</td>\n",
       "      <td>7.930641467059172</td>\n",
       "      <td>35</td>\n",
       "      <td>0.0</td>\n",
       "      <td>0.0</td>\n",
       "      <td>0.0</td>\n",
       "      <td>0.0</td>\n",
       "      <td>0.0</td>\n",
       "      <td>0.0</td>\n",
       "      <td>0.0</td>\n",
       "      <td>0.0</td>\n",
       "      <td>0.0</td>\n",
       "      <td>1.0</td>\n",
       "      <td>0.0</td>\n",
       "      <td>0.0</td>\n",
       "      <td>0.0</td>\n",
       "      <td>0.0</td>\n",
       "      <td>0.0</td>\n",
       "      <td>0.0</td>\n",
       "      <td>1.0</td>\n",
       "      <td>0.0</td>\n",
       "      <td>0.0</td>\n",
       "    </tr>\n",
       "  </tbody>\n",
       "</table>\n",
       "</div>"
      ],
      "text/plain": [
       "  Item_Weight Item_Fat_Content              Item_Type  Item_MRP  Outlet_Size  \\\n",
       "0         9.3          low fat                  dairy  249.8092            1   \n",
       "1        5.92          regular            soft drinks   48.2692            1   \n",
       "2        17.5          low fat                   meat   141.618            1   \n",
       "3        19.2          regular  fruits and vegetables   182.095            0   \n",
       "4        8.93          low fat              household   53.8614            2   \n",
       "\n",
       "   Outlet_Location_Type        Outlet_Type   Item_Outlet_Sales Outlet_Age  \\\n",
       "0                     2  supermarket type1  11.794838416011734         23   \n",
       "1                     0  supermarket type2   6.223653507948934         13   \n",
       "2                     2  supermarket type1   9.919648958211196         23   \n",
       "3                     0      grocery store   7.234706926215967         24   \n",
       "4                     0  supermarket type1   7.930641467059172         35   \n",
       "\n",
       "   Item_Fat_Content_regular  Item_Type_breads  Item_Type_breakfast  \\\n",
       "0                       0.0               0.0                  0.0   \n",
       "1                       1.0               0.0                  0.0   \n",
       "2                       0.0               0.0                  0.0   \n",
       "3                       1.0               0.0                  0.0   \n",
       "4                       0.0               0.0                  0.0   \n",
       "\n",
       "   Item_Type_canned  Item_Type_dairy  Item_Type_frozen foods  \\\n",
       "0               0.0              1.0                     0.0   \n",
       "1               0.0              0.0                     0.0   \n",
       "2               0.0              0.0                     0.0   \n",
       "3               0.0              0.0                     0.0   \n",
       "4               0.0              0.0                     0.0   \n",
       "\n",
       "   Item_Type_fruits and vegetables  Item_Type_hard drinks  \\\n",
       "0                              0.0                    0.0   \n",
       "1                              0.0                    0.0   \n",
       "2                              0.0                    0.0   \n",
       "3                              1.0                    0.0   \n",
       "4                              0.0                    0.0   \n",
       "\n",
       "   Item_Type_health and hygiene  Item_Type_household  Item_Type_meat  \\\n",
       "0                           0.0                  0.0             0.0   \n",
       "1                           0.0                  0.0             0.0   \n",
       "2                           0.0                  0.0             1.0   \n",
       "3                           0.0                  0.0             0.0   \n",
       "4                           0.0                  1.0             0.0   \n",
       "\n",
       "   Item_Type_others  Item_Type_seafood  Item_Type_snack foods  \\\n",
       "0               0.0                0.0                    0.0   \n",
       "1               0.0                0.0                    0.0   \n",
       "2               0.0                0.0                    0.0   \n",
       "3               0.0                0.0                    0.0   \n",
       "4               0.0                0.0                    0.0   \n",
       "\n",
       "   Item_Type_soft drinks  Item_Type_starchy foods  \\\n",
       "0                    0.0                      0.0   \n",
       "1                    1.0                      0.0   \n",
       "2                    0.0                      0.0   \n",
       "3                    0.0                      0.0   \n",
       "4                    0.0                      0.0   \n",
       "\n",
       "   Outlet_Type_supermarket type1  Outlet_Type_supermarket type2  \\\n",
       "0                            1.0                            0.0   \n",
       "1                            0.0                            1.0   \n",
       "2                            1.0                            0.0   \n",
       "3                            0.0                            0.0   \n",
       "4                            1.0                            0.0   \n",
       "\n",
       "   Outlet_Type_supermarket type3  \n",
       "0                            0.0  \n",
       "1                            0.0  \n",
       "2                            0.0  \n",
       "3                            0.0  \n",
       "4                            0.0  "
      ]
     },
     "execution_count": 70,
     "metadata": {},
     "output_type": "execute_result"
    }
   ],
   "source": [
    "df4 = pd.concat([df4, onehot_dataframe], axis=1)\n",
    "df4.head()"
   ]
  },
  {
   "cell_type": "code",
   "execution_count": 71,
   "id": "66d01f87",
   "metadata": {
    "scrolled": true
   },
   "outputs": [
    {
     "data": {
      "text/html": [
       "<div>\n",
       "<style scoped>\n",
       "    .dataframe tbody tr th:only-of-type {\n",
       "        vertical-align: middle;\n",
       "    }\n",
       "\n",
       "    .dataframe tbody tr th {\n",
       "        vertical-align: top;\n",
       "    }\n",
       "\n",
       "    .dataframe thead th {\n",
       "        text-align: right;\n",
       "    }\n",
       "</style>\n",
       "<table border=\"1\" class=\"dataframe\">\n",
       "  <thead>\n",
       "    <tr style=\"text-align: right;\">\n",
       "      <th></th>\n",
       "      <th>Item_Weight</th>\n",
       "      <th>Item_MRP</th>\n",
       "      <th>Outlet_Size</th>\n",
       "      <th>Outlet_Location_Type</th>\n",
       "      <th>Item_Outlet_Sales</th>\n",
       "      <th>Outlet_Age</th>\n",
       "      <th>Item_Fat_Content_regular</th>\n",
       "      <th>Item_Type_breads</th>\n",
       "      <th>Item_Type_breakfast</th>\n",
       "      <th>Item_Type_canned</th>\n",
       "      <th>Item_Type_dairy</th>\n",
       "      <th>Item_Type_frozen foods</th>\n",
       "      <th>Item_Type_fruits and vegetables</th>\n",
       "      <th>Item_Type_hard drinks</th>\n",
       "      <th>Item_Type_health and hygiene</th>\n",
       "      <th>Item_Type_household</th>\n",
       "      <th>Item_Type_meat</th>\n",
       "      <th>Item_Type_others</th>\n",
       "      <th>Item_Type_seafood</th>\n",
       "      <th>Item_Type_snack foods</th>\n",
       "      <th>Item_Type_soft drinks</th>\n",
       "      <th>Item_Type_starchy foods</th>\n",
       "      <th>Outlet_Type_supermarket type1</th>\n",
       "      <th>Outlet_Type_supermarket type2</th>\n",
       "      <th>Outlet_Type_supermarket type3</th>\n",
       "    </tr>\n",
       "  </thead>\n",
       "  <tbody>\n",
       "    <tr>\n",
       "      <th>0</th>\n",
       "      <td>9.3</td>\n",
       "      <td>249.8092</td>\n",
       "      <td>1</td>\n",
       "      <td>2</td>\n",
       "      <td>11.794838416011734</td>\n",
       "      <td>23</td>\n",
       "      <td>0.0</td>\n",
       "      <td>0.0</td>\n",
       "      <td>0.0</td>\n",
       "      <td>0.0</td>\n",
       "      <td>1.0</td>\n",
       "      <td>0.0</td>\n",
       "      <td>0.0</td>\n",
       "      <td>0.0</td>\n",
       "      <td>0.0</td>\n",
       "      <td>0.0</td>\n",
       "      <td>0.0</td>\n",
       "      <td>0.0</td>\n",
       "      <td>0.0</td>\n",
       "      <td>0.0</td>\n",
       "      <td>0.0</td>\n",
       "      <td>0.0</td>\n",
       "      <td>1.0</td>\n",
       "      <td>0.0</td>\n",
       "      <td>0.0</td>\n",
       "    </tr>\n",
       "    <tr>\n",
       "      <th>1</th>\n",
       "      <td>5.92</td>\n",
       "      <td>48.2692</td>\n",
       "      <td>1</td>\n",
       "      <td>0</td>\n",
       "      <td>6.223653507948934</td>\n",
       "      <td>13</td>\n",
       "      <td>1.0</td>\n",
       "      <td>0.0</td>\n",
       "      <td>0.0</td>\n",
       "      <td>0.0</td>\n",
       "      <td>0.0</td>\n",
       "      <td>0.0</td>\n",
       "      <td>0.0</td>\n",
       "      <td>0.0</td>\n",
       "      <td>0.0</td>\n",
       "      <td>0.0</td>\n",
       "      <td>0.0</td>\n",
       "      <td>0.0</td>\n",
       "      <td>0.0</td>\n",
       "      <td>0.0</td>\n",
       "      <td>1.0</td>\n",
       "      <td>0.0</td>\n",
       "      <td>0.0</td>\n",
       "      <td>1.0</td>\n",
       "      <td>0.0</td>\n",
       "    </tr>\n",
       "    <tr>\n",
       "      <th>2</th>\n",
       "      <td>17.5</td>\n",
       "      <td>141.618</td>\n",
       "      <td>1</td>\n",
       "      <td>2</td>\n",
       "      <td>9.919648958211196</td>\n",
       "      <td>23</td>\n",
       "      <td>0.0</td>\n",
       "      <td>0.0</td>\n",
       "      <td>0.0</td>\n",
       "      <td>0.0</td>\n",
       "      <td>0.0</td>\n",
       "      <td>0.0</td>\n",
       "      <td>0.0</td>\n",
       "      <td>0.0</td>\n",
       "      <td>0.0</td>\n",
       "      <td>0.0</td>\n",
       "      <td>1.0</td>\n",
       "      <td>0.0</td>\n",
       "      <td>0.0</td>\n",
       "      <td>0.0</td>\n",
       "      <td>0.0</td>\n",
       "      <td>0.0</td>\n",
       "      <td>1.0</td>\n",
       "      <td>0.0</td>\n",
       "      <td>0.0</td>\n",
       "    </tr>\n",
       "    <tr>\n",
       "      <th>3</th>\n",
       "      <td>19.2</td>\n",
       "      <td>182.095</td>\n",
       "      <td>0</td>\n",
       "      <td>0</td>\n",
       "      <td>7.234706926215967</td>\n",
       "      <td>24</td>\n",
       "      <td>1.0</td>\n",
       "      <td>0.0</td>\n",
       "      <td>0.0</td>\n",
       "      <td>0.0</td>\n",
       "      <td>0.0</td>\n",
       "      <td>0.0</td>\n",
       "      <td>1.0</td>\n",
       "      <td>0.0</td>\n",
       "      <td>0.0</td>\n",
       "      <td>0.0</td>\n",
       "      <td>0.0</td>\n",
       "      <td>0.0</td>\n",
       "      <td>0.0</td>\n",
       "      <td>0.0</td>\n",
       "      <td>0.0</td>\n",
       "      <td>0.0</td>\n",
       "      <td>0.0</td>\n",
       "      <td>0.0</td>\n",
       "      <td>0.0</td>\n",
       "    </tr>\n",
       "    <tr>\n",
       "      <th>4</th>\n",
       "      <td>8.93</td>\n",
       "      <td>53.8614</td>\n",
       "      <td>2</td>\n",
       "      <td>0</td>\n",
       "      <td>7.930641467059172</td>\n",
       "      <td>35</td>\n",
       "      <td>0.0</td>\n",
       "      <td>0.0</td>\n",
       "      <td>0.0</td>\n",
       "      <td>0.0</td>\n",
       "      <td>0.0</td>\n",
       "      <td>0.0</td>\n",
       "      <td>0.0</td>\n",
       "      <td>0.0</td>\n",
       "      <td>0.0</td>\n",
       "      <td>1.0</td>\n",
       "      <td>0.0</td>\n",
       "      <td>0.0</td>\n",
       "      <td>0.0</td>\n",
       "      <td>0.0</td>\n",
       "      <td>0.0</td>\n",
       "      <td>0.0</td>\n",
       "      <td>1.0</td>\n",
       "      <td>0.0</td>\n",
       "      <td>0.0</td>\n",
       "    </tr>\n",
       "  </tbody>\n",
       "</table>\n",
       "</div>"
      ],
      "text/plain": [
       "  Item_Weight  Item_MRP  Outlet_Size  Outlet_Location_Type  \\\n",
       "0         9.3  249.8092            1                     2   \n",
       "1        5.92   48.2692            1                     0   \n",
       "2        17.5   141.618            1                     2   \n",
       "3        19.2   182.095            0                     0   \n",
       "4        8.93   53.8614            2                     0   \n",
       "\n",
       "    Item_Outlet_Sales Outlet_Age  Item_Fat_Content_regular  Item_Type_breads  \\\n",
       "0  11.794838416011734         23                       0.0               0.0   \n",
       "1   6.223653507948934         13                       1.0               0.0   \n",
       "2   9.919648958211196         23                       0.0               0.0   \n",
       "3   7.234706926215967         24                       1.0               0.0   \n",
       "4   7.930641467059172         35                       0.0               0.0   \n",
       "\n",
       "   Item_Type_breakfast  Item_Type_canned  Item_Type_dairy  \\\n",
       "0                  0.0               0.0              1.0   \n",
       "1                  0.0               0.0              0.0   \n",
       "2                  0.0               0.0              0.0   \n",
       "3                  0.0               0.0              0.0   \n",
       "4                  0.0               0.0              0.0   \n",
       "\n",
       "   Item_Type_frozen foods  Item_Type_fruits and vegetables  \\\n",
       "0                     0.0                              0.0   \n",
       "1                     0.0                              0.0   \n",
       "2                     0.0                              0.0   \n",
       "3                     0.0                              1.0   \n",
       "4                     0.0                              0.0   \n",
       "\n",
       "   Item_Type_hard drinks  Item_Type_health and hygiene  Item_Type_household  \\\n",
       "0                    0.0                           0.0                  0.0   \n",
       "1                    0.0                           0.0                  0.0   \n",
       "2                    0.0                           0.0                  0.0   \n",
       "3                    0.0                           0.0                  0.0   \n",
       "4                    0.0                           0.0                  1.0   \n",
       "\n",
       "   Item_Type_meat  Item_Type_others  Item_Type_seafood  Item_Type_snack foods  \\\n",
       "0             0.0               0.0                0.0                    0.0   \n",
       "1             0.0               0.0                0.0                    0.0   \n",
       "2             1.0               0.0                0.0                    0.0   \n",
       "3             0.0               0.0                0.0                    0.0   \n",
       "4             0.0               0.0                0.0                    0.0   \n",
       "\n",
       "   Item_Type_soft drinks  Item_Type_starchy foods  \\\n",
       "0                    0.0                      0.0   \n",
       "1                    1.0                      0.0   \n",
       "2                    0.0                      0.0   \n",
       "3                    0.0                      0.0   \n",
       "4                    0.0                      0.0   \n",
       "\n",
       "   Outlet_Type_supermarket type1  Outlet_Type_supermarket type2  \\\n",
       "0                            1.0                            0.0   \n",
       "1                            0.0                            1.0   \n",
       "2                            1.0                            0.0   \n",
       "3                            0.0                            0.0   \n",
       "4                            1.0                            0.0   \n",
       "\n",
       "   Outlet_Type_supermarket type3  \n",
       "0                            0.0  \n",
       "1                            0.0  \n",
       "2                            0.0  \n",
       "3                            0.0  \n",
       "4                            0.0  "
      ]
     },
     "execution_count": 71,
     "metadata": {},
     "output_type": "execute_result"
    }
   ],
   "source": [
    "df4.drop(['Item_Fat_Content','Item_Type','Outlet_Type'], axis=1, inplace=True)\n",
    "df4.head()"
   ]
  },
  {
   "cell_type": "markdown",
   "id": "3c21cb68",
   "metadata": {},
   "source": [
    "## Save required models in pickle files"
   ]
  },
  {
   "cell_type": "code",
   "execution_count": 73,
   "id": "e1286a42",
   "metadata": {},
   "outputs": [],
   "source": [
    "# import pickle\n",
    "# file = open('models/onehot_encoder.pickle','wb')\n",
    "\n",
    "# pickle.dump(OneHot, file)\n",
    "# file.close()"
   ]
  },
  {
   "cell_type": "code",
   "execution_count": 74,
   "id": "8256bc7f",
   "metadata": {
    "id": "8256bc7f"
   },
   "outputs": [],
   "source": [
    "# #Store the Preprocessed data in a .csv format\n",
    "\n",
    "# df4.to_csv('original_data_set/preprocessed_data.csv', index = False)\n",
    "# file.close()"
   ]
  }
 ],
 "metadata": {
  "colab": {
   "collapsed_sections": [
    "35de9f5c",
    "80fe84db",
    "218dd738",
    "bcf1408e",
    "f18419c3"
   ],
   "name": "EDA & Preprocessing.ipynb",
   "provenance": []
  },
  "kernelspec": {
   "display_name": "Python 3 (ipykernel)",
   "language": "python",
   "name": "python3"
  },
  "language_info": {
   "codemirror_mode": {
    "name": "ipython",
    "version": 3
   },
   "file_extension": ".py",
   "mimetype": "text/x-python",
   "name": "python",
   "nbconvert_exporter": "python",
   "pygments_lexer": "ipython3",
   "version": "3.9.7"
  }
 },
 "nbformat": 4,
 "nbformat_minor": 5
}
