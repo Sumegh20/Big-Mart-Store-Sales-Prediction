{
 "cells": [
  {
   "cell_type": "markdown",
   "id": "25064d93",
   "metadata": {
    "id": "25064d93"
   },
   "source": [
    "# Model Traning"
   ]
  },
  {
   "cell_type": "code",
   "execution_count": 1,
   "id": "96fbe1b4",
   "metadata": {
    "executionInfo": {
     "elapsed": 519,
     "status": "ok",
     "timestamp": 1645023950863,
     "user": {
      "displayName": "Sumegh Sen",
      "photoUrl": "https://lh3.googleusercontent.com/a-/AOh14GiP23YhrdCRmttiAuuo8XnOaBfofkzYtoOAUX-ltQ=s64",
      "userId": "17977956221845369626"
     },
     "user_tz": -330
    },
    "id": "96fbe1b4"
   },
   "outputs": [],
   "source": [
    "import pandas as pd\n",
    "import numpy as np\n",
    "import matplotlib.pyplot as plt\n",
    "import seaborn as sns"
   ]
  },
  {
   "cell_type": "code",
   "execution_count": 2,
   "id": "7dbed43f",
   "metadata": {
    "executionInfo": {
     "elapsed": 9,
     "status": "ok",
     "timestamp": 1645023951576,
     "user": {
      "displayName": "Sumegh Sen",
      "photoUrl": "https://lh3.googleusercontent.com/a-/AOh14GiP23YhrdCRmttiAuuo8XnOaBfofkzYtoOAUX-ltQ=s64",
      "userId": "17977956221845369626"
     },
     "user_tz": -330
    },
    "id": "7dbed43f"
   },
   "outputs": [],
   "source": [
    "## To see all columns of the dataset\n",
    "\n",
    "pd.set_option(\"display.max_columns\", None)"
   ]
  },
  {
   "cell_type": "code",
   "execution_count": 3,
   "id": "98b13422",
   "metadata": {
    "colab": {
     "base_uri": "https://localhost:8080/",
     "height": 288
    },
    "executionInfo": {
     "elapsed": 1382,
     "status": "ok",
     "timestamp": 1645024042668,
     "user": {
      "displayName": "Sumegh Sen",
      "photoUrl": "https://lh3.googleusercontent.com/a-/AOh14GiP23YhrdCRmttiAuuo8XnOaBfofkzYtoOAUX-ltQ=s64",
      "userId": "17977956221845369626"
     },
     "user_tz": -330
    },
    "id": "98b13422",
    "outputId": "e579e076-ded1-46d7-ac2b-aafdff200d3e",
    "scrolled": false
   },
   "outputs": [
    {
     "data": {
      "text/html": [
       "<div>\n",
       "<style scoped>\n",
       "    .dataframe tbody tr th:only-of-type {\n",
       "        vertical-align: middle;\n",
       "    }\n",
       "\n",
       "    .dataframe tbody tr th {\n",
       "        vertical-align: top;\n",
       "    }\n",
       "\n",
       "    .dataframe thead th {\n",
       "        text-align: right;\n",
       "    }\n",
       "</style>\n",
       "<table border=\"1\" class=\"dataframe\">\n",
       "  <thead>\n",
       "    <tr style=\"text-align: right;\">\n",
       "      <th></th>\n",
       "      <th>Item_Weight</th>\n",
       "      <th>Item_MRP</th>\n",
       "      <th>Item_Outlet_Sales</th>\n",
       "      <th>Item_Fat_Content_Regular</th>\n",
       "      <th>Item_Type_Breads</th>\n",
       "      <th>Item_Type_Breakfast</th>\n",
       "      <th>Item_Type_Canned</th>\n",
       "      <th>Item_Type_Dairy</th>\n",
       "      <th>Item_Type_Frozen Foods</th>\n",
       "      <th>Item_Type_Fruits and Vegetables</th>\n",
       "      <th>Item_Type_Hard Drinks</th>\n",
       "      <th>Item_Type_Health and Hygiene</th>\n",
       "      <th>Item_Type_Household</th>\n",
       "      <th>Item_Type_Meat</th>\n",
       "      <th>Item_Type_Others</th>\n",
       "      <th>Item_Type_Seafood</th>\n",
       "      <th>Item_Type_Snack Foods</th>\n",
       "      <th>Item_Type_Soft Drinks</th>\n",
       "      <th>Item_Type_Starchy Foods</th>\n",
       "      <th>Outlet_Location_Type_Tier 2</th>\n",
       "      <th>Outlet_Location_Type_Tier 3</th>\n",
       "      <th>Outlet_Type_Supermarket Type1</th>\n",
       "      <th>Outlet_Type_Supermarket Type2</th>\n",
       "      <th>Outlet_Type_Supermarket Type3</th>\n",
       "    </tr>\n",
       "  </thead>\n",
       "  <tbody>\n",
       "    <tr>\n",
       "      <th>0</th>\n",
       "      <td>9.30</td>\n",
       "      <td>249.8092</td>\n",
       "      <td>61.115775</td>\n",
       "      <td>0</td>\n",
       "      <td>0</td>\n",
       "      <td>0</td>\n",
       "      <td>0</td>\n",
       "      <td>1</td>\n",
       "      <td>0</td>\n",
       "      <td>0</td>\n",
       "      <td>0</td>\n",
       "      <td>0</td>\n",
       "      <td>0</td>\n",
       "      <td>0</td>\n",
       "      <td>0</td>\n",
       "      <td>0</td>\n",
       "      <td>0</td>\n",
       "      <td>0</td>\n",
       "      <td>0</td>\n",
       "      <td>0</td>\n",
       "      <td>0</td>\n",
       "      <td>1</td>\n",
       "      <td>0</td>\n",
       "      <td>0</td>\n",
       "    </tr>\n",
       "    <tr>\n",
       "      <th>1</th>\n",
       "      <td>5.92</td>\n",
       "      <td>48.2692</td>\n",
       "      <td>21.057607</td>\n",
       "      <td>1</td>\n",
       "      <td>0</td>\n",
       "      <td>0</td>\n",
       "      <td>0</td>\n",
       "      <td>0</td>\n",
       "      <td>0</td>\n",
       "      <td>0</td>\n",
       "      <td>0</td>\n",
       "      <td>0</td>\n",
       "      <td>0</td>\n",
       "      <td>0</td>\n",
       "      <td>0</td>\n",
       "      <td>0</td>\n",
       "      <td>0</td>\n",
       "      <td>1</td>\n",
       "      <td>0</td>\n",
       "      <td>0</td>\n",
       "      <td>1</td>\n",
       "      <td>0</td>\n",
       "      <td>1</td>\n",
       "      <td>0</td>\n",
       "    </tr>\n",
       "    <tr>\n",
       "      <th>2</th>\n",
       "      <td>17.50</td>\n",
       "      <td>141.6180</td>\n",
       "      <td>45.795961</td>\n",
       "      <td>0</td>\n",
       "      <td>0</td>\n",
       "      <td>0</td>\n",
       "      <td>0</td>\n",
       "      <td>0</td>\n",
       "      <td>0</td>\n",
       "      <td>0</td>\n",
       "      <td>0</td>\n",
       "      <td>0</td>\n",
       "      <td>0</td>\n",
       "      <td>1</td>\n",
       "      <td>0</td>\n",
       "      <td>0</td>\n",
       "      <td>0</td>\n",
       "      <td>0</td>\n",
       "      <td>0</td>\n",
       "      <td>0</td>\n",
       "      <td>0</td>\n",
       "      <td>1</td>\n",
       "      <td>0</td>\n",
       "      <td>0</td>\n",
       "    </tr>\n",
       "    <tr>\n",
       "      <th>3</th>\n",
       "      <td>19.20</td>\n",
       "      <td>182.0950</td>\n",
       "      <td>27.062520</td>\n",
       "      <td>1</td>\n",
       "      <td>0</td>\n",
       "      <td>0</td>\n",
       "      <td>0</td>\n",
       "      <td>0</td>\n",
       "      <td>0</td>\n",
       "      <td>1</td>\n",
       "      <td>0</td>\n",
       "      <td>0</td>\n",
       "      <td>0</td>\n",
       "      <td>0</td>\n",
       "      <td>0</td>\n",
       "      <td>0</td>\n",
       "      <td>0</td>\n",
       "      <td>0</td>\n",
       "      <td>0</td>\n",
       "      <td>0</td>\n",
       "      <td>1</td>\n",
       "      <td>0</td>\n",
       "      <td>0</td>\n",
       "      <td>0</td>\n",
       "    </tr>\n",
       "    <tr>\n",
       "      <th>4</th>\n",
       "      <td>8.93</td>\n",
       "      <td>53.8614</td>\n",
       "      <td>31.538947</td>\n",
       "      <td>0</td>\n",
       "      <td>0</td>\n",
       "      <td>0</td>\n",
       "      <td>0</td>\n",
       "      <td>0</td>\n",
       "      <td>0</td>\n",
       "      <td>0</td>\n",
       "      <td>0</td>\n",
       "      <td>0</td>\n",
       "      <td>1</td>\n",
       "      <td>0</td>\n",
       "      <td>0</td>\n",
       "      <td>0</td>\n",
       "      <td>0</td>\n",
       "      <td>0</td>\n",
       "      <td>0</td>\n",
       "      <td>0</td>\n",
       "      <td>1</td>\n",
       "      <td>1</td>\n",
       "      <td>0</td>\n",
       "      <td>0</td>\n",
       "    </tr>\n",
       "  </tbody>\n",
       "</table>\n",
       "</div>"
      ],
      "text/plain": [
       "   Item_Weight  Item_MRP  Item_Outlet_Sales  Item_Fat_Content_Regular  \\\n",
       "0         9.30  249.8092          61.115775                         0   \n",
       "1         5.92   48.2692          21.057607                         1   \n",
       "2        17.50  141.6180          45.795961                         0   \n",
       "3        19.20  182.0950          27.062520                         1   \n",
       "4         8.93   53.8614          31.538947                         0   \n",
       "\n",
       "   Item_Type_Breads  Item_Type_Breakfast  Item_Type_Canned  Item_Type_Dairy  \\\n",
       "0                 0                    0                 0                1   \n",
       "1                 0                    0                 0                0   \n",
       "2                 0                    0                 0                0   \n",
       "3                 0                    0                 0                0   \n",
       "4                 0                    0                 0                0   \n",
       "\n",
       "   Item_Type_Frozen Foods  Item_Type_Fruits and Vegetables  \\\n",
       "0                       0                                0   \n",
       "1                       0                                0   \n",
       "2                       0                                0   \n",
       "3                       0                                1   \n",
       "4                       0                                0   \n",
       "\n",
       "   Item_Type_Hard Drinks  Item_Type_Health and Hygiene  Item_Type_Household  \\\n",
       "0                      0                             0                    0   \n",
       "1                      0                             0                    0   \n",
       "2                      0                             0                    0   \n",
       "3                      0                             0                    0   \n",
       "4                      0                             0                    1   \n",
       "\n",
       "   Item_Type_Meat  Item_Type_Others  Item_Type_Seafood  Item_Type_Snack Foods  \\\n",
       "0               0                 0                  0                      0   \n",
       "1               0                 0                  0                      0   \n",
       "2               1                 0                  0                      0   \n",
       "3               0                 0                  0                      0   \n",
       "4               0                 0                  0                      0   \n",
       "\n",
       "   Item_Type_Soft Drinks  Item_Type_Starchy Foods  \\\n",
       "0                      0                        0   \n",
       "1                      1                        0   \n",
       "2                      0                        0   \n",
       "3                      0                        0   \n",
       "4                      0                        0   \n",
       "\n",
       "   Outlet_Location_Type_Tier 2  Outlet_Location_Type_Tier 3  \\\n",
       "0                            0                            0   \n",
       "1                            0                            1   \n",
       "2                            0                            0   \n",
       "3                            0                            1   \n",
       "4                            0                            1   \n",
       "\n",
       "   Outlet_Type_Supermarket Type1  Outlet_Type_Supermarket Type2  \\\n",
       "0                              1                              0   \n",
       "1                              0                              1   \n",
       "2                              1                              0   \n",
       "3                              0                              0   \n",
       "4                              1                              0   \n",
       "\n",
       "   Outlet_Type_Supermarket Type3  \n",
       "0                              0  \n",
       "1                              0  \n",
       "2                              0  \n",
       "3                              0  \n",
       "4                              0  "
      ]
     },
     "execution_count": 3,
     "metadata": {},
     "output_type": "execute_result"
    }
   ],
   "source": [
    "train_df = pd.read_csv('preprocessed_data.csv')\n",
    "train_df.head()"
   ]
  },
  {
   "cell_type": "markdown",
   "id": "b0988145",
   "metadata": {
    "id": "b0988145"
   },
   "source": [
    "# Model Building\n",
    "\n",
    "1. Linear Regression\n",
    "2. Ridge Regression\n",
    "3. Lasso Regression\n",
    "4. Random Forest Regressor\n",
    "5. KNN Regressor\n",
    "6. SVM Regressor"
   ]
  },
  {
   "cell_type": "markdown",
   "id": "d5fc6e0a",
   "metadata": {
    "id": "d5fc6e0a"
   },
   "source": [
    "## X,y split"
   ]
  },
  {
   "cell_type": "code",
   "execution_count": 4,
   "id": "61bc45d9",
   "metadata": {
    "executionInfo": {
     "elapsed": 12,
     "status": "ok",
     "timestamp": 1645024046813,
     "user": {
      "displayName": "Sumegh Sen",
      "photoUrl": "https://lh3.googleusercontent.com/a-/AOh14GiP23YhrdCRmttiAuuo8XnOaBfofkzYtoOAUX-ltQ=s64",
      "userId": "17977956221845369626"
     },
     "user_tz": -330
    },
    "id": "61bc45d9"
   },
   "outputs": [],
   "source": [
    "X = train_df.drop(['Item_Outlet_Sales'],axis = 1)\n",
    "Y = train_df['Item_Outlet_Sales']"
   ]
  },
  {
   "cell_type": "markdown",
   "id": "111a3cb1",
   "metadata": {
    "id": "111a3cb1"
   },
   "source": [
    "## Train Test split"
   ]
  },
  {
   "cell_type": "code",
   "execution_count": 5,
   "id": "e053e9b5",
   "metadata": {
    "colab": {
     "base_uri": "https://localhost:8080/"
    },
    "executionInfo": {
     "elapsed": 11,
     "status": "ok",
     "timestamp": 1645024048638,
     "user": {
      "displayName": "Sumegh Sen",
      "photoUrl": "https://lh3.googleusercontent.com/a-/AOh14GiP23YhrdCRmttiAuuo8XnOaBfofkzYtoOAUX-ltQ=s64",
      "userId": "17977956221845369626"
     },
     "user_tz": -330
    },
    "id": "e053e9b5",
    "outputId": "17d6b6fd-ea58-4145-9f33-c7e699acf9c4"
   },
   "outputs": [
    {
     "name": "stdout",
     "output_type": "stream",
     "text": [
      "(6818, 23) (1705, 23) (6818,) (1705,)\n"
     ]
    }
   ],
   "source": [
    "from sklearn.model_selection import train_test_split\n",
    "\n",
    "X_train,X_test,Y_train,Y_test = train_test_split(X,Y,test_size=0.2,random_state = 42)\n",
    "print(X_train.shape,X_test.shape,Y_train.shape,Y_test.shape)"
   ]
  },
  {
   "cell_type": "code",
   "execution_count": 6,
   "id": "3f2e1e0d",
   "metadata": {
    "colab": {
     "base_uri": "https://localhost:8080/",
     "height": 288
    },
    "executionInfo": {
     "elapsed": 98,
     "status": "ok",
     "timestamp": 1645022077048,
     "user": {
      "displayName": "Sumegh Sen",
      "photoUrl": "https://lh3.googleusercontent.com/a-/AOh14GiP23YhrdCRmttiAuuo8XnOaBfofkzYtoOAUX-ltQ=s64",
      "userId": "17977956221845369626"
     },
     "user_tz": -330
    },
    "id": "3f2e1e0d",
    "outputId": "4bb04baa-9246-4a21-ac2a-f455eb71bec4"
   },
   "outputs": [
    {
     "data": {
      "text/html": [
       "<div>\n",
       "<style scoped>\n",
       "    .dataframe tbody tr th:only-of-type {\n",
       "        vertical-align: middle;\n",
       "    }\n",
       "\n",
       "    .dataframe tbody tr th {\n",
       "        vertical-align: top;\n",
       "    }\n",
       "\n",
       "    .dataframe thead th {\n",
       "        text-align: right;\n",
       "    }\n",
       "</style>\n",
       "<table border=\"1\" class=\"dataframe\">\n",
       "  <thead>\n",
       "    <tr style=\"text-align: right;\">\n",
       "      <th></th>\n",
       "      <th>Item_Weight</th>\n",
       "      <th>Item_MRP</th>\n",
       "      <th>Item_Fat_Content_Regular</th>\n",
       "      <th>Item_Type_Breads</th>\n",
       "      <th>Item_Type_Breakfast</th>\n",
       "      <th>Item_Type_Canned</th>\n",
       "      <th>Item_Type_Dairy</th>\n",
       "      <th>Item_Type_Frozen Foods</th>\n",
       "      <th>Item_Type_Fruits and Vegetables</th>\n",
       "      <th>Item_Type_Hard Drinks</th>\n",
       "      <th>Item_Type_Health and Hygiene</th>\n",
       "      <th>Item_Type_Household</th>\n",
       "      <th>Item_Type_Meat</th>\n",
       "      <th>Item_Type_Others</th>\n",
       "      <th>Item_Type_Seafood</th>\n",
       "      <th>Item_Type_Snack Foods</th>\n",
       "      <th>Item_Type_Soft Drinks</th>\n",
       "      <th>Item_Type_Starchy Foods</th>\n",
       "      <th>Outlet_Location_Type_Tier 2</th>\n",
       "      <th>Outlet_Location_Type_Tier 3</th>\n",
       "      <th>Outlet_Type_Supermarket Type1</th>\n",
       "      <th>Outlet_Type_Supermarket Type2</th>\n",
       "      <th>Outlet_Type_Supermarket Type3</th>\n",
       "    </tr>\n",
       "  </thead>\n",
       "  <tbody>\n",
       "    <tr>\n",
       "      <th>549</th>\n",
       "      <td>9.500</td>\n",
       "      <td>171.3448</td>\n",
       "      <td>1</td>\n",
       "      <td>0</td>\n",
       "      <td>0</td>\n",
       "      <td>0</td>\n",
       "      <td>0</td>\n",
       "      <td>0</td>\n",
       "      <td>1</td>\n",
       "      <td>0</td>\n",
       "      <td>0</td>\n",
       "      <td>0</td>\n",
       "      <td>0</td>\n",
       "      <td>0</td>\n",
       "      <td>0</td>\n",
       "      <td>0</td>\n",
       "      <td>0</td>\n",
       "      <td>0</td>\n",
       "      <td>0</td>\n",
       "      <td>0</td>\n",
       "      <td>1</td>\n",
       "      <td>0</td>\n",
       "      <td>0</td>\n",
       "    </tr>\n",
       "    <tr>\n",
       "      <th>7757</th>\n",
       "      <td>18.000</td>\n",
       "      <td>170.5422</td>\n",
       "      <td>0</td>\n",
       "      <td>0</td>\n",
       "      <td>0</td>\n",
       "      <td>0</td>\n",
       "      <td>0</td>\n",
       "      <td>0</td>\n",
       "      <td>0</td>\n",
       "      <td>0</td>\n",
       "      <td>0</td>\n",
       "      <td>1</td>\n",
       "      <td>0</td>\n",
       "      <td>0</td>\n",
       "      <td>0</td>\n",
       "      <td>0</td>\n",
       "      <td>0</td>\n",
       "      <td>0</td>\n",
       "      <td>1</td>\n",
       "      <td>0</td>\n",
       "      <td>1</td>\n",
       "      <td>0</td>\n",
       "      <td>0</td>\n",
       "    </tr>\n",
       "    <tr>\n",
       "      <th>764</th>\n",
       "      <td>17.600</td>\n",
       "      <td>111.7202</td>\n",
       "      <td>1</td>\n",
       "      <td>0</td>\n",
       "      <td>0</td>\n",
       "      <td>0</td>\n",
       "      <td>0</td>\n",
       "      <td>0</td>\n",
       "      <td>0</td>\n",
       "      <td>0</td>\n",
       "      <td>0</td>\n",
       "      <td>0</td>\n",
       "      <td>1</td>\n",
       "      <td>0</td>\n",
       "      <td>0</td>\n",
       "      <td>0</td>\n",
       "      <td>0</td>\n",
       "      <td>0</td>\n",
       "      <td>0</td>\n",
       "      <td>0</td>\n",
       "      <td>1</td>\n",
       "      <td>0</td>\n",
       "      <td>0</td>\n",
       "    </tr>\n",
       "    <tr>\n",
       "      <th>6867</th>\n",
       "      <td>8.325</td>\n",
       "      <td>41.6138</td>\n",
       "      <td>0</td>\n",
       "      <td>0</td>\n",
       "      <td>0</td>\n",
       "      <td>0</td>\n",
       "      <td>0</td>\n",
       "      <td>0</td>\n",
       "      <td>1</td>\n",
       "      <td>0</td>\n",
       "      <td>0</td>\n",
       "      <td>0</td>\n",
       "      <td>0</td>\n",
       "      <td>0</td>\n",
       "      <td>0</td>\n",
       "      <td>0</td>\n",
       "      <td>0</td>\n",
       "      <td>0</td>\n",
       "      <td>1</td>\n",
       "      <td>0</td>\n",
       "      <td>1</td>\n",
       "      <td>0</td>\n",
       "      <td>0</td>\n",
       "    </tr>\n",
       "    <tr>\n",
       "      <th>2716</th>\n",
       "      <td>12.850</td>\n",
       "      <td>155.5630</td>\n",
       "      <td>0</td>\n",
       "      <td>0</td>\n",
       "      <td>0</td>\n",
       "      <td>0</td>\n",
       "      <td>0</td>\n",
       "      <td>0</td>\n",
       "      <td>0</td>\n",
       "      <td>0</td>\n",
       "      <td>0</td>\n",
       "      <td>0</td>\n",
       "      <td>0</td>\n",
       "      <td>0</td>\n",
       "      <td>0</td>\n",
       "      <td>1</td>\n",
       "      <td>0</td>\n",
       "      <td>0</td>\n",
       "      <td>0</td>\n",
       "      <td>0</td>\n",
       "      <td>1</td>\n",
       "      <td>0</td>\n",
       "      <td>0</td>\n",
       "    </tr>\n",
       "  </tbody>\n",
       "</table>\n",
       "</div>"
      ],
      "text/plain": [
       "      Item_Weight  Item_MRP  Item_Fat_Content_Regular  Item_Type_Breads  \\\n",
       "549         9.500  171.3448                         1                 0   \n",
       "7757       18.000  170.5422                         0                 0   \n",
       "764        17.600  111.7202                         1                 0   \n",
       "6867        8.325   41.6138                         0                 0   \n",
       "2716       12.850  155.5630                         0                 0   \n",
       "\n",
       "      Item_Type_Breakfast  Item_Type_Canned  Item_Type_Dairy  \\\n",
       "549                     0                 0                0   \n",
       "7757                    0                 0                0   \n",
       "764                     0                 0                0   \n",
       "6867                    0                 0                0   \n",
       "2716                    0                 0                0   \n",
       "\n",
       "      Item_Type_Frozen Foods  Item_Type_Fruits and Vegetables  \\\n",
       "549                        0                                1   \n",
       "7757                       0                                0   \n",
       "764                        0                                0   \n",
       "6867                       0                                1   \n",
       "2716                       0                                0   \n",
       "\n",
       "      Item_Type_Hard Drinks  Item_Type_Health and Hygiene  \\\n",
       "549                       0                             0   \n",
       "7757                      0                             0   \n",
       "764                       0                             0   \n",
       "6867                      0                             0   \n",
       "2716                      0                             0   \n",
       "\n",
       "      Item_Type_Household  Item_Type_Meat  Item_Type_Others  \\\n",
       "549                     0               0                 0   \n",
       "7757                    1               0                 0   \n",
       "764                     0               1                 0   \n",
       "6867                    0               0                 0   \n",
       "2716                    0               0                 0   \n",
       "\n",
       "      Item_Type_Seafood  Item_Type_Snack Foods  Item_Type_Soft Drinks  \\\n",
       "549                   0                      0                      0   \n",
       "7757                  0                      0                      0   \n",
       "764                   0                      0                      0   \n",
       "6867                  0                      0                      0   \n",
       "2716                  0                      1                      0   \n",
       "\n",
       "      Item_Type_Starchy Foods  Outlet_Location_Type_Tier 2  \\\n",
       "549                         0                            0   \n",
       "7757                        0                            1   \n",
       "764                         0                            0   \n",
       "6867                        0                            1   \n",
       "2716                        0                            0   \n",
       "\n",
       "      Outlet_Location_Type_Tier 3  Outlet_Type_Supermarket Type1  \\\n",
       "549                             0                              1   \n",
       "7757                            0                              1   \n",
       "764                             0                              1   \n",
       "6867                            0                              1   \n",
       "2716                            0                              1   \n",
       "\n",
       "      Outlet_Type_Supermarket Type2  Outlet_Type_Supermarket Type3  \n",
       "549                               0                              0  \n",
       "7757                              0                              0  \n",
       "764                               0                              0  \n",
       "6867                              0                              0  \n",
       "2716                              0                              0  "
      ]
     },
     "execution_count": 6,
     "metadata": {},
     "output_type": "execute_result"
    }
   ],
   "source": [
    "X_train.head()"
   ]
  },
  {
   "cell_type": "code",
   "execution_count": 7,
   "id": "a7857624",
   "metadata": {
    "executionInfo": {
     "elapsed": 391,
     "status": "ok",
     "timestamp": 1645024058991,
     "user": {
      "displayName": "Sumegh Sen",
      "photoUrl": "https://lh3.googleusercontent.com/a-/AOh14GiP23YhrdCRmttiAuuo8XnOaBfofkzYtoOAUX-ltQ=s64",
      "userId": "17977956221845369626"
     },
     "user_tz": -330
    },
    "id": "a7857624"
   },
   "outputs": [],
   "source": [
    "# Standarization\n",
    "\n",
    "from sklearn.preprocessing import StandardScaler\n",
    "st = StandardScaler()\n",
    "\n",
    "X_train_st = st.fit_transform(X_train[['Item_Weight','Item_MRP']])"
   ]
  },
  {
   "cell_type": "code",
   "execution_count": 8,
   "id": "6337de76",
   "metadata": {
    "colab": {
     "base_uri": "https://localhost:8080/"
    },
    "executionInfo": {
     "elapsed": 83,
     "status": "ok",
     "timestamp": 1645022077053,
     "user": {
      "displayName": "Sumegh Sen",
      "photoUrl": "https://lh3.googleusercontent.com/a-/AOh14GiP23YhrdCRmttiAuuo8XnOaBfofkzYtoOAUX-ltQ=s64",
      "userId": "17977956221845369626"
     },
     "user_tz": -330
    },
    "id": "6337de76",
    "outputId": "6e422b03-d77d-436c-8196-6bcfe8661ff4"
   },
   "outputs": [
    {
     "data": {
      "text/plain": [
       "array([[-0.72461559,  0.47070929],\n",
       "       [ 1.11178481,  0.45787656],\n",
       "       [ 1.02536597, -0.48262534],\n",
       "       ...,\n",
       "       [ 1.02536597,  1.52620691],\n",
       "       [ 1.61949551, -0.38307175],\n",
       "       [ 0.75530708, -0.73811593]])"
      ]
     },
     "execution_count": 8,
     "metadata": {},
     "output_type": "execute_result"
    }
   ],
   "source": [
    "X_train_st"
   ]
  },
  {
   "cell_type": "code",
   "execution_count": 9,
   "id": "4d844c42",
   "metadata": {
    "colab": {
     "base_uri": "https://localhost:8080/",
     "height": 505
    },
    "executionInfo": {
     "elapsed": 17,
     "status": "ok",
     "timestamp": 1645024061614,
     "user": {
      "displayName": "Sumegh Sen",
      "photoUrl": "https://lh3.googleusercontent.com/a-/AOh14GiP23YhrdCRmttiAuuo8XnOaBfofkzYtoOAUX-ltQ=s64",
      "userId": "17977956221845369626"
     },
     "user_tz": -330
    },
    "id": "4d844c42",
    "outputId": "3be20bb7-ffb8-4b67-f1c1-b881489d03b4",
    "scrolled": true
   },
   "outputs": [
    {
     "data": {
      "text/html": [
       "<div>\n",
       "<style scoped>\n",
       "    .dataframe tbody tr th:only-of-type {\n",
       "        vertical-align: middle;\n",
       "    }\n",
       "\n",
       "    .dataframe tbody tr th {\n",
       "        vertical-align: top;\n",
       "    }\n",
       "\n",
       "    .dataframe thead th {\n",
       "        text-align: right;\n",
       "    }\n",
       "</style>\n",
       "<table border=\"1\" class=\"dataframe\">\n",
       "  <thead>\n",
       "    <tr style=\"text-align: right;\">\n",
       "      <th></th>\n",
       "      <th>Item_Weight</th>\n",
       "      <th>Item_MRP</th>\n",
       "      <th>Item_Fat_Content_Regular</th>\n",
       "      <th>Item_Type_Breads</th>\n",
       "      <th>Item_Type_Breakfast</th>\n",
       "      <th>Item_Type_Canned</th>\n",
       "      <th>Item_Type_Dairy</th>\n",
       "      <th>Item_Type_Frozen Foods</th>\n",
       "      <th>Item_Type_Fruits and Vegetables</th>\n",
       "      <th>Item_Type_Hard Drinks</th>\n",
       "      <th>Item_Type_Health and Hygiene</th>\n",
       "      <th>Item_Type_Household</th>\n",
       "      <th>Item_Type_Meat</th>\n",
       "      <th>Item_Type_Others</th>\n",
       "      <th>Item_Type_Seafood</th>\n",
       "      <th>Item_Type_Snack Foods</th>\n",
       "      <th>Item_Type_Soft Drinks</th>\n",
       "      <th>Item_Type_Starchy Foods</th>\n",
       "      <th>Outlet_Location_Type_Tier 2</th>\n",
       "      <th>Outlet_Location_Type_Tier 3</th>\n",
       "      <th>Outlet_Type_Supermarket Type1</th>\n",
       "      <th>Outlet_Type_Supermarket Type2</th>\n",
       "      <th>Outlet_Type_Supermarket Type3</th>\n",
       "    </tr>\n",
       "  </thead>\n",
       "  <tbody>\n",
       "    <tr>\n",
       "      <th>549</th>\n",
       "      <td>-0.724616</td>\n",
       "      <td>0.470709</td>\n",
       "      <td>1</td>\n",
       "      <td>0</td>\n",
       "      <td>0</td>\n",
       "      <td>0</td>\n",
       "      <td>0</td>\n",
       "      <td>0</td>\n",
       "      <td>1</td>\n",
       "      <td>0</td>\n",
       "      <td>0</td>\n",
       "      <td>0</td>\n",
       "      <td>0</td>\n",
       "      <td>0</td>\n",
       "      <td>0</td>\n",
       "      <td>0</td>\n",
       "      <td>0</td>\n",
       "      <td>0</td>\n",
       "      <td>0</td>\n",
       "      <td>0</td>\n",
       "      <td>1</td>\n",
       "      <td>0</td>\n",
       "      <td>0</td>\n",
       "    </tr>\n",
       "    <tr>\n",
       "      <th>7757</th>\n",
       "      <td>1.111785</td>\n",
       "      <td>0.457877</td>\n",
       "      <td>0</td>\n",
       "      <td>0</td>\n",
       "      <td>0</td>\n",
       "      <td>0</td>\n",
       "      <td>0</td>\n",
       "      <td>0</td>\n",
       "      <td>0</td>\n",
       "      <td>0</td>\n",
       "      <td>0</td>\n",
       "      <td>1</td>\n",
       "      <td>0</td>\n",
       "      <td>0</td>\n",
       "      <td>0</td>\n",
       "      <td>0</td>\n",
       "      <td>0</td>\n",
       "      <td>0</td>\n",
       "      <td>1</td>\n",
       "      <td>0</td>\n",
       "      <td>1</td>\n",
       "      <td>0</td>\n",
       "      <td>0</td>\n",
       "    </tr>\n",
       "    <tr>\n",
       "      <th>764</th>\n",
       "      <td>1.025366</td>\n",
       "      <td>-0.482625</td>\n",
       "      <td>1</td>\n",
       "      <td>0</td>\n",
       "      <td>0</td>\n",
       "      <td>0</td>\n",
       "      <td>0</td>\n",
       "      <td>0</td>\n",
       "      <td>0</td>\n",
       "      <td>0</td>\n",
       "      <td>0</td>\n",
       "      <td>0</td>\n",
       "      <td>1</td>\n",
       "      <td>0</td>\n",
       "      <td>0</td>\n",
       "      <td>0</td>\n",
       "      <td>0</td>\n",
       "      <td>0</td>\n",
       "      <td>0</td>\n",
       "      <td>0</td>\n",
       "      <td>1</td>\n",
       "      <td>0</td>\n",
       "      <td>0</td>\n",
       "    </tr>\n",
       "    <tr>\n",
       "      <th>6867</th>\n",
       "      <td>-0.978471</td>\n",
       "      <td>-1.603553</td>\n",
       "      <td>0</td>\n",
       "      <td>0</td>\n",
       "      <td>0</td>\n",
       "      <td>0</td>\n",
       "      <td>0</td>\n",
       "      <td>0</td>\n",
       "      <td>1</td>\n",
       "      <td>0</td>\n",
       "      <td>0</td>\n",
       "      <td>0</td>\n",
       "      <td>0</td>\n",
       "      <td>0</td>\n",
       "      <td>0</td>\n",
       "      <td>0</td>\n",
       "      <td>0</td>\n",
       "      <td>0</td>\n",
       "      <td>1</td>\n",
       "      <td>0</td>\n",
       "      <td>1</td>\n",
       "      <td>0</td>\n",
       "      <td>0</td>\n",
       "    </tr>\n",
       "    <tr>\n",
       "      <th>2716</th>\n",
       "      <td>-0.000858</td>\n",
       "      <td>0.218375</td>\n",
       "      <td>0</td>\n",
       "      <td>0</td>\n",
       "      <td>0</td>\n",
       "      <td>0</td>\n",
       "      <td>0</td>\n",
       "      <td>0</td>\n",
       "      <td>0</td>\n",
       "      <td>0</td>\n",
       "      <td>0</td>\n",
       "      <td>0</td>\n",
       "      <td>0</td>\n",
       "      <td>0</td>\n",
       "      <td>0</td>\n",
       "      <td>1</td>\n",
       "      <td>0</td>\n",
       "      <td>0</td>\n",
       "      <td>0</td>\n",
       "      <td>0</td>\n",
       "      <td>1</td>\n",
       "      <td>0</td>\n",
       "      <td>0</td>\n",
       "    </tr>\n",
       "    <tr>\n",
       "      <th>...</th>\n",
       "      <td>...</td>\n",
       "      <td>...</td>\n",
       "      <td>...</td>\n",
       "      <td>...</td>\n",
       "      <td>...</td>\n",
       "      <td>...</td>\n",
       "      <td>...</td>\n",
       "      <td>...</td>\n",
       "      <td>...</td>\n",
       "      <td>...</td>\n",
       "      <td>...</td>\n",
       "      <td>...</td>\n",
       "      <td>...</td>\n",
       "      <td>...</td>\n",
       "      <td>...</td>\n",
       "      <td>...</td>\n",
       "      <td>...</td>\n",
       "      <td>...</td>\n",
       "      <td>...</td>\n",
       "      <td>...</td>\n",
       "      <td>...</td>\n",
       "      <td>...</td>\n",
       "      <td>...</td>\n",
       "    </tr>\n",
       "    <tr>\n",
       "      <th>5734</th>\n",
       "      <td>-0.747301</td>\n",
       "      <td>-0.043511</td>\n",
       "      <td>1</td>\n",
       "      <td>0</td>\n",
       "      <td>0</td>\n",
       "      <td>0</td>\n",
       "      <td>0</td>\n",
       "      <td>0</td>\n",
       "      <td>1</td>\n",
       "      <td>0</td>\n",
       "      <td>0</td>\n",
       "      <td>0</td>\n",
       "      <td>0</td>\n",
       "      <td>0</td>\n",
       "      <td>0</td>\n",
       "      <td>0</td>\n",
       "      <td>0</td>\n",
       "      <td>0</td>\n",
       "      <td>0</td>\n",
       "      <td>1</td>\n",
       "      <td>0</td>\n",
       "      <td>0</td>\n",
       "      <td>0</td>\n",
       "    </tr>\n",
       "    <tr>\n",
       "      <th>5191</th>\n",
       "      <td>0.593272</td>\n",
       "      <td>-1.059078</td>\n",
       "      <td>0</td>\n",
       "      <td>0</td>\n",
       "      <td>0</td>\n",
       "      <td>0</td>\n",
       "      <td>0</td>\n",
       "      <td>1</td>\n",
       "      <td>0</td>\n",
       "      <td>0</td>\n",
       "      <td>0</td>\n",
       "      <td>0</td>\n",
       "      <td>0</td>\n",
       "      <td>0</td>\n",
       "      <td>0</td>\n",
       "      <td>0</td>\n",
       "      <td>0</td>\n",
       "      <td>0</td>\n",
       "      <td>1</td>\n",
       "      <td>0</td>\n",
       "      <td>1</td>\n",
       "      <td>0</td>\n",
       "      <td>0</td>\n",
       "    </tr>\n",
       "    <tr>\n",
       "      <th>5390</th>\n",
       "      <td>1.025366</td>\n",
       "      <td>1.526207</td>\n",
       "      <td>0</td>\n",
       "      <td>0</td>\n",
       "      <td>0</td>\n",
       "      <td>0</td>\n",
       "      <td>0</td>\n",
       "      <td>0</td>\n",
       "      <td>0</td>\n",
       "      <td>0</td>\n",
       "      <td>1</td>\n",
       "      <td>0</td>\n",
       "      <td>0</td>\n",
       "      <td>0</td>\n",
       "      <td>0</td>\n",
       "      <td>0</td>\n",
       "      <td>0</td>\n",
       "      <td>0</td>\n",
       "      <td>1</td>\n",
       "      <td>0</td>\n",
       "      <td>1</td>\n",
       "      <td>0</td>\n",
       "      <td>0</td>\n",
       "    </tr>\n",
       "    <tr>\n",
       "      <th>860</th>\n",
       "      <td>1.619496</td>\n",
       "      <td>-0.383072</td>\n",
       "      <td>0</td>\n",
       "      <td>0</td>\n",
       "      <td>0</td>\n",
       "      <td>0</td>\n",
       "      <td>0</td>\n",
       "      <td>0</td>\n",
       "      <td>0</td>\n",
       "      <td>0</td>\n",
       "      <td>0</td>\n",
       "      <td>0</td>\n",
       "      <td>0</td>\n",
       "      <td>0</td>\n",
       "      <td>0</td>\n",
       "      <td>1</td>\n",
       "      <td>0</td>\n",
       "      <td>0</td>\n",
       "      <td>1</td>\n",
       "      <td>0</td>\n",
       "      <td>1</td>\n",
       "      <td>0</td>\n",
       "      <td>0</td>\n",
       "    </tr>\n",
       "    <tr>\n",
       "      <th>7270</th>\n",
       "      <td>0.755307</td>\n",
       "      <td>-0.738116</td>\n",
       "      <td>0</td>\n",
       "      <td>0</td>\n",
       "      <td>0</td>\n",
       "      <td>0</td>\n",
       "      <td>0</td>\n",
       "      <td>0</td>\n",
       "      <td>0</td>\n",
       "      <td>0</td>\n",
       "      <td>0</td>\n",
       "      <td>1</td>\n",
       "      <td>0</td>\n",
       "      <td>0</td>\n",
       "      <td>0</td>\n",
       "      <td>0</td>\n",
       "      <td>0</td>\n",
       "      <td>0</td>\n",
       "      <td>0</td>\n",
       "      <td>0</td>\n",
       "      <td>1</td>\n",
       "      <td>0</td>\n",
       "      <td>0</td>\n",
       "    </tr>\n",
       "  </tbody>\n",
       "</table>\n",
       "<p>6818 rows × 23 columns</p>\n",
       "</div>"
      ],
      "text/plain": [
       "      Item_Weight  Item_MRP  Item_Fat_Content_Regular  Item_Type_Breads  \\\n",
       "549     -0.724616  0.470709                         1                 0   \n",
       "7757     1.111785  0.457877                         0                 0   \n",
       "764      1.025366 -0.482625                         1                 0   \n",
       "6867    -0.978471 -1.603553                         0                 0   \n",
       "2716    -0.000858  0.218375                         0                 0   \n",
       "...           ...       ...                       ...               ...   \n",
       "5734    -0.747301 -0.043511                         1                 0   \n",
       "5191     0.593272 -1.059078                         0                 0   \n",
       "5390     1.025366  1.526207                         0                 0   \n",
       "860      1.619496 -0.383072                         0                 0   \n",
       "7270     0.755307 -0.738116                         0                 0   \n",
       "\n",
       "      Item_Type_Breakfast  Item_Type_Canned  Item_Type_Dairy  \\\n",
       "549                     0                 0                0   \n",
       "7757                    0                 0                0   \n",
       "764                     0                 0                0   \n",
       "6867                    0                 0                0   \n",
       "2716                    0                 0                0   \n",
       "...                   ...               ...              ...   \n",
       "5734                    0                 0                0   \n",
       "5191                    0                 0                0   \n",
       "5390                    0                 0                0   \n",
       "860                     0                 0                0   \n",
       "7270                    0                 0                0   \n",
       "\n",
       "      Item_Type_Frozen Foods  Item_Type_Fruits and Vegetables  \\\n",
       "549                        0                                1   \n",
       "7757                       0                                0   \n",
       "764                        0                                0   \n",
       "6867                       0                                1   \n",
       "2716                       0                                0   \n",
       "...                      ...                              ...   \n",
       "5734                       0                                1   \n",
       "5191                       1                                0   \n",
       "5390                       0                                0   \n",
       "860                        0                                0   \n",
       "7270                       0                                0   \n",
       "\n",
       "      Item_Type_Hard Drinks  Item_Type_Health and Hygiene  \\\n",
       "549                       0                             0   \n",
       "7757                      0                             0   \n",
       "764                       0                             0   \n",
       "6867                      0                             0   \n",
       "2716                      0                             0   \n",
       "...                     ...                           ...   \n",
       "5734                      0                             0   \n",
       "5191                      0                             0   \n",
       "5390                      0                             1   \n",
       "860                       0                             0   \n",
       "7270                      0                             0   \n",
       "\n",
       "      Item_Type_Household  Item_Type_Meat  Item_Type_Others  \\\n",
       "549                     0               0                 0   \n",
       "7757                    1               0                 0   \n",
       "764                     0               1                 0   \n",
       "6867                    0               0                 0   \n",
       "2716                    0               0                 0   \n",
       "...                   ...             ...               ...   \n",
       "5734                    0               0                 0   \n",
       "5191                    0               0                 0   \n",
       "5390                    0               0                 0   \n",
       "860                     0               0                 0   \n",
       "7270                    1               0                 0   \n",
       "\n",
       "      Item_Type_Seafood  Item_Type_Snack Foods  Item_Type_Soft Drinks  \\\n",
       "549                   0                      0                      0   \n",
       "7757                  0                      0                      0   \n",
       "764                   0                      0                      0   \n",
       "6867                  0                      0                      0   \n",
       "2716                  0                      1                      0   \n",
       "...                 ...                    ...                    ...   \n",
       "5734                  0                      0                      0   \n",
       "5191                  0                      0                      0   \n",
       "5390                  0                      0                      0   \n",
       "860                   0                      1                      0   \n",
       "7270                  0                      0                      0   \n",
       "\n",
       "      Item_Type_Starchy Foods  Outlet_Location_Type_Tier 2  \\\n",
       "549                         0                            0   \n",
       "7757                        0                            1   \n",
       "764                         0                            0   \n",
       "6867                        0                            1   \n",
       "2716                        0                            0   \n",
       "...                       ...                          ...   \n",
       "5734                        0                            0   \n",
       "5191                        0                            1   \n",
       "5390                        0                            1   \n",
       "860                         0                            1   \n",
       "7270                        0                            0   \n",
       "\n",
       "      Outlet_Location_Type_Tier 3  Outlet_Type_Supermarket Type1  \\\n",
       "549                             0                              1   \n",
       "7757                            0                              1   \n",
       "764                             0                              1   \n",
       "6867                            0                              1   \n",
       "2716                            0                              1   \n",
       "...                           ...                            ...   \n",
       "5734                            1                              0   \n",
       "5191                            0                              1   \n",
       "5390                            0                              1   \n",
       "860                             0                              1   \n",
       "7270                            0                              1   \n",
       "\n",
       "      Outlet_Type_Supermarket Type2  Outlet_Type_Supermarket Type3  \n",
       "549                               0                              0  \n",
       "7757                              0                              0  \n",
       "764                               0                              0  \n",
       "6867                              0                              0  \n",
       "2716                              0                              0  \n",
       "...                             ...                            ...  \n",
       "5734                              0                              0  \n",
       "5191                              0                              0  \n",
       "5390                              0                              0  \n",
       "860                               0                              0  \n",
       "7270                              0                              0  \n",
       "\n",
       "[6818 rows x 23 columns]"
      ]
     },
     "execution_count": 9,
     "metadata": {},
     "output_type": "execute_result"
    }
   ],
   "source": [
    "X_train_multi = X_train.copy()\n",
    "\n",
    "X_train_multi['Item_Weight'] = X_train_st[:,0]\n",
    "X_train_multi['Item_MRP'] = X_train_st[:,1]\n",
    "\n",
    "X_train_multi"
   ]
  },
  {
   "cell_type": "markdown",
   "id": "8eaf3f98",
   "metadata": {
    "id": "8eaf3f98"
   },
   "source": [
    "## Linear Regression"
   ]
  },
  {
   "cell_type": "code",
   "execution_count": 10,
   "id": "43885fd9",
   "metadata": {
    "colab": {
     "base_uri": "https://localhost:8080/"
    },
    "executionInfo": {
     "elapsed": 80,
     "status": "ok",
     "timestamp": 1645022077661,
     "user": {
      "displayName": "Sumegh Sen",
      "photoUrl": "https://lh3.googleusercontent.com/a-/AOh14GiP23YhrdCRmttiAuuo8XnOaBfofkzYtoOAUX-ltQ=s64",
      "userId": "17977956221845369626"
     },
     "user_tz": -330
    },
    "id": "43885fd9",
    "outputId": "a0b60ebe-42a1-4774-ec15-72a32b7d6ce2"
   },
   "outputs": [],
   "source": [
    "import statsmodels.api as sn\n",
    "\n",
    "X_multi_cons = sn.add_constant(X_train_multi)"
   ]
  },
  {
   "cell_type": "code",
   "execution_count": 11,
   "id": "600e2432",
   "metadata": {
    "colab": {
     "base_uri": "https://localhost:8080/"
    },
    "executionInfo": {
     "elapsed": 930,
     "status": "ok",
     "timestamp": 1645022078544,
     "user": {
      "displayName": "Sumegh Sen",
      "photoUrl": "https://lh3.googleusercontent.com/a-/AOh14GiP23YhrdCRmttiAuuo8XnOaBfofkzYtoOAUX-ltQ=s64",
      "userId": "17977956221845369626"
     },
     "user_tz": -330
    },
    "id": "600e2432",
    "outputId": "5a83e210-5ee7-4578-e652-9fbc4d3ba526"
   },
   "outputs": [
    {
     "name": "stdout",
     "output_type": "stream",
     "text": [
      "                            OLS Regression Results                            \n",
      "==============================================================================\n",
      "Dep. Variable:      Item_Outlet_Sales   R-squared:                       0.652\n",
      "Model:                            OLS   Adj. R-squared:                  0.651\n",
      "Method:                 Least Squares   F-statistic:                     552.8\n",
      "Date:                Wed, 16 Feb 2022   Prob (F-statistic):               0.00\n",
      "Time:                        21:35:23   Log-Likelihood:                -25938.\n",
      "No. Observations:                6818   AIC:                         5.192e+04\n",
      "Df Residuals:                    6794   BIC:                         5.209e+04\n",
      "Df Model:                          23                                         \n",
      "Covariance Type:            nonrobust                                         \n",
      "===================================================================================================\n",
      "                                      coef    std err          t      P>|t|      [0.025      0.975]\n",
      "---------------------------------------------------------------------------------------------------\n",
      "const                              17.3934      0.649     26.820      0.000      16.122      18.665\n",
      "Item_Weight                        -0.0919      0.133     -0.693      0.488      -0.352       0.168\n",
      "Item_MRP                           10.4096      0.133     78.491      0.000      10.150      10.670\n",
      "Item_Fat_Content_Regular            0.4356      0.305      1.428      0.153      -0.162       1.034\n",
      "Item_Type_Breads                   -0.0540      0.926     -0.058      0.954      -1.870       1.762\n",
      "Item_Type_Breakfast                -0.1001      1.270     -0.079      0.937      -2.590       2.390\n",
      "Item_Type_Canned                    0.3763      0.682      0.552      0.581      -0.960       1.712\n",
      "Item_Type_Dairy                    -1.2711      0.676     -1.880      0.060      -2.597       0.055\n",
      "Item_Type_Frozen Foods             -0.4383      0.638     -0.687      0.492      -1.689       0.813\n",
      "Item_Type_Fruits and Vegetables     0.3111      0.594      0.524      0.600      -0.853       1.475\n",
      "Item_Type_Hard Drinks               0.1547      0.950      0.163      0.871      -1.708       2.018\n",
      "Item_Type_Health and Hygiene        0.5329      0.738      0.722      0.470      -0.914       1.979\n",
      "Item_Type_Household                -0.1407      0.645     -0.218      0.827      -1.405       1.124\n",
      "Item_Type_Meat                      0.1168      0.775      0.151      0.880      -1.402       1.636\n",
      "Item_Type_Others                   -0.1055      1.053     -0.100      0.920      -2.170       1.959\n",
      "Item_Type_Seafood                   1.7265      1.644      1.050      0.294      -1.495       4.948\n",
      "Item_Type_Snack Foods              -0.0318      0.597     -0.053      0.958      -1.203       1.139\n",
      "Item_Type_Soft Drinks              -0.4836      0.760     -0.636      0.525      -1.974       1.007\n",
      "Item_Type_Starchy Foods            -0.2618      1.078     -0.243      0.808      -2.376       1.852\n",
      "Outlet_Location_Type_Tier 2         0.1188      0.355      0.335      0.738      -0.576       0.814\n",
      "Outlet_Location_Type_Tier 3         0.0120      0.409      0.029      0.977      -0.790       0.814\n",
      "Outlet_Type_Supermarket Type1      28.1572      0.444     63.377      0.000      27.286      29.028\n",
      "Outlet_Type_Supermarket Type2      24.6381      0.578     42.595      0.000      23.504      25.772\n",
      "Outlet_Type_Supermarket Type3      40.9225      0.577     70.948      0.000      39.792      42.053\n",
      "==============================================================================\n",
      "Omnibus:                       72.956   Durbin-Watson:                   1.943\n",
      "Prob(Omnibus):                  0.000   Jarque-Bera (JB):               93.245\n",
      "Skew:                          -0.166   Prob(JB):                     5.65e-21\n",
      "Kurtosis:                       3.467   Cond. No.                         22.7\n",
      "==============================================================================\n",
      "\n",
      "Notes:\n",
      "[1] Standard Errors assume that the covariance matrix of the errors is correctly specified.\n"
     ]
    }
   ],
   "source": [
    "Linear_Regression_model = sn.OLS(Y_train,X_multi_cons).fit()\n",
    "print(Linear_Regression_model.summary())"
   ]
  },
  {
   "cell_type": "code",
   "execution_count": 12,
   "id": "1fb608fd",
   "metadata": {
    "colab": {
     "base_uri": "https://localhost:8080/",
     "height": 288
    },
    "executionInfo": {
     "elapsed": 130,
     "status": "ok",
     "timestamp": 1645022078549,
     "user": {
      "displayName": "Sumegh Sen",
      "photoUrl": "https://lh3.googleusercontent.com/a-/AOh14GiP23YhrdCRmttiAuuo8XnOaBfofkzYtoOAUX-ltQ=s64",
      "userId": "17977956221845369626"
     },
     "user_tz": -330
    },
    "id": "1fb608fd",
    "outputId": "cd33e644-78e4-46dd-bead-b8aebc694758"
   },
   "outputs": [
    {
     "data": {
      "text/html": [
       "<div>\n",
       "<style scoped>\n",
       "    .dataframe tbody tr th:only-of-type {\n",
       "        vertical-align: middle;\n",
       "    }\n",
       "\n",
       "    .dataframe tbody tr th {\n",
       "        vertical-align: top;\n",
       "    }\n",
       "\n",
       "    .dataframe thead th {\n",
       "        text-align: right;\n",
       "    }\n",
       "</style>\n",
       "<table border=\"1\" class=\"dataframe\">\n",
       "  <thead>\n",
       "    <tr style=\"text-align: right;\">\n",
       "      <th></th>\n",
       "      <th>Item_Weight</th>\n",
       "      <th>Item_MRP</th>\n",
       "      <th>Item_Fat_Content_Regular</th>\n",
       "      <th>Item_Type_Breads</th>\n",
       "      <th>Item_Type_Breakfast</th>\n",
       "      <th>Item_Type_Canned</th>\n",
       "      <th>Item_Type_Dairy</th>\n",
       "      <th>Item_Type_Frozen Foods</th>\n",
       "      <th>Item_Type_Fruits and Vegetables</th>\n",
       "      <th>Item_Type_Hard Drinks</th>\n",
       "      <th>Item_Type_Health and Hygiene</th>\n",
       "      <th>Item_Type_Household</th>\n",
       "      <th>Item_Type_Meat</th>\n",
       "      <th>Item_Type_Others</th>\n",
       "      <th>Item_Type_Seafood</th>\n",
       "      <th>Item_Type_Snack Foods</th>\n",
       "      <th>Item_Type_Soft Drinks</th>\n",
       "      <th>Item_Type_Starchy Foods</th>\n",
       "      <th>Outlet_Location_Type_Tier 2</th>\n",
       "      <th>Outlet_Location_Type_Tier 3</th>\n",
       "      <th>Outlet_Type_Supermarket Type1</th>\n",
       "      <th>Outlet_Type_Supermarket Type2</th>\n",
       "      <th>Outlet_Type_Supermarket Type3</th>\n",
       "    </tr>\n",
       "  </thead>\n",
       "  <tbody>\n",
       "    <tr>\n",
       "      <th>7503</th>\n",
       "      <td>0.328706</td>\n",
       "      <td>-0.948848</td>\n",
       "      <td>0</td>\n",
       "      <td>0</td>\n",
       "      <td>0</td>\n",
       "      <td>0</td>\n",
       "      <td>0</td>\n",
       "      <td>1</td>\n",
       "      <td>0</td>\n",
       "      <td>0</td>\n",
       "      <td>0</td>\n",
       "      <td>0</td>\n",
       "      <td>0</td>\n",
       "      <td>0</td>\n",
       "      <td>0</td>\n",
       "      <td>0</td>\n",
       "      <td>0</td>\n",
       "      <td>0</td>\n",
       "      <td>0</td>\n",
       "      <td>1</td>\n",
       "      <td>1</td>\n",
       "      <td>0</td>\n",
       "      <td>0</td>\n",
       "    </tr>\n",
       "    <tr>\n",
       "      <th>2957</th>\n",
       "      <td>-1.040261</td>\n",
       "      <td>-1.550483</td>\n",
       "      <td>0</td>\n",
       "      <td>0</td>\n",
       "      <td>0</td>\n",
       "      <td>0</td>\n",
       "      <td>0</td>\n",
       "      <td>0</td>\n",
       "      <td>0</td>\n",
       "      <td>0</td>\n",
       "      <td>1</td>\n",
       "      <td>0</td>\n",
       "      <td>0</td>\n",
       "      <td>0</td>\n",
       "      <td>0</td>\n",
       "      <td>0</td>\n",
       "      <td>0</td>\n",
       "      <td>0</td>\n",
       "      <td>0</td>\n",
       "      <td>0</td>\n",
       "      <td>1</td>\n",
       "      <td>0</td>\n",
       "      <td>0</td>\n",
       "    </tr>\n",
       "    <tr>\n",
       "      <th>7031</th>\n",
       "      <td>0.371688</td>\n",
       "      <td>-1.561349</td>\n",
       "      <td>1</td>\n",
       "      <td>0</td>\n",
       "      <td>0</td>\n",
       "      <td>1</td>\n",
       "      <td>0</td>\n",
       "      <td>0</td>\n",
       "      <td>0</td>\n",
       "      <td>0</td>\n",
       "      <td>0</td>\n",
       "      <td>0</td>\n",
       "      <td>0</td>\n",
       "      <td>0</td>\n",
       "      <td>0</td>\n",
       "      <td>0</td>\n",
       "      <td>0</td>\n",
       "      <td>0</td>\n",
       "      <td>0</td>\n",
       "      <td>0</td>\n",
       "      <td>1</td>\n",
       "      <td>0</td>\n",
       "      <td>0</td>\n",
       "    </tr>\n",
       "    <tr>\n",
       "      <th>1084</th>\n",
       "      <td>1.596666</td>\n",
       "      <td>0.595726</td>\n",
       "      <td>1</td>\n",
       "      <td>0</td>\n",
       "      <td>0</td>\n",
       "      <td>0</td>\n",
       "      <td>0</td>\n",
       "      <td>0</td>\n",
       "      <td>0</td>\n",
       "      <td>0</td>\n",
       "      <td>0</td>\n",
       "      <td>0</td>\n",
       "      <td>0</td>\n",
       "      <td>0</td>\n",
       "      <td>0</td>\n",
       "      <td>0</td>\n",
       "      <td>1</td>\n",
       "      <td>0</td>\n",
       "      <td>0</td>\n",
       "      <td>1</td>\n",
       "      <td>0</td>\n",
       "      <td>0</td>\n",
       "      <td>1</td>\n",
       "    </tr>\n",
       "    <tr>\n",
       "      <th>856</th>\n",
       "      <td>-0.553493</td>\n",
       "      <td>0.985749</td>\n",
       "      <td>1</td>\n",
       "      <td>0</td>\n",
       "      <td>0</td>\n",
       "      <td>0</td>\n",
       "      <td>0</td>\n",
       "      <td>0</td>\n",
       "      <td>0</td>\n",
       "      <td>0</td>\n",
       "      <td>0</td>\n",
       "      <td>0</td>\n",
       "      <td>1</td>\n",
       "      <td>0</td>\n",
       "      <td>0</td>\n",
       "      <td>0</td>\n",
       "      <td>0</td>\n",
       "      <td>0</td>\n",
       "      <td>1</td>\n",
       "      <td>0</td>\n",
       "      <td>1</td>\n",
       "      <td>0</td>\n",
       "      <td>0</td>\n",
       "    </tr>\n",
       "  </tbody>\n",
       "</table>\n",
       "</div>"
      ],
      "text/plain": [
       "      Item_Weight  Item_MRP  Item_Fat_Content_Regular  Item_Type_Breads  \\\n",
       "7503     0.328706 -0.948848                         0                 0   \n",
       "2957    -1.040261 -1.550483                         0                 0   \n",
       "7031     0.371688 -1.561349                         1                 0   \n",
       "1084     1.596666  0.595726                         1                 0   \n",
       "856     -0.553493  0.985749                         1                 0   \n",
       "\n",
       "      Item_Type_Breakfast  Item_Type_Canned  Item_Type_Dairy  \\\n",
       "7503                    0                 0                0   \n",
       "2957                    0                 0                0   \n",
       "7031                    0                 1                0   \n",
       "1084                    0                 0                0   \n",
       "856                     0                 0                0   \n",
       "\n",
       "      Item_Type_Frozen Foods  Item_Type_Fruits and Vegetables  \\\n",
       "7503                       1                                0   \n",
       "2957                       0                                0   \n",
       "7031                       0                                0   \n",
       "1084                       0                                0   \n",
       "856                        0                                0   \n",
       "\n",
       "      Item_Type_Hard Drinks  Item_Type_Health and Hygiene  \\\n",
       "7503                      0                             0   \n",
       "2957                      0                             1   \n",
       "7031                      0                             0   \n",
       "1084                      0                             0   \n",
       "856                       0                             0   \n",
       "\n",
       "      Item_Type_Household  Item_Type_Meat  Item_Type_Others  \\\n",
       "7503                    0               0                 0   \n",
       "2957                    0               0                 0   \n",
       "7031                    0               0                 0   \n",
       "1084                    0               0                 0   \n",
       "856                     0               1                 0   \n",
       "\n",
       "      Item_Type_Seafood  Item_Type_Snack Foods  Item_Type_Soft Drinks  \\\n",
       "7503                  0                      0                      0   \n",
       "2957                  0                      0                      0   \n",
       "7031                  0                      0                      0   \n",
       "1084                  0                      0                      1   \n",
       "856                   0                      0                      0   \n",
       "\n",
       "      Item_Type_Starchy Foods  Outlet_Location_Type_Tier 2  \\\n",
       "7503                        0                            0   \n",
       "2957                        0                            0   \n",
       "7031                        0                            0   \n",
       "1084                        0                            0   \n",
       "856                         0                            1   \n",
       "\n",
       "      Outlet_Location_Type_Tier 3  Outlet_Type_Supermarket Type1  \\\n",
       "7503                            1                              1   \n",
       "2957                            0                              1   \n",
       "7031                            0                              1   \n",
       "1084                            1                              0   \n",
       "856                             0                              1   \n",
       "\n",
       "      Outlet_Type_Supermarket Type2  Outlet_Type_Supermarket Type3  \n",
       "7503                              0                              0  \n",
       "2957                              0                              0  \n",
       "7031                              0                              0  \n",
       "1084                              0                              1  \n",
       "856                               0                              0  "
      ]
     },
     "execution_count": 12,
     "metadata": {},
     "output_type": "execute_result"
    }
   ],
   "source": [
    "X_test_st = st.fit_transform(X_test[['Item_Weight','Item_MRP']])\n",
    "X_test_multi = X_test.copy()\n",
    "\n",
    "X_test_multi['Item_Weight'] = X_test_st[:,0]\n",
    "X_test_multi['Item_MRP'] = X_test_st[:,1]\n",
    "\n",
    "X_test_multi.head()"
   ]
  },
  {
   "cell_type": "code",
   "execution_count": 13,
   "id": "700e3da0",
   "metadata": {
    "executionInfo": {
     "elapsed": 126,
     "status": "ok",
     "timestamp": 1645022078551,
     "user": {
      "displayName": "Sumegh Sen",
      "photoUrl": "https://lh3.googleusercontent.com/a-/AOh14GiP23YhrdCRmttiAuuo8XnOaBfofkzYtoOAUX-ltQ=s64",
      "userId": "17977956221845369626"
     },
     "user_tz": -330
    },
    "id": "700e3da0"
   },
   "outputs": [],
   "source": [
    "# Let's create a function to create adjusted R-Squared\n",
    "def adj_r2(x,y,regression):\n",
    "    r2 = regression.score(x,y)\n",
    "    n = x.shape[0]\n",
    "    p = x.shape[1]\n",
    "    adjusted_r2 = 1-(1-r2)*(n-1)/(n-p-1)\n",
    "    return adjusted_r2"
   ]
  },
  {
   "cell_type": "code",
   "execution_count": 14,
   "id": "ea61b6c4",
   "metadata": {
    "executionInfo": {
     "elapsed": 125,
     "status": "ok",
     "timestamp": 1645022078551,
     "user": {
      "displayName": "Sumegh Sen",
      "photoUrl": "https://lh3.googleusercontent.com/a-/AOh14GiP23YhrdCRmttiAuuo8XnOaBfofkzYtoOAUX-ltQ=s64",
      "userId": "17977956221845369626"
     },
     "user_tz": -330
    },
    "id": "ea61b6c4"
   },
   "outputs": [],
   "source": [
    "from sklearn.linear_model import LinearRegression\n",
    "\n",
    "Linear_reg = LinearRegression().fit(X_train_multi,Y_train)"
   ]
  },
  {
   "cell_type": "code",
   "execution_count": 15,
   "id": "f591a0a3",
   "metadata": {
    "colab": {
     "base_uri": "https://localhost:8080/"
    },
    "executionInfo": {
     "elapsed": 122,
     "status": "ok",
     "timestamp": 1645022078553,
     "user": {
      "displayName": "Sumegh Sen",
      "photoUrl": "https://lh3.googleusercontent.com/a-/AOh14GiP23YhrdCRmttiAuuo8XnOaBfofkzYtoOAUX-ltQ=s64",
      "userId": "17977956221845369626"
     },
     "user_tz": -330
    },
    "id": "f591a0a3",
    "outputId": "613d090c-291e-46b0-b1f4-a61e12c484e7"
   },
   "outputs": [
    {
     "name": "stdout",
     "output_type": "stream",
     "text": [
      "r2 for train data:  0.6517431777555707\n",
      "adjusted_r2 for train data:  0.6505642100029033 \n",
      "\n",
      "r2 for test data:  0.6671079733562262\n",
      "adjusted_r2 for test data:  0.6625532341457522\n"
     ]
    }
   ],
   "source": [
    "print(\"r2 for train data: \",Linear_reg.score(X_train_multi,Y_train))\n",
    "print(\"adjusted_r2 for train data: \",adj_r2(X_train_multi,Y_train,Linear_reg),'\\n')\n",
    "\n",
    "print(\"r2 for test data: \",Linear_reg.score(X_test_multi,Y_test))\n",
    "print(\"adjusted_r2 for test data: \",adj_r2(X_test_multi,Y_test,Linear_reg))"
   ]
  },
  {
   "cell_type": "code",
   "execution_count": 16,
   "id": "6e4f3e44",
   "metadata": {
    "colab": {
     "base_uri": "https://localhost:8080/"
    },
    "executionInfo": {
     "elapsed": 93,
     "status": "ok",
     "timestamp": 1645022078554,
     "user": {
      "displayName": "Sumegh Sen",
      "photoUrl": "https://lh3.googleusercontent.com/a-/AOh14GiP23YhrdCRmttiAuuo8XnOaBfofkzYtoOAUX-ltQ=s64",
      "userId": "17977956221845369626"
     },
     "user_tz": -330
    },
    "id": "6e4f3e44",
    "outputId": "babceecb-25e0-4b3d-d056-41f474e26c84",
    "scrolled": true
   },
   "outputs": [
    {
     "name": "stdout",
     "output_type": "stream",
     "text": [
      "[0.63562227 0.67093836 0.65411308 0.63674541 0.66356928 0.62667695\n",
      " 0.63369007 0.67864563 0.63860021 0.6421815 ]\n",
      "0.64807827608735\n"
     ]
    }
   ],
   "source": [
    "#from sklearn.linear_model import LinearRegression\n",
    "from sklearn.model_selection import cross_val_score\n",
    "\n",
    "Linear_reg = LinearRegression()\n",
    "scores_lm = cross_val_score(Linear_reg, X = X_train_multi , y = Y_train, cv = 10)\n",
    "\n",
    "print(scores_lm)\n",
    "print(scores_lm.mean())"
   ]
  },
  {
   "cell_type": "markdown",
   "id": "0b4cb2c4",
   "metadata": {
    "id": "0b4cb2c4"
   },
   "source": [
    "## Lasso Regression"
   ]
  },
  {
   "cell_type": "code",
   "execution_count": 17,
   "id": "eb14ef46",
   "metadata": {
    "colab": {
     "base_uri": "https://localhost:8080/"
    },
    "executionInfo": {
     "elapsed": 841,
     "status": "ok",
     "timestamp": 1645022079341,
     "user": {
      "displayName": "Sumegh Sen",
      "photoUrl": "https://lh3.googleusercontent.com/a-/AOh14GiP23YhrdCRmttiAuuo8XnOaBfofkzYtoOAUX-ltQ=s64",
      "userId": "17977956221845369626"
     },
     "user_tz": -330
    },
    "id": "eb14ef46",
    "outputId": "db6a2248-d586-480c-e474-f330898902af"
   },
   "outputs": [
    {
     "data": {
      "text/plain": [
       "LassoCV(cv=10, max_iter=100000)"
      ]
     },
     "execution_count": 17,
     "metadata": {},
     "output_type": "execute_result"
    }
   ],
   "source": [
    "# Lasso Regularization\n",
    "from sklearn.linear_model import LassoCV\n",
    "\n",
    "lasscv = LassoCV(alphas = None,cv =10, max_iter = 100000)\n",
    "lasscv.fit(X_train_multi,Y_train)"
   ]
  },
  {
   "cell_type": "code",
   "execution_count": 18,
   "id": "3d37a01e",
   "metadata": {
    "colab": {
     "base_uri": "https://localhost:8080/"
    },
    "executionInfo": {
     "elapsed": 106,
     "status": "ok",
     "timestamp": 1645022079349,
     "user": {
      "displayName": "Sumegh Sen",
      "photoUrl": "https://lh3.googleusercontent.com/a-/AOh14GiP23YhrdCRmttiAuuo8XnOaBfofkzYtoOAUX-ltQ=s64",
      "userId": "17977956221845369626"
     },
     "user_tz": -330
    },
    "id": "3d37a01e",
    "outputId": "e2762c84-b4f0-4b2c-cbc0-9a1e64ee0807"
   },
   "outputs": [
    {
     "data": {
      "text/plain": [
       "0.020791373068885517"
      ]
     },
     "execution_count": 18,
     "metadata": {},
     "output_type": "execute_result"
    }
   ],
   "source": [
    "# best alpha parameter\n",
    "\n",
    "alpha = lasscv.alpha_\n",
    "alpha"
   ]
  },
  {
   "cell_type": "code",
   "execution_count": 19,
   "id": "dbdb8ae8",
   "metadata": {
    "colab": {
     "base_uri": "https://localhost:8080/"
    },
    "executionInfo": {
     "elapsed": 85,
     "status": "ok",
     "timestamp": 1645022079352,
     "user": {
      "displayName": "Sumegh Sen",
      "photoUrl": "https://lh3.googleusercontent.com/a-/AOh14GiP23YhrdCRmttiAuuo8XnOaBfofkzYtoOAUX-ltQ=s64",
      "userId": "17977956221845369626"
     },
     "user_tz": -330
    },
    "id": "dbdb8ae8",
    "outputId": "0ade0c77-c163-44f6-ba10-ffee9520b3ce"
   },
   "outputs": [
    {
     "data": {
      "text/plain": [
       "Lasso(alpha=0.020791373068885517)"
      ]
     },
     "execution_count": 19,
     "metadata": {},
     "output_type": "execute_result"
    }
   ],
   "source": [
    "#now that we have best parameter, let's use Lasso regression and see how well our data has fitted before\n",
    "from sklearn.linear_model import Lasso\n",
    "\n",
    "lasso_reg = Lasso(alpha)\n",
    "lasso_reg.fit(X_train_multi,Y_train)"
   ]
  },
  {
   "cell_type": "code",
   "execution_count": 20,
   "id": "23f85afa",
   "metadata": {
    "colab": {
     "base_uri": "https://localhost:8080/"
    },
    "executionInfo": {
     "elapsed": 59,
     "status": "ok",
     "timestamp": 1645022079357,
     "user": {
      "displayName": "Sumegh Sen",
      "photoUrl": "https://lh3.googleusercontent.com/a-/AOh14GiP23YhrdCRmttiAuuo8XnOaBfofkzYtoOAUX-ltQ=s64",
      "userId": "17977956221845369626"
     },
     "user_tz": -330
    },
    "id": "23f85afa",
    "outputId": "3b6cd4d4-e20a-4d81-e10a-a0811e27f3a4"
   },
   "outputs": [
    {
     "name": "stdout",
     "output_type": "stream",
     "text": [
      "r2 for train data:  0.6514404356782453\n",
      "adjusted_r2 for train data:  0.6502604430407121 \n",
      "\n",
      "r2 for test data:  0.6675937917318862\n",
      "adjusted_r2 for test data:  0.6630456996496931\n"
     ]
    }
   ],
   "source": [
    "print(\"r2 for train data: \",lasso_reg.score(X_train_multi,Y_train))\n",
    "print(\"adjusted_r2 for train data: \",adj_r2(X_train_multi,Y_train,lasso_reg),'\\n')\n",
    "\n",
    "print(\"r2 for test data: \",lasso_reg.score(X_test_multi,Y_test))\n",
    "print(\"adjusted_r2 for test data: \",adj_r2(X_test_multi,Y_test,lasso_reg))"
   ]
  },
  {
   "cell_type": "markdown",
   "id": "da4a9e24",
   "metadata": {
    "id": "da4a9e24"
   },
   "source": [
    "## Ridge regression"
   ]
  },
  {
   "cell_type": "code",
   "execution_count": 21,
   "id": "ce476635",
   "metadata": {
    "colab": {
     "base_uri": "https://localhost:8080/"
    },
    "executionInfo": {
     "elapsed": 995,
     "status": "ok",
     "timestamp": 1645022080312,
     "user": {
      "displayName": "Sumegh Sen",
      "photoUrl": "https://lh3.googleusercontent.com/a-/AOh14GiP23YhrdCRmttiAuuo8XnOaBfofkzYtoOAUX-ltQ=s64",
      "userId": "17977956221845369626"
     },
     "user_tz": -330
    },
    "id": "ce476635",
    "outputId": "877a2078-2aa2-4d7f-c675-34001251a8c0"
   },
   "outputs": [
    {
     "data": {
      "text/plain": [
       "RidgeCV(alphas=array([0.01, 0.1 , 1.  , 1.1 , 1.2 , 1.3 , 1.4 , 1.5 , 1.6 , 1.7 , 1.8 ,\n",
       "       1.9 , 2.  ]),\n",
       "        cv=10)"
      ]
     },
     "execution_count": 21,
     "metadata": {},
     "output_type": "execute_result"
    }
   ],
   "source": [
    "# Ridge Regularization\n",
    "from sklearn.linear_model import RidgeCV\n",
    "\n",
    "alphas = [0.01,0.1,1,1.1,1.2,1.3,1.4,1.5,1.6,1.7,1.8,1.9,2]\n",
    "\n",
    "ridgecv = RidgeCV(alphas = alphas, cv =10)\n",
    "ridgecv.fit(X_train_multi,Y_train)"
   ]
  },
  {
   "cell_type": "code",
   "execution_count": 22,
   "id": "eab82fc7",
   "metadata": {
    "colab": {
     "base_uri": "https://localhost:8080/"
    },
    "executionInfo": {
     "elapsed": 126,
     "status": "ok",
     "timestamp": 1645022080319,
     "user": {
      "displayName": "Sumegh Sen",
      "photoUrl": "https://lh3.googleusercontent.com/a-/AOh14GiP23YhrdCRmttiAuuo8XnOaBfofkzYtoOAUX-ltQ=s64",
      "userId": "17977956221845369626"
     },
     "user_tz": -330
    },
    "id": "eab82fc7",
    "outputId": "7880a3c9-addc-4639-ae7a-e8f6f490ee1a"
   },
   "outputs": [
    {
     "data": {
      "text/plain": [
       "1.3"
      ]
     },
     "execution_count": 22,
     "metadata": {},
     "output_type": "execute_result"
    }
   ],
   "source": [
    "ridgecv.alpha_"
   ]
  },
  {
   "cell_type": "code",
   "execution_count": 23,
   "id": "917e653a",
   "metadata": {
    "colab": {
     "base_uri": "https://localhost:8080/"
    },
    "executionInfo": {
     "elapsed": 109,
     "status": "ok",
     "timestamp": 1645022080322,
     "user": {
      "displayName": "Sumegh Sen",
      "photoUrl": "https://lh3.googleusercontent.com/a-/AOh14GiP23YhrdCRmttiAuuo8XnOaBfofkzYtoOAUX-ltQ=s64",
      "userId": "17977956221845369626"
     },
     "user_tz": -330
    },
    "id": "917e653a",
    "outputId": "74c389b0-c315-42f4-a8de-e97360c15789"
   },
   "outputs": [
    {
     "data": {
      "text/plain": [
       "Ridge(alpha=1.3)"
      ]
     },
     "execution_count": 23,
     "metadata": {},
     "output_type": "execute_result"
    }
   ],
   "source": [
    "from sklearn.linear_model import Ridge\n",
    "\n",
    "ridge_model = Ridge(alpha=ridgecv.alpha_)\n",
    "ridge_model.fit(X_train_multi,Y_train)"
   ]
  },
  {
   "cell_type": "code",
   "execution_count": 24,
   "id": "81fb7457",
   "metadata": {
    "colab": {
     "base_uri": "https://localhost:8080/"
    },
    "executionInfo": {
     "elapsed": 78,
     "status": "ok",
     "timestamp": 1645022080327,
     "user": {
      "displayName": "Sumegh Sen",
      "photoUrl": "https://lh3.googleusercontent.com/a-/AOh14GiP23YhrdCRmttiAuuo8XnOaBfofkzYtoOAUX-ltQ=s64",
      "userId": "17977956221845369626"
     },
     "user_tz": -330
    },
    "id": "81fb7457",
    "outputId": "69cb5dca-e13f-47a1-dc2c-1a9823002102"
   },
   "outputs": [
    {
     "name": "stdout",
     "output_type": "stream",
     "text": [
      "r2 for train data:  0.6517325956426457\n",
      "adjusted_r2 for train data:  0.6505535920659282 \n",
      "\n",
      "r2 for test data:  0.6670597369143993\n",
      "adjusted_r2 for test data:  0.6625043377169164\n"
     ]
    }
   ],
   "source": [
    "print(\"r2 for train data: \",ridge_model.score(X_train_multi,Y_train))\n",
    "print(\"adjusted_r2 for train data: \",adj_r2(X_train_multi,Y_train,ridge_model),'\\n')\n",
    "\n",
    "print(\"r2 for test data: \",ridge_model.score(X_test_multi,Y_test))\n",
    "print(\"adjusted_r2 for test data: \",adj_r2(X_test_multi,Y_test,ridge_model))"
   ]
  },
  {
   "cell_type": "code",
   "execution_count": 25,
   "id": "ddf40e41",
   "metadata": {
    "colab": {
     "base_uri": "https://localhost:8080/"
    },
    "executionInfo": {
     "elapsed": 60,
     "status": "ok",
     "timestamp": 1645022080334,
     "user": {
      "displayName": "Sumegh Sen",
      "photoUrl": "https://lh3.googleusercontent.com/a-/AOh14GiP23YhrdCRmttiAuuo8XnOaBfofkzYtoOAUX-ltQ=s64",
      "userId": "17977956221845369626"
     },
     "user_tz": -330
    },
    "id": "ddf40e41",
    "outputId": "69ab750c-05d3-4fe0-883e-f337e3b0e2e2"
   },
   "outputs": [
    {
     "data": {
      "text/plain": [
       "dict_keys(['explained_variance', 'r2', 'max_error', 'neg_median_absolute_error', 'neg_mean_absolute_error', 'neg_mean_absolute_percentage_error', 'neg_mean_squared_error', 'neg_mean_squared_log_error', 'neg_root_mean_squared_error', 'neg_mean_poisson_deviance', 'neg_mean_gamma_deviance', 'accuracy', 'top_k_accuracy', 'roc_auc', 'roc_auc_ovr', 'roc_auc_ovo', 'roc_auc_ovr_weighted', 'roc_auc_ovo_weighted', 'balanced_accuracy', 'average_precision', 'neg_log_loss', 'neg_brier_score', 'adjusted_rand_score', 'rand_score', 'homogeneity_score', 'completeness_score', 'v_measure_score', 'mutual_info_score', 'adjusted_mutual_info_score', 'normalized_mutual_info_score', 'fowlkes_mallows_score', 'precision', 'precision_macro', 'precision_micro', 'precision_samples', 'precision_weighted', 'recall', 'recall_macro', 'recall_micro', 'recall_samples', 'recall_weighted', 'f1', 'f1_macro', 'f1_micro', 'f1_samples', 'f1_weighted', 'jaccard', 'jaccard_macro', 'jaccard_micro', 'jaccard_samples', 'jaccard_weighted'])"
      ]
     },
     "execution_count": 25,
     "metadata": {},
     "output_type": "execute_result"
    }
   ],
   "source": [
    "# It's give all the cost function \n",
    "\n",
    "import sklearn\n",
    "sklearn.metrics.SCORERS.keys()"
   ]
  },
  {
   "cell_type": "markdown",
   "id": "d7806093",
   "metadata": {
    "id": "d7806093"
   },
   "source": [
    "## Random Forest Regressor"
   ]
  },
  {
   "cell_type": "code",
   "execution_count": 26,
   "id": "ea444a5b",
   "metadata": {
    "colab": {
     "base_uri": "https://localhost:8080/"
    },
    "executionInfo": {
     "elapsed": 2816,
     "status": "ok",
     "timestamp": 1645022083119,
     "user": {
      "displayName": "Sumegh Sen",
      "photoUrl": "https://lh3.googleusercontent.com/a-/AOh14GiP23YhrdCRmttiAuuo8XnOaBfofkzYtoOAUX-ltQ=s64",
      "userId": "17977956221845369626"
     },
     "user_tz": -330
    },
    "id": "ea444a5b",
    "outputId": "9e23e799-4f34-4eea-9fe6-b92d065e7735"
   },
   "outputs": [
    {
     "data": {
      "text/plain": [
       "RandomForestRegressor()"
      ]
     },
     "execution_count": 26,
     "metadata": {},
     "output_type": "execute_result"
    }
   ],
   "source": [
    "from sklearn.ensemble import RandomForestRegressor\n",
    "\n",
    "RF_reg = RandomForestRegressor()\n",
    "RF_reg.fit(X_train,Y_train)"
   ]
  },
  {
   "cell_type": "code",
   "execution_count": 27,
   "id": "109912df",
   "metadata": {
    "colab": {
     "base_uri": "https://localhost:8080/"
    },
    "executionInfo": {
     "elapsed": 671,
     "status": "ok",
     "timestamp": 1645022083779,
     "user": {
      "displayName": "Sumegh Sen",
      "photoUrl": "https://lh3.googleusercontent.com/a-/AOh14GiP23YhrdCRmttiAuuo8XnOaBfofkzYtoOAUX-ltQ=s64",
      "userId": "17977956221845369626"
     },
     "user_tz": -330
    },
    "id": "109912df",
    "outputId": "c5d33c17-179e-4b1c-e7c8-1ed64548e6ae"
   },
   "outputs": [
    {
     "name": "stdout",
     "output_type": "stream",
     "text": [
      "r2 for train data:  0.9449524846084504\n",
      "adjusted_r2 for train data:  0.9447661300523706 \n",
      "\n",
      "r2 for test data:  0.6240213893586388\n",
      "adjusted_r2 for test data:  0.6188771252035221\n"
     ]
    }
   ],
   "source": [
    "print(\"r2 for train data: \",RF_reg.score(X_train,Y_train))\n",
    "print(\"adjusted_r2 for train data: \",adj_r2(X_train,Y_train,RF_reg),'\\n')\n",
    "\n",
    "print(\"r2 for test data: \",RF_reg.score(X_test,Y_test))\n",
    "print(\"adjusted_r2 for test data: \",adj_r2(X_test,Y_test,RF_reg))"
   ]
  },
  {
   "cell_type": "code",
   "execution_count": 28,
   "id": "90c2366c",
   "metadata": {
    "colab": {
     "base_uri": "https://localhost:8080/"
    },
    "executionInfo": {
     "elapsed": 25021,
     "status": "ok",
     "timestamp": 1645022108792,
     "user": {
      "displayName": "Sumegh Sen",
      "photoUrl": "https://lh3.googleusercontent.com/a-/AOh14GiP23YhrdCRmttiAuuo8XnOaBfofkzYtoOAUX-ltQ=s64",
      "userId": "17977956221845369626"
     },
     "user_tz": -330
    },
    "id": "90c2366c",
    "outputId": "b7d0edf1-9b04-4427-dbf7-8c982b1123b1"
   },
   "outputs": [
    {
     "name": "stdout",
     "output_type": "stream",
     "text": [
      "[0.60254726 0.65078245 0.61643981 0.58624093 0.63146521 0.58111913\n",
      " 0.60088571 0.65204802 0.59655455 0.60250785]\n",
      "0.6120590913731526\n"
     ]
    }
   ],
   "source": [
    "## Cross Validation\n",
    "scores_lm = cross_val_score(RF_reg, X = X_train, y = Y_train, cv = 10)\n",
    "\n",
    "print(scores_lm)\n",
    "print(scores_lm.mean())"
   ]
  },
  {
   "cell_type": "code",
   "execution_count": 29,
   "id": "40dce252",
   "metadata": {
    "id": "40dce252",
    "outputId": "73793224-d878-47d8-efb0-44a613f165ce"
   },
   "outputs": [
    {
     "name": "stdout",
     "output_type": "stream",
     "text": [
      "Fitting 5 folds for each of 100 candidates, totalling 500 fits\n"
     ]
    },
    {
     "data": {
      "text/plain": [
       "RandomizedSearchCV(cv=5, estimator=RandomForestRegressor(), n_iter=100,\n",
       "                   n_jobs=-1,\n",
       "                   param_distributions={'criterion': ['mse'],\n",
       "                                        'max_depth': [15, 20, 25, 30],\n",
       "                                        'max_features': ['sqrt', 'log2',\n",
       "                                                         'auto'],\n",
       "                                        'min_samples_leaf': [5, 10, 15, 20],\n",
       "                                        'n_estimators': [900, 910, 920, 930,\n",
       "                                                         940, 950, 960, 970,\n",
       "                                                         980, 990, 1000, 1010,\n",
       "                                                         1020, 1030, 1040, 1050,\n",
       "                                                         1060, 1070, 1080, 1090,\n",
       "                                                         1100, 1110, 1120, 1130,\n",
       "                                                         1140, 1150, 1160, 1170,\n",
       "                                                         1180, 1190, ...]},\n",
       "                   random_state=42, verbose=2)"
      ]
     },
     "execution_count": 29,
     "metadata": {},
     "output_type": "execute_result"
    }
   ],
   "source": [
    "from sklearn.ensemble import RandomForestRegressor\n",
    "from sklearn.model_selection import RandomizedSearchCV\n",
    "\n",
    "param_grid = {'n_estimators': [int(x) for x in range(900,1301,10)],\n",
    "              'criterion': ['mse'],\n",
    "              'max_depth': [int(x) for x in range(15,31,5)],\n",
    "              #'min_samples_split': [int(x) for x in range(5,21,5)],\n",
    "              'min_samples_leaf': [int(x) for x in range(5,21,5)],\n",
    "             'max_features':['sqrt','log2','auto']}\n",
    "\n",
    "\n",
    "rf_reg = RandomizedSearchCV(RandomForestRegressor(), param_distributions = param_grid, cv = 5,\n",
    "                            n_iter = 100, n_jobs = -1, verbose = 2, return_train_score=False, random_state = 42)\n",
    "\n",
    "rf_reg.fit(X_train, Y_train)"
   ]
  },
  {
   "cell_type": "code",
   "execution_count": 30,
   "id": "50f42405",
   "metadata": {
    "id": "50f42405",
    "outputId": "81a921a0-a7ee-4c6e-80e3-fdfa7be58754"
   },
   "outputs": [
    {
     "name": "stdout",
     "output_type": "stream",
     "text": [
      "0.6632150420520014\n",
      "{'n_estimators': 1010, 'min_samples_leaf': 20, 'max_features': 'auto', 'max_depth': 25, 'criterion': 'mse'}\n"
     ]
    }
   ],
   "source": [
    "print(rf_reg.best_score_)\n",
    "print(rf_reg.best_params_)"
   ]
  },
  {
   "cell_type": "code",
   "execution_count": 38,
   "id": "31150a7f",
   "metadata": {
    "colab": {
     "base_uri": "https://localhost:8080/"
    },
    "executionInfo": {
     "elapsed": 16693,
     "status": "ok",
     "timestamp": 1645022130359,
     "user": {
      "displayName": "Sumegh Sen",
      "photoUrl": "https://lh3.googleusercontent.com/a-/AOh14GiP23YhrdCRmttiAuuo8XnOaBfofkzYtoOAUX-ltQ=s64",
      "userId": "17977956221845369626"
     },
     "user_tz": -330
    },
    "id": "31150a7f",
    "outputId": "4c0f5130-ed9f-47ad-f62d-0614aa6f6806"
   },
   "outputs": [
    {
     "data": {
      "text/plain": [
       "RandomForestRegressor(max_depth=25, min_samples_leaf=20, n_estimators=1010)"
      ]
     },
     "execution_count": 38,
     "metadata": {},
     "output_type": "execute_result"
    }
   ],
   "source": [
    "RF_reg1 = RandomForestRegressor(n_estimators = 1010, min_samples_leaf = 20, max_features = 'auto', max_depth = 25, criterion = 'mse')\n",
    "RF_reg1.fit(X_train,Y_train)"
   ]
  },
  {
   "cell_type": "code",
   "execution_count": 39,
   "id": "5b51b98e",
   "metadata": {
    "colab": {
     "base_uri": "https://localhost:8080/"
    },
    "executionInfo": {
     "elapsed": 3610,
     "status": "ok",
     "timestamp": 1645022139014,
     "user": {
      "displayName": "Sumegh Sen",
      "photoUrl": "https://lh3.googleusercontent.com/a-/AOh14GiP23YhrdCRmttiAuuo8XnOaBfofkzYtoOAUX-ltQ=s64",
      "userId": "17977956221845369626"
     },
     "user_tz": -330
    },
    "id": "5b51b98e",
    "outputId": "dee4fa18-e544-4723-8c95-e8d48d92ba93"
   },
   "outputs": [
    {
     "name": "stdout",
     "output_type": "stream",
     "text": [
      "r2 for train data:  0.7141152547253921\n",
      "adjusted_r2 for train data:  0.713147437660141 \n",
      "\n",
      "r2 for test data:  0.6790429853767637\n",
      "adjusted_r2 for test data:  0.6746515449625254\n"
     ]
    }
   ],
   "source": [
    "print(\"r2 for train data: \",RF_reg1.score(X_train,Y_train))\n",
    "print(\"adjusted_r2 for train data: \",adj_r2(X_train,Y_train,RF_reg1),'\\n')\n",
    "\n",
    "print(\"r2 for test data: \",RF_reg1.score(X_test,Y_test))\n",
    "print(\"adjusted_r2 for test data: \",adj_r2(X_test,Y_test,RF_reg1))"
   ]
  },
  {
   "cell_type": "code",
   "execution_count": 33,
   "id": "c6b52610",
   "metadata": {
    "colab": {
     "base_uri": "https://localhost:8080/"
    },
    "executionInfo": {
     "elapsed": 148260,
     "status": "ok",
     "timestamp": 1645022289209,
     "user": {
      "displayName": "Sumegh Sen",
      "photoUrl": "https://lh3.googleusercontent.com/a-/AOh14GiP23YhrdCRmttiAuuo8XnOaBfofkzYtoOAUX-ltQ=s64",
      "userId": "17977956221845369626"
     },
     "user_tz": -330
    },
    "id": "c6b52610",
    "outputId": "df7ee187-4611-41a2-92a9-1ef2cf20b589"
   },
   "outputs": [
    {
     "name": "stdout",
     "output_type": "stream",
     "text": [
      "[0.65361668 0.68962711 0.66721445 0.64614464 0.6817191  0.64008927\n",
      " 0.64573522 0.69675023 0.65644208 0.65415423]\n",
      "0.6631493015009344\n"
     ]
    }
   ],
   "source": [
    "## Cross Validation\n",
    "scores_lm = cross_val_score(RF_reg1, X = X_train, y = Y_train, cv = 10)\n",
    "\n",
    "print(scores_lm)\n",
    "print(scores_lm.mean())"
   ]
  },
  {
   "cell_type": "markdown",
   "id": "50114ee4",
   "metadata": {
    "id": "50114ee4"
   },
   "source": [
    "## SVR"
   ]
  },
  {
   "cell_type": "code",
   "execution_count": 34,
   "id": "d1ea0f2b",
   "metadata": {
    "colab": {
     "base_uri": "https://localhost:8080/"
    },
    "executionInfo": {
     "elapsed": 3709,
     "status": "ok",
     "timestamp": 1645022300062,
     "user": {
      "displayName": "Sumegh Sen",
      "photoUrl": "https://lh3.googleusercontent.com/a-/AOh14GiP23YhrdCRmttiAuuo8XnOaBfofkzYtoOAUX-ltQ=s64",
      "userId": "17977956221845369626"
     },
     "user_tz": -330
    },
    "id": "d1ea0f2b",
    "outputId": "dbe55169-7b44-4754-e636-1fe987a6240f"
   },
   "outputs": [
    {
     "data": {
      "text/plain": [
       "SVR()"
      ]
     },
     "execution_count": 34,
     "metadata": {},
     "output_type": "execute_result"
    }
   ],
   "source": [
    "from sklearn.svm import SVR\n",
    "\n",
    "svr_model = SVR()\n",
    "svr_model.fit(X_train,Y_train)"
   ]
  },
  {
   "cell_type": "code",
   "execution_count": 35,
   "id": "4d07c425",
   "metadata": {
    "colab": {
     "base_uri": "https://localhost:8080/"
    },
    "executionInfo": {
     "elapsed": 10415,
     "status": "ok",
     "timestamp": 1645022360070,
     "user": {
      "displayName": "Sumegh Sen",
      "photoUrl": "https://lh3.googleusercontent.com/a-/AOh14GiP23YhrdCRmttiAuuo8XnOaBfofkzYtoOAUX-ltQ=s64",
      "userId": "17977956221845369626"
     },
     "user_tz": -330
    },
    "id": "4d07c425",
    "outputId": "319a56e2-f919-4f94-febc-2bc620cf17fb"
   },
   "outputs": [
    {
     "name": "stdout",
     "output_type": "stream",
     "text": [
      "r2 for train data:  0.3150492688203861\n",
      "adjusted_r2 for train data:  0.31273047770806184 \n",
      "\n",
      "r2 for test data:  0.31523734752035626\n",
      "adjusted_r2 for test data:  0.30586819760540573\n"
     ]
    }
   ],
   "source": [
    "print(\"r2 for train data: \",svr_model.score(X_train,Y_train))\n",
    "print(\"adjusted_r2 for train data: \",adj_r2(X_train,Y_train,svr_model),'\\n')\n",
    "\n",
    "print(\"r2 for test data: \",svr_model.score(X_test,Y_test))\n",
    "print(\"adjusted_r2 for test data: \",adj_r2(X_test,Y_test,svr_model))"
   ]
  },
  {
   "cell_type": "markdown",
   "id": "c2a5f44a",
   "metadata": {
    "id": "c2a5f44a"
   },
   "source": [
    "## KNN Regressor"
   ]
  },
  {
   "cell_type": "code",
   "execution_count": 36,
   "id": "5e607a7c",
   "metadata": {
    "colab": {
     "base_uri": "https://localhost:8080/"
    },
    "executionInfo": {
     "elapsed": 464,
     "status": "ok",
     "timestamp": 1645022368813,
     "user": {
      "displayName": "Sumegh Sen",
      "photoUrl": "https://lh3.googleusercontent.com/a-/AOh14GiP23YhrdCRmttiAuuo8XnOaBfofkzYtoOAUX-ltQ=s64",
      "userId": "17977956221845369626"
     },
     "user_tz": -330
    },
    "id": "5e607a7c",
    "outputId": "d332e641-128f-4a45-886b-bab70d78fa0e"
   },
   "outputs": [
    {
     "data": {
      "text/plain": [
       "KNeighborsRegressor()"
      ]
     },
     "execution_count": 36,
     "metadata": {},
     "output_type": "execute_result"
    }
   ],
   "source": [
    "from sklearn.neighbors import KNeighborsRegressor\n",
    "\n",
    "knn_model = KNeighborsRegressor()\n",
    "knn_model.fit(X_train_multi,Y_train)"
   ]
  },
  {
   "cell_type": "code",
   "execution_count": 37,
   "id": "bd1233f8",
   "metadata": {
    "colab": {
     "base_uri": "https://localhost:8080/"
    },
    "executionInfo": {
     "elapsed": 4884,
     "status": "ok",
     "timestamp": 1645022414916,
     "user": {
      "displayName": "Sumegh Sen",
      "photoUrl": "https://lh3.googleusercontent.com/a-/AOh14GiP23YhrdCRmttiAuuo8XnOaBfofkzYtoOAUX-ltQ=s64",
      "userId": "17977956221845369626"
     },
     "user_tz": -330
    },
    "id": "bd1233f8",
    "outputId": "49bbb081-543f-49a0-b5ba-6cde846376bd"
   },
   "outputs": [
    {
     "name": "stdout",
     "output_type": "stream",
     "text": [
      "r2 for train data:  0.7069629518725784\n",
      "adjusted_r2 for train data:  0.7059709218303455 \n",
      "\n",
      "r2 for test data:  0.58661699424741\n",
      "adjusted_r2 for test data:  0.5809609507421694\n"
     ]
    }
   ],
   "source": [
    "print(\"r2 for train data: \",knn_model.score(X_train_multi,Y_train))\n",
    "print(\"adjusted_r2 for train data: \",adj_r2(X_train_multi,Y_train,knn_model),'\\n')\n",
    "\n",
    "print(\"r2 for test data: \",knn_model.score(X_test_multi,Y_test))\n",
    "print(\"adjusted_r2 for test data: \",adj_r2(X_test_multi,Y_test,knn_model))"
   ]
  },
  {
   "cell_type": "code",
   "execution_count": null,
   "id": "efc0b01f",
   "metadata": {},
   "outputs": [],
   "source": []
  }
 ],
 "metadata": {
  "accelerator": "GPU",
  "colab": {
   "collapsed_sections": [],
   "name": "Untitled.ipynb",
   "provenance": []
  },
  "kernelspec": {
   "display_name": "Python 3",
   "language": "python",
   "name": "python3"
  },
  "language_info": {
   "codemirror_mode": {
    "name": "ipython",
    "version": 3
   },
   "file_extension": ".py",
   "mimetype": "text/x-python",
   "name": "python",
   "nbconvert_exporter": "python",
   "pygments_lexer": "ipython3",
   "version": "3.8.8"
  }
 },
 "nbformat": 4,
 "nbformat_minor": 5
}
