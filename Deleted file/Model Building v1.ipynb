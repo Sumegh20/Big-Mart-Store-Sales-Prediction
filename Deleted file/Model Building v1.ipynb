{
 "cells": [
  {
   "cell_type": "code",
   "execution_count": 1,
   "id": "73873355",
   "metadata": {},
   "outputs": [],
   "source": [
    "import pandas as pd\n",
    "import numpy as np\n",
    "import matplotlib.pyplot as plt\n",
    "import seaborn as sns\n",
    "import warnings\n",
    "\n",
    "%matplotlib inline\n",
    "warnings.filterwarnings('ignore')"
   ]
  },
  {
   "cell_type": "code",
   "execution_count": 2,
   "id": "a23ebbb8",
   "metadata": {},
   "outputs": [],
   "source": [
    "## To see all columns of the dataset\n",
    "\n",
    "pd.set_option(\"display.max_columns\", None)"
   ]
  },
  {
   "cell_type": "code",
   "execution_count": 3,
   "id": "8cb8820f",
   "metadata": {},
   "outputs": [],
   "source": [
    "Table = pd.DataFrame(columns=['Model_Name','Train_R2','Test_R2','Parameters'])\n",
    "def insertData(Table, model_name, train_R2, test_R2, parameter='default'):\n",
    "    temp = pd.DataFrame()\n",
    "    temp['Model_Name'] = [model_name]\n",
    "    temp['Train_R2'] = train_R2\n",
    "    temp['Test_R2'] = test_R2\n",
    "    temp['Parameters'] = parameter\n",
    "    Table = pd.concat([temp,Table],ignore_index=True)\n",
    "    \n",
    "    return Table"
   ]
  },
  {
   "cell_type": "code",
   "execution_count": 4,
   "id": "1cc3f29a",
   "metadata": {},
   "outputs": [
    {
     "data": {
      "text/html": [
       "<div>\n",
       "<style scoped>\n",
       "    .dataframe tbody tr th:only-of-type {\n",
       "        vertical-align: middle;\n",
       "    }\n",
       "\n",
       "    .dataframe tbody tr th {\n",
       "        vertical-align: top;\n",
       "    }\n",
       "\n",
       "    .dataframe thead th {\n",
       "        text-align: right;\n",
       "    }\n",
       "</style>\n",
       "<table border=\"1\" class=\"dataframe\">\n",
       "  <thead>\n",
       "    <tr style=\"text-align: right;\">\n",
       "      <th></th>\n",
       "      <th>Item_Weight</th>\n",
       "      <th>Item_MRP</th>\n",
       "      <th>Item_Outlet_Sales</th>\n",
       "      <th>Item_Fat_Content_Regular</th>\n",
       "      <th>Item_Type_Breads</th>\n",
       "      <th>Item_Type_Breakfast</th>\n",
       "      <th>Item_Type_Canned</th>\n",
       "      <th>Item_Type_Dairy</th>\n",
       "      <th>Item_Type_Frozen Foods</th>\n",
       "      <th>Item_Type_Fruits and Vegetables</th>\n",
       "      <th>Item_Type_Hard Drinks</th>\n",
       "      <th>Item_Type_Health and Hygiene</th>\n",
       "      <th>Item_Type_Household</th>\n",
       "      <th>Item_Type_Meat</th>\n",
       "      <th>Item_Type_Others</th>\n",
       "      <th>Item_Type_Seafood</th>\n",
       "      <th>Item_Type_Snack Foods</th>\n",
       "      <th>Item_Type_Soft Drinks</th>\n",
       "      <th>Item_Type_Starchy Foods</th>\n",
       "      <th>Outlet_Location_Type_Tier 2</th>\n",
       "      <th>Outlet_Location_Type_Tier 3</th>\n",
       "      <th>Outlet_Type_Supermarket Type1</th>\n",
       "      <th>Outlet_Type_Supermarket Type2</th>\n",
       "      <th>Outlet_Type_Supermarket Type3</th>\n",
       "    </tr>\n",
       "  </thead>\n",
       "  <tbody>\n",
       "    <tr>\n",
       "      <th>0</th>\n",
       "      <td>9.30</td>\n",
       "      <td>249.8092</td>\n",
       "      <td>3735.1380</td>\n",
       "      <td>0</td>\n",
       "      <td>0</td>\n",
       "      <td>0</td>\n",
       "      <td>0</td>\n",
       "      <td>1</td>\n",
       "      <td>0</td>\n",
       "      <td>0</td>\n",
       "      <td>0</td>\n",
       "      <td>0</td>\n",
       "      <td>0</td>\n",
       "      <td>0</td>\n",
       "      <td>0</td>\n",
       "      <td>0</td>\n",
       "      <td>0</td>\n",
       "      <td>0</td>\n",
       "      <td>0</td>\n",
       "      <td>0</td>\n",
       "      <td>0</td>\n",
       "      <td>1</td>\n",
       "      <td>0</td>\n",
       "      <td>0</td>\n",
       "    </tr>\n",
       "    <tr>\n",
       "      <th>1</th>\n",
       "      <td>5.92</td>\n",
       "      <td>48.2692</td>\n",
       "      <td>443.4228</td>\n",
       "      <td>1</td>\n",
       "      <td>0</td>\n",
       "      <td>0</td>\n",
       "      <td>0</td>\n",
       "      <td>0</td>\n",
       "      <td>0</td>\n",
       "      <td>0</td>\n",
       "      <td>0</td>\n",
       "      <td>0</td>\n",
       "      <td>0</td>\n",
       "      <td>0</td>\n",
       "      <td>0</td>\n",
       "      <td>0</td>\n",
       "      <td>0</td>\n",
       "      <td>1</td>\n",
       "      <td>0</td>\n",
       "      <td>0</td>\n",
       "      <td>1</td>\n",
       "      <td>0</td>\n",
       "      <td>1</td>\n",
       "      <td>0</td>\n",
       "    </tr>\n",
       "    <tr>\n",
       "      <th>2</th>\n",
       "      <td>17.50</td>\n",
       "      <td>141.6180</td>\n",
       "      <td>2097.2700</td>\n",
       "      <td>0</td>\n",
       "      <td>0</td>\n",
       "      <td>0</td>\n",
       "      <td>0</td>\n",
       "      <td>0</td>\n",
       "      <td>0</td>\n",
       "      <td>0</td>\n",
       "      <td>0</td>\n",
       "      <td>0</td>\n",
       "      <td>0</td>\n",
       "      <td>1</td>\n",
       "      <td>0</td>\n",
       "      <td>0</td>\n",
       "      <td>0</td>\n",
       "      <td>0</td>\n",
       "      <td>0</td>\n",
       "      <td>0</td>\n",
       "      <td>0</td>\n",
       "      <td>1</td>\n",
       "      <td>0</td>\n",
       "      <td>0</td>\n",
       "    </tr>\n",
       "    <tr>\n",
       "      <th>3</th>\n",
       "      <td>19.20</td>\n",
       "      <td>182.0950</td>\n",
       "      <td>732.3800</td>\n",
       "      <td>1</td>\n",
       "      <td>0</td>\n",
       "      <td>0</td>\n",
       "      <td>0</td>\n",
       "      <td>0</td>\n",
       "      <td>0</td>\n",
       "      <td>1</td>\n",
       "      <td>0</td>\n",
       "      <td>0</td>\n",
       "      <td>0</td>\n",
       "      <td>0</td>\n",
       "      <td>0</td>\n",
       "      <td>0</td>\n",
       "      <td>0</td>\n",
       "      <td>0</td>\n",
       "      <td>0</td>\n",
       "      <td>0</td>\n",
       "      <td>1</td>\n",
       "      <td>0</td>\n",
       "      <td>0</td>\n",
       "      <td>0</td>\n",
       "    </tr>\n",
       "    <tr>\n",
       "      <th>4</th>\n",
       "      <td>8.93</td>\n",
       "      <td>53.8614</td>\n",
       "      <td>994.7052</td>\n",
       "      <td>0</td>\n",
       "      <td>0</td>\n",
       "      <td>0</td>\n",
       "      <td>0</td>\n",
       "      <td>0</td>\n",
       "      <td>0</td>\n",
       "      <td>0</td>\n",
       "      <td>0</td>\n",
       "      <td>0</td>\n",
       "      <td>1</td>\n",
       "      <td>0</td>\n",
       "      <td>0</td>\n",
       "      <td>0</td>\n",
       "      <td>0</td>\n",
       "      <td>0</td>\n",
       "      <td>0</td>\n",
       "      <td>0</td>\n",
       "      <td>1</td>\n",
       "      <td>1</td>\n",
       "      <td>0</td>\n",
       "      <td>0</td>\n",
       "    </tr>\n",
       "  </tbody>\n",
       "</table>\n",
       "</div>"
      ],
      "text/plain": [
       "   Item_Weight  Item_MRP  Item_Outlet_Sales  Item_Fat_Content_Regular  \\\n",
       "0         9.30  249.8092          3735.1380                         0   \n",
       "1         5.92   48.2692           443.4228                         1   \n",
       "2        17.50  141.6180          2097.2700                         0   \n",
       "3        19.20  182.0950           732.3800                         1   \n",
       "4         8.93   53.8614           994.7052                         0   \n",
       "\n",
       "   Item_Type_Breads  Item_Type_Breakfast  Item_Type_Canned  Item_Type_Dairy  \\\n",
       "0                 0                    0                 0                1   \n",
       "1                 0                    0                 0                0   \n",
       "2                 0                    0                 0                0   \n",
       "3                 0                    0                 0                0   \n",
       "4                 0                    0                 0                0   \n",
       "\n",
       "   Item_Type_Frozen Foods  Item_Type_Fruits and Vegetables  \\\n",
       "0                       0                                0   \n",
       "1                       0                                0   \n",
       "2                       0                                0   \n",
       "3                       0                                1   \n",
       "4                       0                                0   \n",
       "\n",
       "   Item_Type_Hard Drinks  Item_Type_Health and Hygiene  Item_Type_Household  \\\n",
       "0                      0                             0                    0   \n",
       "1                      0                             0                    0   \n",
       "2                      0                             0                    0   \n",
       "3                      0                             0                    0   \n",
       "4                      0                             0                    1   \n",
       "\n",
       "   Item_Type_Meat  Item_Type_Others  Item_Type_Seafood  Item_Type_Snack Foods  \\\n",
       "0               0                 0                  0                      0   \n",
       "1               0                 0                  0                      0   \n",
       "2               1                 0                  0                      0   \n",
       "3               0                 0                  0                      0   \n",
       "4               0                 0                  0                      0   \n",
       "\n",
       "   Item_Type_Soft Drinks  Item_Type_Starchy Foods  \\\n",
       "0                      0                        0   \n",
       "1                      1                        0   \n",
       "2                      0                        0   \n",
       "3                      0                        0   \n",
       "4                      0                        0   \n",
       "\n",
       "   Outlet_Location_Type_Tier 2  Outlet_Location_Type_Tier 3  \\\n",
       "0                            0                            0   \n",
       "1                            0                            1   \n",
       "2                            0                            0   \n",
       "3                            0                            1   \n",
       "4                            0                            1   \n",
       "\n",
       "   Outlet_Type_Supermarket Type1  Outlet_Type_Supermarket Type2  \\\n",
       "0                              1                              0   \n",
       "1                              0                              1   \n",
       "2                              1                              0   \n",
       "3                              0                              0   \n",
       "4                              1                              0   \n",
       "\n",
       "   Outlet_Type_Supermarket Type3  \n",
       "0                              0  \n",
       "1                              0  \n",
       "2                              0  \n",
       "3                              0  \n",
       "4                              0  "
      ]
     },
     "execution_count": 4,
     "metadata": {},
     "output_type": "execute_result"
    }
   ],
   "source": [
    "train_df = pd.read_csv('Data_Set/preprocessed_data.csv')\n",
    "train_df.head()"
   ]
  },
  {
   "cell_type": "markdown",
   "id": "30172b62",
   "metadata": {},
   "source": [
    "# Model Building\n",
    "\n",
    "<ol>\n",
    "    <li>Linear Regression</li>\n",
    "    <li>Ridge Regression</li>\n",
    "    <li>Lasso Regression</li>\n",
    "    <li>Decision Tree Regressor</li>\n",
    "    <li>Random Forest Regressor</li>\n",
    "    <li>KNN Regressor</li>\n",
    "    <li>Bagging</li>\n",
    "    <li>Boosting</li>\n",
    "    <li>Stacking</li>\n",
    "</ol>"
   ]
  },
  {
   "cell_type": "code",
   "execution_count": 5,
   "id": "fd86a501",
   "metadata": {},
   "outputs": [],
   "source": [
    "# Standarization only the numerical freature using MinMaxScaler\n",
    "\n",
    "from sklearn.preprocessing import MinMaxScaler\n",
    "minmax = MinMaxScaler()\n",
    "\n",
    "df_standard = minmax.fit_transform(train_df[['Item_Weight','Item_MRP']])"
   ]
  },
  {
   "cell_type": "code",
   "execution_count": 6,
   "id": "7271d9ca",
   "metadata": {},
   "outputs": [
    {
     "data": {
      "text/plain": [
       "array([[0.28252456, 0.92750715],\n",
       "       [0.08127419, 0.0720684 ],\n",
       "       [0.77076511, 0.46828841],\n",
       "       ...,\n",
       "       [0.35992855, 0.22849221],\n",
       "       [0.15808276, 0.30493925],\n",
       "       [0.61000298, 0.18750976]])"
      ]
     },
     "execution_count": 6,
     "metadata": {},
     "output_type": "execute_result"
    }
   ],
   "source": [
    "df_standard"
   ]
  },
  {
   "cell_type": "code",
   "execution_count": 7,
   "id": "5e2677ef",
   "metadata": {},
   "outputs": [
    {
     "data": {
      "text/html": [
       "<div>\n",
       "<style scoped>\n",
       "    .dataframe tbody tr th:only-of-type {\n",
       "        vertical-align: middle;\n",
       "    }\n",
       "\n",
       "    .dataframe tbody tr th {\n",
       "        vertical-align: top;\n",
       "    }\n",
       "\n",
       "    .dataframe thead th {\n",
       "        text-align: right;\n",
       "    }\n",
       "</style>\n",
       "<table border=\"1\" class=\"dataframe\">\n",
       "  <thead>\n",
       "    <tr style=\"text-align: right;\">\n",
       "      <th></th>\n",
       "      <th>Item_Weight</th>\n",
       "      <th>Item_MRP</th>\n",
       "      <th>Item_Outlet_Sales</th>\n",
       "      <th>Item_Fat_Content_Regular</th>\n",
       "      <th>Item_Type_Breads</th>\n",
       "      <th>Item_Type_Breakfast</th>\n",
       "      <th>Item_Type_Canned</th>\n",
       "      <th>Item_Type_Dairy</th>\n",
       "      <th>Item_Type_Frozen Foods</th>\n",
       "      <th>Item_Type_Fruits and Vegetables</th>\n",
       "      <th>Item_Type_Hard Drinks</th>\n",
       "      <th>Item_Type_Health and Hygiene</th>\n",
       "      <th>Item_Type_Household</th>\n",
       "      <th>Item_Type_Meat</th>\n",
       "      <th>Item_Type_Others</th>\n",
       "      <th>Item_Type_Seafood</th>\n",
       "      <th>Item_Type_Snack Foods</th>\n",
       "      <th>Item_Type_Soft Drinks</th>\n",
       "      <th>Item_Type_Starchy Foods</th>\n",
       "      <th>Outlet_Location_Type_Tier 2</th>\n",
       "      <th>Outlet_Location_Type_Tier 3</th>\n",
       "      <th>Outlet_Type_Supermarket Type1</th>\n",
       "      <th>Outlet_Type_Supermarket Type2</th>\n",
       "      <th>Outlet_Type_Supermarket Type3</th>\n",
       "    </tr>\n",
       "  </thead>\n",
       "  <tbody>\n",
       "    <tr>\n",
       "      <th>0</th>\n",
       "      <td>0.282525</td>\n",
       "      <td>0.927507</td>\n",
       "      <td>3735.1380</td>\n",
       "      <td>0</td>\n",
       "      <td>0</td>\n",
       "      <td>0</td>\n",
       "      <td>0</td>\n",
       "      <td>1</td>\n",
       "      <td>0</td>\n",
       "      <td>0</td>\n",
       "      <td>0</td>\n",
       "      <td>0</td>\n",
       "      <td>0</td>\n",
       "      <td>0</td>\n",
       "      <td>0</td>\n",
       "      <td>0</td>\n",
       "      <td>0</td>\n",
       "      <td>0</td>\n",
       "      <td>0</td>\n",
       "      <td>0</td>\n",
       "      <td>0</td>\n",
       "      <td>1</td>\n",
       "      <td>0</td>\n",
       "      <td>0</td>\n",
       "    </tr>\n",
       "    <tr>\n",
       "      <th>1</th>\n",
       "      <td>0.081274</td>\n",
       "      <td>0.072068</td>\n",
       "      <td>443.4228</td>\n",
       "      <td>1</td>\n",
       "      <td>0</td>\n",
       "      <td>0</td>\n",
       "      <td>0</td>\n",
       "      <td>0</td>\n",
       "      <td>0</td>\n",
       "      <td>0</td>\n",
       "      <td>0</td>\n",
       "      <td>0</td>\n",
       "      <td>0</td>\n",
       "      <td>0</td>\n",
       "      <td>0</td>\n",
       "      <td>0</td>\n",
       "      <td>0</td>\n",
       "      <td>1</td>\n",
       "      <td>0</td>\n",
       "      <td>0</td>\n",
       "      <td>1</td>\n",
       "      <td>0</td>\n",
       "      <td>1</td>\n",
       "      <td>0</td>\n",
       "    </tr>\n",
       "    <tr>\n",
       "      <th>2</th>\n",
       "      <td>0.770765</td>\n",
       "      <td>0.468288</td>\n",
       "      <td>2097.2700</td>\n",
       "      <td>0</td>\n",
       "      <td>0</td>\n",
       "      <td>0</td>\n",
       "      <td>0</td>\n",
       "      <td>0</td>\n",
       "      <td>0</td>\n",
       "      <td>0</td>\n",
       "      <td>0</td>\n",
       "      <td>0</td>\n",
       "      <td>0</td>\n",
       "      <td>1</td>\n",
       "      <td>0</td>\n",
       "      <td>0</td>\n",
       "      <td>0</td>\n",
       "      <td>0</td>\n",
       "      <td>0</td>\n",
       "      <td>0</td>\n",
       "      <td>0</td>\n",
       "      <td>1</td>\n",
       "      <td>0</td>\n",
       "      <td>0</td>\n",
       "    </tr>\n",
       "    <tr>\n",
       "      <th>3</th>\n",
       "      <td>0.871986</td>\n",
       "      <td>0.640093</td>\n",
       "      <td>732.3800</td>\n",
       "      <td>1</td>\n",
       "      <td>0</td>\n",
       "      <td>0</td>\n",
       "      <td>0</td>\n",
       "      <td>0</td>\n",
       "      <td>0</td>\n",
       "      <td>1</td>\n",
       "      <td>0</td>\n",
       "      <td>0</td>\n",
       "      <td>0</td>\n",
       "      <td>0</td>\n",
       "      <td>0</td>\n",
       "      <td>0</td>\n",
       "      <td>0</td>\n",
       "      <td>0</td>\n",
       "      <td>0</td>\n",
       "      <td>0</td>\n",
       "      <td>1</td>\n",
       "      <td>0</td>\n",
       "      <td>0</td>\n",
       "      <td>0</td>\n",
       "    </tr>\n",
       "    <tr>\n",
       "      <th>4</th>\n",
       "      <td>0.260494</td>\n",
       "      <td>0.095805</td>\n",
       "      <td>994.7052</td>\n",
       "      <td>0</td>\n",
       "      <td>0</td>\n",
       "      <td>0</td>\n",
       "      <td>0</td>\n",
       "      <td>0</td>\n",
       "      <td>0</td>\n",
       "      <td>0</td>\n",
       "      <td>0</td>\n",
       "      <td>0</td>\n",
       "      <td>1</td>\n",
       "      <td>0</td>\n",
       "      <td>0</td>\n",
       "      <td>0</td>\n",
       "      <td>0</td>\n",
       "      <td>0</td>\n",
       "      <td>0</td>\n",
       "      <td>0</td>\n",
       "      <td>1</td>\n",
       "      <td>1</td>\n",
       "      <td>0</td>\n",
       "      <td>0</td>\n",
       "    </tr>\n",
       "  </tbody>\n",
       "</table>\n",
       "</div>"
      ],
      "text/plain": [
       "   Item_Weight  Item_MRP  Item_Outlet_Sales  Item_Fat_Content_Regular  \\\n",
       "0     0.282525  0.927507          3735.1380                         0   \n",
       "1     0.081274  0.072068           443.4228                         1   \n",
       "2     0.770765  0.468288          2097.2700                         0   \n",
       "3     0.871986  0.640093           732.3800                         1   \n",
       "4     0.260494  0.095805           994.7052                         0   \n",
       "\n",
       "   Item_Type_Breads  Item_Type_Breakfast  Item_Type_Canned  Item_Type_Dairy  \\\n",
       "0                 0                    0                 0                1   \n",
       "1                 0                    0                 0                0   \n",
       "2                 0                    0                 0                0   \n",
       "3                 0                    0                 0                0   \n",
       "4                 0                    0                 0                0   \n",
       "\n",
       "   Item_Type_Frozen Foods  Item_Type_Fruits and Vegetables  \\\n",
       "0                       0                                0   \n",
       "1                       0                                0   \n",
       "2                       0                                0   \n",
       "3                       0                                1   \n",
       "4                       0                                0   \n",
       "\n",
       "   Item_Type_Hard Drinks  Item_Type_Health and Hygiene  Item_Type_Household  \\\n",
       "0                      0                             0                    0   \n",
       "1                      0                             0                    0   \n",
       "2                      0                             0                    0   \n",
       "3                      0                             0                    0   \n",
       "4                      0                             0                    1   \n",
       "\n",
       "   Item_Type_Meat  Item_Type_Others  Item_Type_Seafood  Item_Type_Snack Foods  \\\n",
       "0               0                 0                  0                      0   \n",
       "1               0                 0                  0                      0   \n",
       "2               1                 0                  0                      0   \n",
       "3               0                 0                  0                      0   \n",
       "4               0                 0                  0                      0   \n",
       "\n",
       "   Item_Type_Soft Drinks  Item_Type_Starchy Foods  \\\n",
       "0                      0                        0   \n",
       "1                      1                        0   \n",
       "2                      0                        0   \n",
       "3                      0                        0   \n",
       "4                      0                        0   \n",
       "\n",
       "   Outlet_Location_Type_Tier 2  Outlet_Location_Type_Tier 3  \\\n",
       "0                            0                            0   \n",
       "1                            0                            1   \n",
       "2                            0                            0   \n",
       "3                            0                            1   \n",
       "4                            0                            1   \n",
       "\n",
       "   Outlet_Type_Supermarket Type1  Outlet_Type_Supermarket Type2  \\\n",
       "0                              1                              0   \n",
       "1                              0                              1   \n",
       "2                              1                              0   \n",
       "3                              0                              0   \n",
       "4                              1                              0   \n",
       "\n",
       "   Outlet_Type_Supermarket Type3  \n",
       "0                              0  \n",
       "1                              0  \n",
       "2                              0  \n",
       "3                              0  \n",
       "4                              0  "
      ]
     },
     "execution_count": 7,
     "metadata": {},
     "output_type": "execute_result"
    }
   ],
   "source": [
    "train_df['Item_Weight'] = df_standard[:,0]\n",
    "train_df['Item_MRP'] = df_standard[:,1]\n",
    "\n",
    "train_df.head()"
   ]
  },
  {
   "cell_type": "markdown",
   "id": "3537889a",
   "metadata": {},
   "source": [
    "## X, y Split"
   ]
  },
  {
   "cell_type": "code",
   "execution_count": 8,
   "id": "91660563",
   "metadata": {},
   "outputs": [],
   "source": [
    "X = train_df.drop(['Item_Outlet_Sales'],axis = 1)\n",
    "Y = train_df['Item_Outlet_Sales']"
   ]
  },
  {
   "cell_type": "markdown",
   "id": "a022d414",
   "metadata": {},
   "source": [
    "## Train Test Split"
   ]
  },
  {
   "cell_type": "code",
   "execution_count": 9,
   "id": "504e6929",
   "metadata": {},
   "outputs": [
    {
     "name": "stdout",
     "output_type": "stream",
     "text": [
      "(6818, 23) (1705, 23) (6818,) (1705,)\n"
     ]
    }
   ],
   "source": [
    "from sklearn.model_selection import train_test_split\n",
    "\n",
    "X_train,X_test,Y_train,Y_test = train_test_split(X,Y,test_size=0.2,random_state = 42)\n",
    "print(X_train.shape,X_test.shape,Y_train.shape,Y_test.shape)"
   ]
  },
  {
   "cell_type": "code",
   "execution_count": 10,
   "id": "14852f9c",
   "metadata": {},
   "outputs": [
    {
     "data": {
      "text/html": [
       "<div>\n",
       "<style scoped>\n",
       "    .dataframe tbody tr th:only-of-type {\n",
       "        vertical-align: middle;\n",
       "    }\n",
       "\n",
       "    .dataframe tbody tr th {\n",
       "        vertical-align: top;\n",
       "    }\n",
       "\n",
       "    .dataframe thead th {\n",
       "        text-align: right;\n",
       "    }\n",
       "</style>\n",
       "<table border=\"1\" class=\"dataframe\">\n",
       "  <thead>\n",
       "    <tr style=\"text-align: right;\">\n",
       "      <th></th>\n",
       "      <th>Item_Weight</th>\n",
       "      <th>Item_MRP</th>\n",
       "      <th>Item_Fat_Content_Regular</th>\n",
       "      <th>Item_Type_Breads</th>\n",
       "      <th>Item_Type_Breakfast</th>\n",
       "      <th>Item_Type_Canned</th>\n",
       "      <th>Item_Type_Dairy</th>\n",
       "      <th>Item_Type_Frozen Foods</th>\n",
       "      <th>Item_Type_Fruits and Vegetables</th>\n",
       "      <th>Item_Type_Hard Drinks</th>\n",
       "      <th>Item_Type_Health and Hygiene</th>\n",
       "      <th>Item_Type_Household</th>\n",
       "      <th>Item_Type_Meat</th>\n",
       "      <th>Item_Type_Others</th>\n",
       "      <th>Item_Type_Seafood</th>\n",
       "      <th>Item_Type_Snack Foods</th>\n",
       "      <th>Item_Type_Soft Drinks</th>\n",
       "      <th>Item_Type_Starchy Foods</th>\n",
       "      <th>Outlet_Location_Type_Tier 2</th>\n",
       "      <th>Outlet_Location_Type_Tier 3</th>\n",
       "      <th>Outlet_Type_Supermarket Type1</th>\n",
       "      <th>Outlet_Type_Supermarket Type2</th>\n",
       "      <th>Outlet_Type_Supermarket Type3</th>\n",
       "    </tr>\n",
       "  </thead>\n",
       "  <tbody>\n",
       "    <tr>\n",
       "      <th>549</th>\n",
       "      <td>0.294433</td>\n",
       "      <td>0.594464</td>\n",
       "      <td>1</td>\n",
       "      <td>0</td>\n",
       "      <td>0</td>\n",
       "      <td>0</td>\n",
       "      <td>0</td>\n",
       "      <td>0</td>\n",
       "      <td>1</td>\n",
       "      <td>0</td>\n",
       "      <td>0</td>\n",
       "      <td>0</td>\n",
       "      <td>0</td>\n",
       "      <td>0</td>\n",
       "      <td>0</td>\n",
       "      <td>0</td>\n",
       "      <td>0</td>\n",
       "      <td>0</td>\n",
       "      <td>0</td>\n",
       "      <td>0</td>\n",
       "      <td>1</td>\n",
       "      <td>0</td>\n",
       "      <td>0</td>\n",
       "    </tr>\n",
       "    <tr>\n",
       "      <th>7757</th>\n",
       "      <td>0.800536</td>\n",
       "      <td>0.591057</td>\n",
       "      <td>0</td>\n",
       "      <td>0</td>\n",
       "      <td>0</td>\n",
       "      <td>0</td>\n",
       "      <td>0</td>\n",
       "      <td>0</td>\n",
       "      <td>0</td>\n",
       "      <td>0</td>\n",
       "      <td>0</td>\n",
       "      <td>1</td>\n",
       "      <td>0</td>\n",
       "      <td>0</td>\n",
       "      <td>0</td>\n",
       "      <td>0</td>\n",
       "      <td>0</td>\n",
       "      <td>0</td>\n",
       "      <td>1</td>\n",
       "      <td>0</td>\n",
       "      <td>1</td>\n",
       "      <td>0</td>\n",
       "      <td>0</td>\n",
       "    </tr>\n",
       "    <tr>\n",
       "      <th>764</th>\n",
       "      <td>0.776719</td>\n",
       "      <td>0.341387</td>\n",
       "      <td>1</td>\n",
       "      <td>0</td>\n",
       "      <td>0</td>\n",
       "      <td>0</td>\n",
       "      <td>0</td>\n",
       "      <td>0</td>\n",
       "      <td>0</td>\n",
       "      <td>0</td>\n",
       "      <td>0</td>\n",
       "      <td>0</td>\n",
       "      <td>1</td>\n",
       "      <td>0</td>\n",
       "      <td>0</td>\n",
       "      <td>0</td>\n",
       "      <td>0</td>\n",
       "      <td>0</td>\n",
       "      <td>0</td>\n",
       "      <td>0</td>\n",
       "      <td>1</td>\n",
       "      <td>0</td>\n",
       "      <td>0</td>\n",
       "    </tr>\n",
       "    <tr>\n",
       "      <th>6867</th>\n",
       "      <td>0.224472</td>\n",
       "      <td>0.043819</td>\n",
       "      <td>0</td>\n",
       "      <td>0</td>\n",
       "      <td>0</td>\n",
       "      <td>0</td>\n",
       "      <td>0</td>\n",
       "      <td>0</td>\n",
       "      <td>1</td>\n",
       "      <td>0</td>\n",
       "      <td>0</td>\n",
       "      <td>0</td>\n",
       "      <td>0</td>\n",
       "      <td>0</td>\n",
       "      <td>0</td>\n",
       "      <td>0</td>\n",
       "      <td>0</td>\n",
       "      <td>0</td>\n",
       "      <td>1</td>\n",
       "      <td>0</td>\n",
       "      <td>1</td>\n",
       "      <td>0</td>\n",
       "      <td>0</td>\n",
       "    </tr>\n",
       "    <tr>\n",
       "      <th>2716</th>\n",
       "      <td>0.493897</td>\n",
       "      <td>0.527478</td>\n",
       "      <td>0</td>\n",
       "      <td>0</td>\n",
       "      <td>0</td>\n",
       "      <td>0</td>\n",
       "      <td>0</td>\n",
       "      <td>0</td>\n",
       "      <td>0</td>\n",
       "      <td>0</td>\n",
       "      <td>0</td>\n",
       "      <td>0</td>\n",
       "      <td>0</td>\n",
       "      <td>0</td>\n",
       "      <td>0</td>\n",
       "      <td>1</td>\n",
       "      <td>0</td>\n",
       "      <td>0</td>\n",
       "      <td>0</td>\n",
       "      <td>0</td>\n",
       "      <td>1</td>\n",
       "      <td>0</td>\n",
       "      <td>0</td>\n",
       "    </tr>\n",
       "  </tbody>\n",
       "</table>\n",
       "</div>"
      ],
      "text/plain": [
       "      Item_Weight  Item_MRP  Item_Fat_Content_Regular  Item_Type_Breads  \\\n",
       "549      0.294433  0.594464                         1                 0   \n",
       "7757     0.800536  0.591057                         0                 0   \n",
       "764      0.776719  0.341387                         1                 0   \n",
       "6867     0.224472  0.043819                         0                 0   \n",
       "2716     0.493897  0.527478                         0                 0   \n",
       "\n",
       "      Item_Type_Breakfast  Item_Type_Canned  Item_Type_Dairy  \\\n",
       "549                     0                 0                0   \n",
       "7757                    0                 0                0   \n",
       "764                     0                 0                0   \n",
       "6867                    0                 0                0   \n",
       "2716                    0                 0                0   \n",
       "\n",
       "      Item_Type_Frozen Foods  Item_Type_Fruits and Vegetables  \\\n",
       "549                        0                                1   \n",
       "7757                       0                                0   \n",
       "764                        0                                0   \n",
       "6867                       0                                1   \n",
       "2716                       0                                0   \n",
       "\n",
       "      Item_Type_Hard Drinks  Item_Type_Health and Hygiene  \\\n",
       "549                       0                             0   \n",
       "7757                      0                             0   \n",
       "764                       0                             0   \n",
       "6867                      0                             0   \n",
       "2716                      0                             0   \n",
       "\n",
       "      Item_Type_Household  Item_Type_Meat  Item_Type_Others  \\\n",
       "549                     0               0                 0   \n",
       "7757                    1               0                 0   \n",
       "764                     0               1                 0   \n",
       "6867                    0               0                 0   \n",
       "2716                    0               0                 0   \n",
       "\n",
       "      Item_Type_Seafood  Item_Type_Snack Foods  Item_Type_Soft Drinks  \\\n",
       "549                   0                      0                      0   \n",
       "7757                  0                      0                      0   \n",
       "764                   0                      0                      0   \n",
       "6867                  0                      0                      0   \n",
       "2716                  0                      1                      0   \n",
       "\n",
       "      Item_Type_Starchy Foods  Outlet_Location_Type_Tier 2  \\\n",
       "549                         0                            0   \n",
       "7757                        0                            1   \n",
       "764                         0                            0   \n",
       "6867                        0                            1   \n",
       "2716                        0                            0   \n",
       "\n",
       "      Outlet_Location_Type_Tier 3  Outlet_Type_Supermarket Type1  \\\n",
       "549                             0                              1   \n",
       "7757                            0                              1   \n",
       "764                             0                              1   \n",
       "6867                            0                              1   \n",
       "2716                            0                              1   \n",
       "\n",
       "      Outlet_Type_Supermarket Type2  Outlet_Type_Supermarket Type3  \n",
       "549                               0                              0  \n",
       "7757                              0                              0  \n",
       "764                               0                              0  \n",
       "6867                              0                              0  \n",
       "2716                              0                              0  "
      ]
     },
     "execution_count": 10,
     "metadata": {},
     "output_type": "execute_result"
    }
   ],
   "source": [
    "X_train.head()"
   ]
  },
  {
   "cell_type": "markdown",
   "id": "04005ff3",
   "metadata": {},
   "source": [
    "## Linear Regression"
   ]
  },
  {
   "cell_type": "code",
   "execution_count": 11,
   "id": "e2036ea9",
   "metadata": {},
   "outputs": [],
   "source": [
    "# Let's create a function to create adjusted R-Squared\n",
    "def adj_R2(x,y,regression):\n",
    "    r2 = regression.score(x,y)\n",
    "    n = x.shape[0]\n",
    "    p = x.shape[1]\n",
    "    adjusted_r2 = 1-(1-r2)*(n-1)/(n-p-1)\n",
    "    return adjusted_r2"
   ]
  },
  {
   "cell_type": "code",
   "execution_count": 12,
   "id": "c1e92961",
   "metadata": {},
   "outputs": [
    {
     "data": {
      "text/plain": [
       "LinearRegression()"
      ]
     },
     "execution_count": 12,
     "metadata": {},
     "output_type": "execute_result"
    }
   ],
   "source": [
    "from sklearn.linear_model import LinearRegression\n",
    "\n",
    "linear_reg = LinearRegression()\n",
    "linear_reg.fit(X_train,Y_train)"
   ]
  },
  {
   "cell_type": "code",
   "execution_count": 13,
   "id": "d0f394bd",
   "metadata": {},
   "outputs": [
    {
     "name": "stdout",
     "output_type": "stream",
     "text": [
      "R2 for train data:  0.5583059210354264\n",
      "Adjusted R2 for train data:  0.556810636399544 \n",
      "\n",
      "R2 for test data:  0.5783703769266026\n",
      "Adjusted R2 for test data:  0.572601500465753\n"
     ]
    }
   ],
   "source": [
    "print(\"R2 for train data: \",linear_reg.score(X_train,Y_train))\n",
    "print(\"Adjusted R2 for train data: \",adj_R2(X_train,Y_train,linear_reg),'\\n')\n",
    "\n",
    "print(\"R2 for test data: \",linear_reg.score(X_test,Y_test))\n",
    "print(\"Adjusted R2 for test data: \",adj_R2(X_test,Y_test,linear_reg))"
   ]
  },
  {
   "cell_type": "code",
   "execution_count": 14,
   "id": "10b06aa1",
   "metadata": {},
   "outputs": [
    {
     "name": "stdout",
     "output_type": "stream",
     "text": [
      "[0.53256451 0.5832018  0.56415725 0.55384907 0.57458206 0.53026454\n",
      " 0.54011719 0.57763835 0.54099286 0.54368191]\n",
      "0.5541049547592622\n"
     ]
    }
   ],
   "source": [
    "#from sklearn.linear_model import LinearRegression\n",
    "from sklearn.model_selection import cross_val_score\n",
    "\n",
    "model = LinearRegression()\n",
    "scores_lr = cross_val_score(model, X=X_train , y=Y_train, cv=10)\n",
    "\n",
    "print(scores_lr)\n",
    "print(scores_lr.mean())"
   ]
  },
  {
   "cell_type": "code",
   "execution_count": 15,
   "id": "8c2a9913",
   "metadata": {},
   "outputs": [
    {
     "data": {
      "text/html": [
       "<div>\n",
       "<style scoped>\n",
       "    .dataframe tbody tr th:only-of-type {\n",
       "        vertical-align: middle;\n",
       "    }\n",
       "\n",
       "    .dataframe tbody tr th {\n",
       "        vertical-align: top;\n",
       "    }\n",
       "\n",
       "    .dataframe thead th {\n",
       "        text-align: right;\n",
       "    }\n",
       "</style>\n",
       "<table border=\"1\" class=\"dataframe\">\n",
       "  <thead>\n",
       "    <tr style=\"text-align: right;\">\n",
       "      <th></th>\n",
       "      <th>Model_Name</th>\n",
       "      <th>Train_R2</th>\n",
       "      <th>Test_R2</th>\n",
       "      <th>Parameters</th>\n",
       "    </tr>\n",
       "  </thead>\n",
       "  <tbody>\n",
       "    <tr>\n",
       "      <th>0</th>\n",
       "      <td>Linear Regression</td>\n",
       "      <td>0.556811</td>\n",
       "      <td>0.572602</td>\n",
       "      <td>default</td>\n",
       "    </tr>\n",
       "  </tbody>\n",
       "</table>\n",
       "</div>"
      ],
      "text/plain": [
       "          Model_Name  Train_R2   Test_R2 Parameters\n",
       "0  Linear Regression  0.556811  0.572602    default"
      ]
     },
     "execution_count": 15,
     "metadata": {},
     "output_type": "execute_result"
    }
   ],
   "source": [
    "Table = insertData(Table, 'Linear Regression', adj_R2(X_train,Y_train,linear_reg), adj_R2(X_test,Y_test,linear_reg))\n",
    "Table"
   ]
  },
  {
   "cell_type": "markdown",
   "id": "43a037a9",
   "metadata": {},
   "source": [
    "## Lasso Regression"
   ]
  },
  {
   "cell_type": "code",
   "execution_count": 16,
   "id": "3caccf71",
   "metadata": {},
   "outputs": [
    {
     "data": {
      "text/plain": [
       "LassoCV(cv=10, max_iter=100000)"
      ]
     },
     "execution_count": 16,
     "metadata": {},
     "output_type": "execute_result"
    }
   ],
   "source": [
    "# Lasso Regularization\n",
    "from sklearn.linear_model import LassoCV\n",
    "\n",
    "lasscv = LassoCV(alphas=None,cv=10, max_iter=100000)\n",
    "lasscv.fit(X_train,Y_train)"
   ]
  },
  {
   "cell_type": "code",
   "execution_count": 17,
   "id": "de574963",
   "metadata": {},
   "outputs": [
    {
     "name": "stdout",
     "output_type": "stream",
     "text": [
      "2.581021055193149\n"
     ]
    }
   ],
   "source": [
    "alpha = lasscv.alpha_\n",
    "print(alpha)"
   ]
  },
  {
   "cell_type": "code",
   "execution_count": 18,
   "id": "70fff68e",
   "metadata": {},
   "outputs": [
    {
     "data": {
      "text/plain": [
       "Lasso(alpha=2.581021055193149)"
      ]
     },
     "execution_count": 18,
     "metadata": {},
     "output_type": "execute_result"
    }
   ],
   "source": [
    "#now that we have best parameter, let's use Lasso regression and see how well our data has fitted before\n",
    "from sklearn.linear_model import Lasso\n",
    "\n",
    "lasso_reg = Lasso(alpha)\n",
    "lasso_reg.fit(X_train,Y_train)"
   ]
  },
  {
   "cell_type": "code",
   "execution_count": 19,
   "id": "9cefaa3f",
   "metadata": {},
   "outputs": [
    {
     "name": "stdout",
     "output_type": "stream",
     "text": [
      "r2 for train data:  0.5577766492833689\n",
      "adjusted_r2 for train data:  0.5562795728826502 \n",
      "\n",
      "r2 for test data:  0.5797519137237708\n",
      "adjusted_r2 for test data:  0.5740019399079747\n"
     ]
    }
   ],
   "source": [
    "print(\"r2 for train data: \",lasso_reg.score(X_train,Y_train))\n",
    "print(\"adjusted_r2 for train data: \",adj_R2(X_train,Y_train,lasso_reg),'\\n')\n",
    "\n",
    "print(\"r2 for test data: \",lasso_reg.score(X_test,Y_test))\n",
    "print(\"adjusted_r2 for test data: \",adj_R2(X_test,Y_test,lasso_reg))"
   ]
  },
  {
   "cell_type": "code",
   "execution_count": 20,
   "id": "1efbd681",
   "metadata": {},
   "outputs": [],
   "source": [
    "Table = insertData(Table, 'Lasso Regression', adj_R2(X_train,Y_train,lasso_reg), adj_R2(X_test,Y_test,lasso_reg), [{'alpha':'2.581021055193149'}])"
   ]
  },
  {
   "cell_type": "markdown",
   "id": "0f9ec8da",
   "metadata": {},
   "source": [
    "## Ridge Regression"
   ]
  },
  {
   "cell_type": "code",
   "execution_count": 21,
   "id": "b5e4d2d6",
   "metadata": {},
   "outputs": [
    {
     "data": {
      "text/plain": [
       "RidgeCV(alphas=array([2. , 2.1, 2.2, 2.3, 2.4, 2.5, 2.6, 2.7, 2.8, 2.9, 3. , 3.1, 3.2]),\n",
       "        cv=10)"
      ]
     },
     "execution_count": 21,
     "metadata": {},
     "output_type": "execute_result"
    }
   ],
   "source": [
    "# Ridge Regularization\n",
    "from sklearn.linear_model import RidgeCV\n",
    "\n",
    "#alphas = [0.01,0.1,1,1.1,1.2,1.3,1.4,1.5,1.6,1.7,1.8,1.9,2]\n",
    "alphas = [2, 2.1, 2.2, 2.3, 2.4, 2.5, 2.6, 2.7, 2.8, 2.9, 3, 3.1, 3.2]\n",
    "ridgecv = RidgeCV(alphas, cv =10)\n",
    "ridgecv.fit(X_train,Y_train)"
   ]
  },
  {
   "cell_type": "code",
   "execution_count": 22,
   "id": "bb47f09e",
   "metadata": {},
   "outputs": [
    {
     "name": "stdout",
     "output_type": "stream",
     "text": [
      "2.1\n"
     ]
    }
   ],
   "source": [
    "alpha = ridgecv.alpha_\n",
    "print(alpha)"
   ]
  },
  {
   "cell_type": "code",
   "execution_count": 23,
   "id": "b8365c12",
   "metadata": {},
   "outputs": [
    {
     "data": {
      "text/plain": [
       "Ridge(alpha=2.1)"
      ]
     },
     "execution_count": 23,
     "metadata": {},
     "output_type": "execute_result"
    }
   ],
   "source": [
    "from sklearn.linear_model import Ridge\n",
    "\n",
    "ridge_reg = Ridge(alpha=alpha)\n",
    "ridge_reg.fit(X_train,Y_train)"
   ]
  },
  {
   "cell_type": "code",
   "execution_count": 24,
   "id": "0437c04f",
   "metadata": {},
   "outputs": [
    {
     "name": "stdout",
     "output_type": "stream",
     "text": [
      "r2 for train data:  0.5582818284712899\n",
      "adjusted_r2 for train data:  0.5567864622738863 \n",
      "\n",
      "r2 for test data:  0.5784693180915954\n",
      "adjusted_r2 for test data:  0.5727017953766083\n"
     ]
    }
   ],
   "source": [
    "print(\"r2 for train data: \",ridge_reg.score(X_train,Y_train))\n",
    "print(\"adjusted_r2 for train data: \",adj_R2(X_train,Y_train,ridge_reg),'\\n')\n",
    "\n",
    "print(\"r2 for test data: \",ridge_reg.score(X_test,Y_test))\n",
    "print(\"adjusted_r2 for test data: \",adj_R2(X_test,Y_test,ridge_reg))"
   ]
  },
  {
   "cell_type": "code",
   "execution_count": 25,
   "id": "79dbecd4",
   "metadata": {},
   "outputs": [
    {
     "data": {
      "text/html": [
       "<div>\n",
       "<style scoped>\n",
       "    .dataframe tbody tr th:only-of-type {\n",
       "        vertical-align: middle;\n",
       "    }\n",
       "\n",
       "    .dataframe tbody tr th {\n",
       "        vertical-align: top;\n",
       "    }\n",
       "\n",
       "    .dataframe thead th {\n",
       "        text-align: right;\n",
       "    }\n",
       "</style>\n",
       "<table border=\"1\" class=\"dataframe\">\n",
       "  <thead>\n",
       "    <tr style=\"text-align: right;\">\n",
       "      <th></th>\n",
       "      <th>Model_Name</th>\n",
       "      <th>Train_R2</th>\n",
       "      <th>Test_R2</th>\n",
       "      <th>Parameters</th>\n",
       "    </tr>\n",
       "  </thead>\n",
       "  <tbody>\n",
       "    <tr>\n",
       "      <th>0</th>\n",
       "      <td>Ridge Regression</td>\n",
       "      <td>0.556786</td>\n",
       "      <td>0.572702</td>\n",
       "      <td>{alpha = 2.1}</td>\n",
       "    </tr>\n",
       "    <tr>\n",
       "      <th>1</th>\n",
       "      <td>Lasso Regression</td>\n",
       "      <td>0.556280</td>\n",
       "      <td>0.574002</td>\n",
       "      <td>{'alpha': '2.581021055193149'}</td>\n",
       "    </tr>\n",
       "    <tr>\n",
       "      <th>2</th>\n",
       "      <td>Linear Regression</td>\n",
       "      <td>0.556811</td>\n",
       "      <td>0.572602</td>\n",
       "      <td>default</td>\n",
       "    </tr>\n",
       "  </tbody>\n",
       "</table>\n",
       "</div>"
      ],
      "text/plain": [
       "          Model_Name  Train_R2   Test_R2                      Parameters\n",
       "0   Ridge Regression  0.556786  0.572702                   {alpha = 2.1}\n",
       "1   Lasso Regression  0.556280  0.574002  {'alpha': '2.581021055193149'}\n",
       "2  Linear Regression  0.556811  0.572602                         default"
      ]
     },
     "execution_count": 25,
     "metadata": {},
     "output_type": "execute_result"
    }
   ],
   "source": [
    "Table = insertData(Table, 'Ridge Regression', adj_R2(X_train,Y_train,ridge_reg), adj_R2(X_test,Y_test,ridge_reg), [{'alpha = 2.1'}])\n",
    "Table"
   ]
  },
  {
   "cell_type": "markdown",
   "id": "465bb56e",
   "metadata": {},
   "source": [
    "## Decision Tree Regressor"
   ]
  },
  {
   "cell_type": "code",
   "execution_count": 26,
   "id": "99301ccb",
   "metadata": {},
   "outputs": [],
   "source": [
    "HyperParameters = {'min_samples_split':[2,4,6,8,10,12,14,16,18,20,22,24,26,28,30],\n",
    "                   'max_depth':[8,10,12,14,16,18],\n",
    "                   'min_samples_leaf':[2,3,4,5,6,7,8,9,10]}"
   ]
  },
  {
   "cell_type": "code",
   "execution_count": 27,
   "id": "8d66e9c4",
   "metadata": {},
   "outputs": [
    {
     "name": "stdout",
     "output_type": "stream",
     "text": [
      "Fitting 5 folds for each of 810 candidates, totalling 4050 fits\n"
     ]
    },
    {
     "data": {
      "text/plain": [
       "GridSearchCV(cv=5, estimator=DecisionTreeRegressor(), n_jobs=-1,\n",
       "             param_grid={'max_depth': [8, 10, 12, 14, 16, 18],\n",
       "                         'min_samples_leaf': [2, 3, 4, 5, 6, 7, 8, 9, 10],\n",
       "                         'min_samples_split': [2, 4, 6, 8, 10, 12, 14, 16, 18,\n",
       "                                               20, 22, 24, 26, 28, 30]},\n",
       "             verbose=3)"
      ]
     },
     "execution_count": 27,
     "metadata": {},
     "output_type": "execute_result"
    }
   ],
   "source": [
    "from sklearn.tree import DecisionTreeRegressor\n",
    "from sklearn.model_selection import RandomizedSearchCV, GridSearchCV\n",
    "\n",
    "# decision_tree_reg = RandomizedSearchCV(DecisionTreeRegressor(), param_distributions = HyperParameters, cv = 5,\n",
    "#                             n_iter = 100, n_jobs = -1, verbose = 2,random_state = 42)\n",
    "decision_tree_reg = GridSearchCV(DecisionTreeRegressor(), param_grid = HyperParameters, cv = 5,\n",
    "                                 n_jobs = -1, verbose = 3)\n",
    "\n",
    "decision_tree_reg.fit(X_train, Y_train)"
   ]
  },
  {
   "cell_type": "code",
   "execution_count": 28,
   "id": "00d08454",
   "metadata": {},
   "outputs": [
    {
     "name": "stdout",
     "output_type": "stream",
     "text": [
      "0.5651761920615821\n",
      "{'max_depth': 8, 'min_samples_leaf': 10, 'min_samples_split': 28}\n"
     ]
    }
   ],
   "source": [
    "print(decision_tree_reg.best_score_)\n",
    "print(decision_tree_reg.best_params_)"
   ]
  },
  {
   "cell_type": "code",
   "execution_count": 29,
   "id": "4a247483",
   "metadata": {},
   "outputs": [
    {
     "data": {
      "text/plain": [
       "DecisionTreeRegressor(max_depth=8, min_samples_leaf=10, min_samples_split=28)"
      ]
     },
     "execution_count": 29,
     "metadata": {},
     "output_type": "execute_result"
    }
   ],
   "source": [
    "dt_reg = DecisionTreeRegressor(criterion='mse', max_depth=8, min_samples_leaf=10, min_samples_split=28)\n",
    "dt_reg.fit(X_train,Y_train)"
   ]
  },
  {
   "cell_type": "code",
   "execution_count": 30,
   "id": "c1b7467a",
   "metadata": {
    "scrolled": true
   },
   "outputs": [
    {
     "name": "stdout",
     "output_type": "stream",
     "text": [
      "r2 for train data:  0.6400354157955457\n",
      "adjusted_r2 for train data:  0.6388168132879357 \n",
      "\n",
      "r2 for test data:  0.5727352942781683\n",
      "adjusted_r2 for test data:  0.5668893167459838\n"
     ]
    }
   ],
   "source": [
    "print(\"r2 for train data: \",dt_reg.score(X_train,Y_train))\n",
    "print(\"adjusted_r2 for train data: \",adj_R2(X_train,Y_train,dt_reg),'\\n')\n",
    "\n",
    "print(\"r2 for test data: \",dt_reg.score(X_test,Y_test))\n",
    "print(\"adjusted_r2 for test data: \",adj_R2(X_test,Y_test,dt_reg))"
   ]
  },
  {
   "cell_type": "code",
   "execution_count": 33,
   "id": "fe231755",
   "metadata": {},
   "outputs": [
    {
     "name": "stdout",
     "output_type": "stream",
     "text": [
      "[0.5296681  0.58801506 0.58647877 0.55639644 0.5841285  0.51452217\n",
      " 0.54434765 0.60679078 0.54645629 0.57704048]\n",
      "0.5633844233284246\n"
     ]
    }
   ],
   "source": [
    "## Cross Validation\n",
    "scores_lm = cross_val_score(dt_reg, X = X_train, y = Y_train, cv = 10, scoring='r2')\n",
    "\n",
    "print(scores_lm)\n",
    "print(scores_lm.mean())"
   ]
  },
  {
   "cell_type": "code",
   "execution_count": 34,
   "id": "c1d8aeb3",
   "metadata": {},
   "outputs": [
    {
     "data": {
      "text/html": [
       "<div>\n",
       "<style scoped>\n",
       "    .dataframe tbody tr th:only-of-type {\n",
       "        vertical-align: middle;\n",
       "    }\n",
       "\n",
       "    .dataframe tbody tr th {\n",
       "        vertical-align: top;\n",
       "    }\n",
       "\n",
       "    .dataframe thead th {\n",
       "        text-align: right;\n",
       "    }\n",
       "</style>\n",
       "<table border=\"1\" class=\"dataframe\">\n",
       "  <thead>\n",
       "    <tr style=\"text-align: right;\">\n",
       "      <th></th>\n",
       "      <th>Model_Name</th>\n",
       "      <th>Train_R2</th>\n",
       "      <th>Test_R2</th>\n",
       "      <th>Parameters</th>\n",
       "    </tr>\n",
       "  </thead>\n",
       "  <tbody>\n",
       "    <tr>\n",
       "      <th>0</th>\n",
       "      <td>Decision Tree Regressor</td>\n",
       "      <td>0.638817</td>\n",
       "      <td>0.566889</td>\n",
       "      <td>{max_depth=8, min_samples_leaf=10, min_samples...</td>\n",
       "    </tr>\n",
       "    <tr>\n",
       "      <th>1</th>\n",
       "      <td>Ridge Regression</td>\n",
       "      <td>0.556786</td>\n",
       "      <td>0.572702</td>\n",
       "      <td>{alpha = 2.1}</td>\n",
       "    </tr>\n",
       "    <tr>\n",
       "      <th>2</th>\n",
       "      <td>Lasso Regression</td>\n",
       "      <td>0.556280</td>\n",
       "      <td>0.574002</td>\n",
       "      <td>{'alpha': '2.581021055193149'}</td>\n",
       "    </tr>\n",
       "    <tr>\n",
       "      <th>3</th>\n",
       "      <td>Linear Regression</td>\n",
       "      <td>0.556811</td>\n",
       "      <td>0.572602</td>\n",
       "      <td>default</td>\n",
       "    </tr>\n",
       "  </tbody>\n",
       "</table>\n",
       "</div>"
      ],
      "text/plain": [
       "                Model_Name  Train_R2   Test_R2  \\\n",
       "0  Decision Tree Regressor  0.638817  0.566889   \n",
       "1         Ridge Regression  0.556786  0.572702   \n",
       "2         Lasso Regression  0.556280  0.574002   \n",
       "3        Linear Regression  0.556811  0.572602   \n",
       "\n",
       "                                          Parameters  \n",
       "0  {max_depth=8, min_samples_leaf=10, min_samples...  \n",
       "1                                      {alpha = 2.1}  \n",
       "2                     {'alpha': '2.581021055193149'}  \n",
       "3                                            default  "
      ]
     },
     "execution_count": 34,
     "metadata": {},
     "output_type": "execute_result"
    }
   ],
   "source": [
    "Table = insertData(Table, 'Decision Tree Regressor', adj_R2(X_train,Y_train,dt_reg), adj_R2(X_test,Y_test,dt_reg), [{'max_depth=8, min_samples_leaf=10, min_samples_split=28'}])\n",
    "Table"
   ]
  },
  {
   "cell_type": "markdown",
   "id": "512304fa",
   "metadata": {},
   "source": [
    "## Random Forest Regressor"
   ]
  },
  {
   "cell_type": "code",
   "execution_count": 31,
   "id": "405581a6",
   "metadata": {},
   "outputs": [],
   "source": [
    "HyperParameters = {'min_samples_split':[2,4,6,8,10,12,14,16,18,20,22,24,26,28,30],\n",
    "                   'max_depth':[8,10,12,14,16,18],\n",
    "                   'min_samples_leaf':[2,3,4,5,6,7,8,9,10],\n",
    "                   'max_features':[\"auto\", \"sqrt\", \"log2\"]}"
   ]
  },
  {
   "cell_type": "code",
   "execution_count": 32,
   "id": "3898793c",
   "metadata": {},
   "outputs": [
    {
     "name": "stdout",
     "output_type": "stream",
     "text": [
      "Fitting 5 folds for each of 100 candidates, totalling 500 fits\n"
     ]
    },
    {
     "data": {
      "text/plain": [
       "RandomizedSearchCV(cv=5, estimator=RandomForestRegressor(), n_iter=100,\n",
       "                   n_jobs=-1,\n",
       "                   param_distributions={'max_depth': [8, 10, 12, 14, 16, 18],\n",
       "                                        'max_features': ['auto', 'sqrt',\n",
       "                                                         'log2'],\n",
       "                                        'min_samples_leaf': [2, 3, 4, 5, 6, 7,\n",
       "                                                             8, 9, 10],\n",
       "                                        'min_samples_split': [2, 4, 6, 8, 10,\n",
       "                                                              12, 14, 16, 18,\n",
       "                                                              20, 22, 24, 26,\n",
       "                                                              28, 30]},\n",
       "                   random_state=42, verbose=3)"
      ]
     },
     "execution_count": 32,
     "metadata": {},
     "output_type": "execute_result"
    }
   ],
   "source": [
    "from sklearn.ensemble import RandomForestRegressor\n",
    "from sklearn.model_selection import RandomizedSearchCV\n",
    "\n",
    "random_forest_reg = RandomizedSearchCV(RandomForestRegressor(), param_distributions = HyperParameters, cv = 5,\n",
    "                            n_iter = 100, n_jobs = -1, verbose = 3, return_train_score=False, random_state = 42)\n",
    "\n",
    "random_forest_reg.fit(X_train, Y_train)"
   ]
  },
  {
   "cell_type": "code",
   "execution_count": 35,
   "id": "d4a869ee",
   "metadata": {},
   "outputs": [
    {
     "name": "stdout",
     "output_type": "stream",
     "text": [
      "0.5896722726077005\n",
      "{'min_samples_split': 30, 'min_samples_leaf': 10, 'max_features': 'auto', 'max_depth': 8}\n"
     ]
    }
   ],
   "source": [
    "print(random_forest_reg.best_score_)\n",
    "print(random_forest_reg.best_params_)"
   ]
  },
  {
   "cell_type": "code",
   "execution_count": 36,
   "id": "129fa837",
   "metadata": {},
   "outputs": [
    {
     "data": {
      "text/plain": [
       "DecisionTreeRegressor(max_depth=8, max_features='auto', min_samples_leaf=10,\n",
       "                      min_samples_split=30)"
      ]
     },
     "execution_count": 36,
     "metadata": {},
     "output_type": "execute_result"
    }
   ],
   "source": [
    "rf_reg = DecisionTreeRegressor(min_samples_split=30, min_samples_leaf=10, max_features='auto', max_depth=8)\n",
    "rf_reg.fit(X_train,Y_train)"
   ]
  },
  {
   "cell_type": "code",
   "execution_count": 37,
   "id": "d29c2182",
   "metadata": {},
   "outputs": [
    {
     "name": "stdout",
     "output_type": "stream",
     "text": [
      "r2 for train data:  0.6393394886745156\n",
      "adjusted_r2 for train data:  0.6381185302169816 \n",
      "\n",
      "r2 for test data:  0.5728058992117855\n",
      "adjusted_r2 for test data:  0.5669608877197396\n"
     ]
    }
   ],
   "source": [
    "print(\"r2 for train data: \",rf_reg.score(X_train,Y_train))\n",
    "print(\"adjusted_r2 for train data: \",adj_R2(X_train,Y_train,rf_reg),'\\n')\n",
    "\n",
    "print(\"r2 for test data: \",rf_reg.score(X_test,Y_test))\n",
    "print(\"adjusted_r2 for test data: \",adj_R2(X_test,Y_test,rf_reg))"
   ]
  },
  {
   "cell_type": "code",
   "execution_count": 38,
   "id": "6cb3729c",
   "metadata": {},
   "outputs": [
    {
     "name": "stdout",
     "output_type": "stream",
     "text": [
      "[0.52836628 0.58657114 0.58864424 0.55687762 0.58415991 0.51278981\n",
      " 0.54448525 0.60722798 0.54613248 0.57704048]\n",
      "0.5632295178824395\n"
     ]
    }
   ],
   "source": [
    "## Cross Validation\n",
    "scores_lm = cross_val_score(rf_reg, X = X_train, y = Y_train, cv = 10, scoring='r2')\n",
    "\n",
    "print(scores_lm)\n",
    "print(scores_lm.mean())"
   ]
  },
  {
   "cell_type": "code",
   "execution_count": 39,
   "id": "7f49721c",
   "metadata": {},
   "outputs": [
    {
     "data": {
      "text/html": [
       "<div>\n",
       "<style scoped>\n",
       "    .dataframe tbody tr th:only-of-type {\n",
       "        vertical-align: middle;\n",
       "    }\n",
       "\n",
       "    .dataframe tbody tr th {\n",
       "        vertical-align: top;\n",
       "    }\n",
       "\n",
       "    .dataframe thead th {\n",
       "        text-align: right;\n",
       "    }\n",
       "</style>\n",
       "<table border=\"1\" class=\"dataframe\">\n",
       "  <thead>\n",
       "    <tr style=\"text-align: right;\">\n",
       "      <th></th>\n",
       "      <th>Model_Name</th>\n",
       "      <th>Train_R2</th>\n",
       "      <th>Test_R2</th>\n",
       "      <th>Parameters</th>\n",
       "    </tr>\n",
       "  </thead>\n",
       "  <tbody>\n",
       "    <tr>\n",
       "      <th>0</th>\n",
       "      <td>Random Forest Regressor</td>\n",
       "      <td>0.638119</td>\n",
       "      <td>0.566961</td>\n",
       "      <td>{min_samples_split=30, min_samples_leaf=10, ma...</td>\n",
       "    </tr>\n",
       "    <tr>\n",
       "      <th>1</th>\n",
       "      <td>Decision Tree Regressor</td>\n",
       "      <td>0.638817</td>\n",
       "      <td>0.566889</td>\n",
       "      <td>{max_depth=8, min_samples_leaf=10, min_samples...</td>\n",
       "    </tr>\n",
       "    <tr>\n",
       "      <th>2</th>\n",
       "      <td>Ridge Regression</td>\n",
       "      <td>0.556786</td>\n",
       "      <td>0.572702</td>\n",
       "      <td>{alpha = 2.1}</td>\n",
       "    </tr>\n",
       "    <tr>\n",
       "      <th>3</th>\n",
       "      <td>Lasso Regression</td>\n",
       "      <td>0.556280</td>\n",
       "      <td>0.574002</td>\n",
       "      <td>{'alpha': '2.581021055193149'}</td>\n",
       "    </tr>\n",
       "    <tr>\n",
       "      <th>4</th>\n",
       "      <td>Linear Regression</td>\n",
       "      <td>0.556811</td>\n",
       "      <td>0.572602</td>\n",
       "      <td>default</td>\n",
       "    </tr>\n",
       "  </tbody>\n",
       "</table>\n",
       "</div>"
      ],
      "text/plain": [
       "                Model_Name  Train_R2   Test_R2  \\\n",
       "0  Random Forest Regressor  0.638119  0.566961   \n",
       "1  Decision Tree Regressor  0.638817  0.566889   \n",
       "2         Ridge Regression  0.556786  0.572702   \n",
       "3         Lasso Regression  0.556280  0.574002   \n",
       "4        Linear Regression  0.556811  0.572602   \n",
       "\n",
       "                                          Parameters  \n",
       "0  {min_samples_split=30, min_samples_leaf=10, ma...  \n",
       "1  {max_depth=8, min_samples_leaf=10, min_samples...  \n",
       "2                                      {alpha = 2.1}  \n",
       "3                     {'alpha': '2.581021055193149'}  \n",
       "4                                            default  "
      ]
     },
     "execution_count": 39,
     "metadata": {},
     "output_type": "execute_result"
    }
   ],
   "source": [
    "Table = insertData(Table,'Random Forest Regressor',adj_R2(X_train,Y_train,rf_reg),adj_R2(X_test,Y_test,rf_reg),[{'min_samples_split=30, min_samples_leaf=10, max_features=auto, max_depth=8'}])\n",
    "Table"
   ]
  },
  {
   "cell_type": "markdown",
   "id": "a4954b94",
   "metadata": {},
   "source": [
    "## KNN Regressor"
   ]
  },
  {
   "cell_type": "code",
   "execution_count": 40,
   "id": "4d2dc460",
   "metadata": {},
   "outputs": [],
   "source": [
    "HyperParameters = {'weights':['uniform','distance'],\n",
    "                   'algorithm':['auto','ball_tree','kd_tree','brute']}\n",
    "\n",
    "# HyperParameters = {'weights':['uniform','distance'],\n",
    "#                    'algorithm':['ball_tree','kd_tree'],\n",
    "#                    'leaf_size':[20,25,30,35,40,45,50]}"
   ]
  },
  {
   "cell_type": "code",
   "execution_count": 41,
   "id": "743a536c",
   "metadata": {},
   "outputs": [
    {
     "name": "stdout",
     "output_type": "stream",
     "text": [
      "Fitting 5 folds for each of 8 candidates, totalling 40 fits\n"
     ]
    },
    {
     "data": {
      "text/plain": [
       "RandomizedSearchCV(cv=5, estimator=KNeighborsRegressor(), n_iter=100, n_jobs=-1,\n",
       "                   param_distributions={'algorithm': ['auto', 'ball_tree',\n",
       "                                                      'kd_tree', 'brute'],\n",
       "                                        'weights': ['uniform', 'distance']},\n",
       "                   random_state=42, verbose=3)"
      ]
     },
     "execution_count": 41,
     "metadata": {},
     "output_type": "execute_result"
    }
   ],
   "source": [
    "from sklearn.neighbors import KNeighborsRegressor\n",
    "from sklearn.model_selection import RandomizedSearchCV\n",
    "\n",
    "knn_reg = RandomizedSearchCV(KNeighborsRegressor(), param_distributions = HyperParameters, cv = 5,\n",
    "                            n_iter = 100, n_jobs = -1, verbose = 3, return_train_score=False, random_state = 42)\n",
    "\n",
    "knn_reg.fit(X_train, Y_train)"
   ]
  },
  {
   "cell_type": "code",
   "execution_count": 42,
   "id": "8919db49",
   "metadata": {},
   "outputs": [
    {
     "name": "stdout",
     "output_type": "stream",
     "text": [
      "0.4711895166675132\n",
      "{'weights': 'uniform', 'algorithm': 'auto'}\n"
     ]
    }
   ],
   "source": [
    "print(knn_reg.best_score_)\n",
    "print(knn_reg.best_params_)"
   ]
  },
  {
   "cell_type": "code",
   "execution_count": 43,
   "id": "99d5c5de",
   "metadata": {},
   "outputs": [
    {
     "data": {
      "text/plain": [
       "KNeighborsRegressor()"
      ]
     },
     "execution_count": 43,
     "metadata": {},
     "output_type": "execute_result"
    }
   ],
   "source": [
    "knn_reg = KNeighborsRegressor(weights='uniform', algorithm='auto')\n",
    "knn_reg.fit(X_train,Y_train)"
   ]
  },
  {
   "cell_type": "code",
   "execution_count": 45,
   "id": "8d726511",
   "metadata": {},
   "outputs": [
    {
     "name": "stdout",
     "output_type": "stream",
     "text": [
      "r2 for train data:  0.6532223654491762\n",
      "adjusted_r2 for train data:  0.6520484052497844 \n",
      "\n",
      "r2 for test data:  0.5060501296588713\n",
      "adjusted_r2 for test data:  0.49929174356854056\n"
     ]
    }
   ],
   "source": [
    "print(\"r2 for train data: \",knn_reg.score(X_train,Y_train))\n",
    "print(\"adjusted_r2 for train data: \",adj_R2(X_train,Y_train,knn_reg),'\\n')\n",
    "\n",
    "print(\"r2 for test data: \",knn_reg.score(X_test,Y_test))\n",
    "print(\"adjusted_r2 for test data: \",adj_R2(X_test,Y_test,knn_reg))"
   ]
  },
  {
   "cell_type": "code",
   "execution_count": 46,
   "id": "f55b546a",
   "metadata": {},
   "outputs": [
    {
     "data": {
      "text/html": [
       "<div>\n",
       "<style scoped>\n",
       "    .dataframe tbody tr th:only-of-type {\n",
       "        vertical-align: middle;\n",
       "    }\n",
       "\n",
       "    .dataframe tbody tr th {\n",
       "        vertical-align: top;\n",
       "    }\n",
       "\n",
       "    .dataframe thead th {\n",
       "        text-align: right;\n",
       "    }\n",
       "</style>\n",
       "<table border=\"1\" class=\"dataframe\">\n",
       "  <thead>\n",
       "    <tr style=\"text-align: right;\">\n",
       "      <th></th>\n",
       "      <th>Model_Name</th>\n",
       "      <th>Train_R2</th>\n",
       "      <th>Test_R2</th>\n",
       "      <th>Parameters</th>\n",
       "    </tr>\n",
       "  </thead>\n",
       "  <tbody>\n",
       "    <tr>\n",
       "      <th>0</th>\n",
       "      <td>KNN Regressor</td>\n",
       "      <td>0.652048</td>\n",
       "      <td>0.499292</td>\n",
       "      <td>{weights=uniform, algorithm=auto}</td>\n",
       "    </tr>\n",
       "    <tr>\n",
       "      <th>1</th>\n",
       "      <td>Random Forest Regressor</td>\n",
       "      <td>0.638119</td>\n",
       "      <td>0.566961</td>\n",
       "      <td>{min_samples_split=30, min_samples_leaf=10, ma...</td>\n",
       "    </tr>\n",
       "    <tr>\n",
       "      <th>2</th>\n",
       "      <td>Decision Tree Regressor</td>\n",
       "      <td>0.638817</td>\n",
       "      <td>0.566889</td>\n",
       "      <td>{max_depth=8, min_samples_leaf=10, min_samples...</td>\n",
       "    </tr>\n",
       "    <tr>\n",
       "      <th>3</th>\n",
       "      <td>Ridge Regression</td>\n",
       "      <td>0.556786</td>\n",
       "      <td>0.572702</td>\n",
       "      <td>{alpha = 2.1}</td>\n",
       "    </tr>\n",
       "    <tr>\n",
       "      <th>4</th>\n",
       "      <td>Lasso Regression</td>\n",
       "      <td>0.556280</td>\n",
       "      <td>0.574002</td>\n",
       "      <td>{'alpha': '2.581021055193149'}</td>\n",
       "    </tr>\n",
       "    <tr>\n",
       "      <th>5</th>\n",
       "      <td>Linear Regression</td>\n",
       "      <td>0.556811</td>\n",
       "      <td>0.572602</td>\n",
       "      <td>default</td>\n",
       "    </tr>\n",
       "  </tbody>\n",
       "</table>\n",
       "</div>"
      ],
      "text/plain": [
       "                Model_Name  Train_R2   Test_R2  \\\n",
       "0            KNN Regressor  0.652048  0.499292   \n",
       "1  Random Forest Regressor  0.638119  0.566961   \n",
       "2  Decision Tree Regressor  0.638817  0.566889   \n",
       "3         Ridge Regression  0.556786  0.572702   \n",
       "4         Lasso Regression  0.556280  0.574002   \n",
       "5        Linear Regression  0.556811  0.572602   \n",
       "\n",
       "                                          Parameters  \n",
       "0                  {weights=uniform, algorithm=auto}  \n",
       "1  {min_samples_split=30, min_samples_leaf=10, ma...  \n",
       "2  {max_depth=8, min_samples_leaf=10, min_samples...  \n",
       "3                                      {alpha = 2.1}  \n",
       "4                     {'alpha': '2.581021055193149'}  \n",
       "5                                            default  "
      ]
     },
     "execution_count": 46,
     "metadata": {},
     "output_type": "execute_result"
    }
   ],
   "source": [
    "Table = insertData(Table,'KNN Regressor',adj_R2(X_train,Y_train,knn_reg),adj_R2(X_test,Y_test,knn_reg),[{'weights=uniform, algorithm=auto'}])\n",
    "Table"
   ]
  },
  {
   "cell_type": "markdown",
   "id": "e149ea2d",
   "metadata": {},
   "source": [
    "## Bagging Regressor"
   ]
  },
  {
   "cell_type": "code",
   "execution_count": 48,
   "id": "7f992252",
   "metadata": {},
   "outputs": [
    {
     "name": "stderr",
     "output_type": "stream",
     "text": [
      "[Parallel(n_jobs=4)]: Using backend LokyBackend with 4 concurrent workers.\n",
      "[Parallel(n_jobs=4)]: Done   4 out of   4 | elapsed:    3.3s finished\n"
     ]
    },
    {
     "data": {
      "text/plain": [
       "BaggingRegressor(base_estimator=LinearRegression(), n_estimators=100, n_jobs=-1,\n",
       "                 verbose=2)"
      ]
     },
     "execution_count": 48,
     "metadata": {},
     "output_type": "execute_result"
    }
   ],
   "source": [
    "# Linear Regression\n",
    "from sklearn.ensemble import BaggingRegressor\n",
    "\n",
    "lr_bagging = BaggingRegressor(base_estimator=LinearRegression(), n_estimators=100, bootstrap=True,verbose=2,n_jobs=-1)\n",
    "lr_bagging.fit(X_train,Y_train)"
   ]
  },
  {
   "cell_type": "code",
   "execution_count": 49,
   "id": "a4cc7284",
   "metadata": {},
   "outputs": [
    {
     "name": "stderr",
     "output_type": "stream",
     "text": [
      "[Parallel(n_jobs=4)]: Using backend LokyBackend with 4 concurrent workers.\n",
      "[Parallel(n_jobs=4)]: Done   4 out of   4 | elapsed:    0.0s finished\n"
     ]
    },
    {
     "name": "stdout",
     "output_type": "stream",
     "text": [
      "r2 for train data:  0.5582774046420279\n"
     ]
    },
    {
     "name": "stderr",
     "output_type": "stream",
     "text": [
      "[Parallel(n_jobs=4)]: Using backend LokyBackend with 4 concurrent workers.\n",
      "[Parallel(n_jobs=4)]: Done   4 out of   4 | elapsed:    0.1s finished\n"
     ]
    },
    {
     "name": "stdout",
     "output_type": "stream",
     "text": [
      "adjusted_r2 for train data:  0.5567820234684581 \n",
      "\n",
      "r2 for test data:  0.5782219822879399\n",
      "adjusted_r2 for test data:  0.5724510754423852\n"
     ]
    },
    {
     "name": "stderr",
     "output_type": "stream",
     "text": [
      "[Parallel(n_jobs=4)]: Using backend LokyBackend with 4 concurrent workers.\n",
      "[Parallel(n_jobs=4)]: Done   4 out of   4 | elapsed:    0.0s finished\n",
      "[Parallel(n_jobs=4)]: Using backend LokyBackend with 4 concurrent workers.\n",
      "[Parallel(n_jobs=4)]: Done   4 out of   4 | elapsed:    0.0s finished\n"
     ]
    }
   ],
   "source": [
    "print(\"r2 for train data: \",lr_bagging.score(X_train,Y_train))\n",
    "print(\"adjusted_r2 for train data: \",adj_R2(X_train,Y_train,lr_bagging),'\\n')\n",
    "\n",
    "print(\"r2 for test data: \",lr_bagging.score(X_test,Y_test))\n",
    "print(\"adjusted_r2 for test data: \",adj_R2(X_test,Y_test,lr_bagging))"
   ]
  },
  {
   "cell_type": "code",
   "execution_count": 50,
   "id": "c8b361fd",
   "metadata": {},
   "outputs": [
    {
     "name": "stderr",
     "output_type": "stream",
     "text": [
      "[Parallel(n_jobs=4)]: Using backend LokyBackend with 4 concurrent workers.\n",
      "[Parallel(n_jobs=4)]: Done   4 out of   4 | elapsed:    0.2s finished\n",
      "[Parallel(n_jobs=4)]: Using backend LokyBackend with 4 concurrent workers.\n",
      "[Parallel(n_jobs=4)]: Done   4 out of   4 | elapsed:    0.0s finished\n"
     ]
    },
    {
     "data": {
      "text/html": [
       "<div>\n",
       "<style scoped>\n",
       "    .dataframe tbody tr th:only-of-type {\n",
       "        vertical-align: middle;\n",
       "    }\n",
       "\n",
       "    .dataframe tbody tr th {\n",
       "        vertical-align: top;\n",
       "    }\n",
       "\n",
       "    .dataframe thead th {\n",
       "        text-align: right;\n",
       "    }\n",
       "</style>\n",
       "<table border=\"1\" class=\"dataframe\">\n",
       "  <thead>\n",
       "    <tr style=\"text-align: right;\">\n",
       "      <th></th>\n",
       "      <th>Model_Name</th>\n",
       "      <th>Train_R2</th>\n",
       "      <th>Test_R2</th>\n",
       "      <th>Parameters</th>\n",
       "    </tr>\n",
       "  </thead>\n",
       "  <tbody>\n",
       "    <tr>\n",
       "      <th>0</th>\n",
       "      <td>Bag Linear Regression</td>\n",
       "      <td>0.556782</td>\n",
       "      <td>0.572451</td>\n",
       "      <td>default</td>\n",
       "    </tr>\n",
       "    <tr>\n",
       "      <th>1</th>\n",
       "      <td>KNN Regressor</td>\n",
       "      <td>0.652048</td>\n",
       "      <td>0.499292</td>\n",
       "      <td>{weights=uniform, algorithm=auto}</td>\n",
       "    </tr>\n",
       "    <tr>\n",
       "      <th>2</th>\n",
       "      <td>Random Forest Regressor</td>\n",
       "      <td>0.638119</td>\n",
       "      <td>0.566961</td>\n",
       "      <td>{min_samples_split=30, min_samples_leaf=10, ma...</td>\n",
       "    </tr>\n",
       "    <tr>\n",
       "      <th>3</th>\n",
       "      <td>Decision Tree Regressor</td>\n",
       "      <td>0.638817</td>\n",
       "      <td>0.566889</td>\n",
       "      <td>{max_depth=8, min_samples_leaf=10, min_samples...</td>\n",
       "    </tr>\n",
       "    <tr>\n",
       "      <th>4</th>\n",
       "      <td>Ridge Regression</td>\n",
       "      <td>0.556786</td>\n",
       "      <td>0.572702</td>\n",
       "      <td>{alpha = 2.1}</td>\n",
       "    </tr>\n",
       "    <tr>\n",
       "      <th>5</th>\n",
       "      <td>Lasso Regression</td>\n",
       "      <td>0.556280</td>\n",
       "      <td>0.574002</td>\n",
       "      <td>{'alpha': '2.581021055193149'}</td>\n",
       "    </tr>\n",
       "    <tr>\n",
       "      <th>6</th>\n",
       "      <td>Linear Regression</td>\n",
       "      <td>0.556811</td>\n",
       "      <td>0.572602</td>\n",
       "      <td>default</td>\n",
       "    </tr>\n",
       "  </tbody>\n",
       "</table>\n",
       "</div>"
      ],
      "text/plain": [
       "                Model_Name  Train_R2   Test_R2  \\\n",
       "0    Bag Linear Regression  0.556782  0.572451   \n",
       "1            KNN Regressor  0.652048  0.499292   \n",
       "2  Random Forest Regressor  0.638119  0.566961   \n",
       "3  Decision Tree Regressor  0.638817  0.566889   \n",
       "4         Ridge Regression  0.556786  0.572702   \n",
       "5         Lasso Regression  0.556280  0.574002   \n",
       "6        Linear Regression  0.556811  0.572602   \n",
       "\n",
       "                                          Parameters  \n",
       "0                                            default  \n",
       "1                  {weights=uniform, algorithm=auto}  \n",
       "2  {min_samples_split=30, min_samples_leaf=10, ma...  \n",
       "3  {max_depth=8, min_samples_leaf=10, min_samples...  \n",
       "4                                      {alpha = 2.1}  \n",
       "5                     {'alpha': '2.581021055193149'}  \n",
       "6                                            default  "
      ]
     },
     "execution_count": 50,
     "metadata": {},
     "output_type": "execute_result"
    }
   ],
   "source": [
    "Table = insertData(Table,'Bag Linear Regression',adj_R2(X_train,Y_train,lr_bagging),adj_R2(X_test,Y_test,lr_bagging))\n",
    "Table"
   ]
  },
  {
   "cell_type": "code",
   "execution_count": 51,
   "id": "d017818e",
   "metadata": {},
   "outputs": [
    {
     "name": "stderr",
     "output_type": "stream",
     "text": [
      "[Parallel(n_jobs=4)]: Using backend LokyBackend with 4 concurrent workers.\n",
      "[Parallel(n_jobs=4)]: Done   4 out of   4 | elapsed:    1.3s finished\n"
     ]
    },
    {
     "data": {
      "text/plain": [
       "BaggingRegressor(base_estimator=DecisionTreeRegressor(), n_estimators=100,\n",
       "                 n_jobs=-1, verbose=2)"
      ]
     },
     "execution_count": 51,
     "metadata": {},
     "output_type": "execute_result"
    }
   ],
   "source": [
    "# Decision Tree Regressor\n",
    "from sklearn.ensemble import BaggingRegressor\n",
    "\n",
    "dt_bagging = BaggingRegressor(base_estimator=DecisionTreeRegressor(), n_estimators=100, bootstrap=True,verbose=2, n_jobs=-1)\n",
    "dt_bagging.fit(X_train,Y_train)"
   ]
  },
  {
   "cell_type": "code",
   "execution_count": 52,
   "id": "e08836c8",
   "metadata": {},
   "outputs": [
    {
     "name": "stderr",
     "output_type": "stream",
     "text": [
      "[Parallel(n_jobs=4)]: Using backend LokyBackend with 4 concurrent workers.\n",
      "[Parallel(n_jobs=4)]: Done   4 out of   4 | elapsed:    0.4s finished\n",
      "[Parallel(n_jobs=4)]: Using backend LokyBackend with 4 concurrent workers.\n"
     ]
    },
    {
     "name": "stdout",
     "output_type": "stream",
     "text": [
      "r2 for train data:  0.9328200482307318\n"
     ]
    },
    {
     "name": "stderr",
     "output_type": "stream",
     "text": [
      "[Parallel(n_jobs=4)]: Done   4 out of   4 | elapsed:    0.3s finished\n",
      "[Parallel(n_jobs=4)]: Using backend LokyBackend with 4 concurrent workers.\n"
     ]
    },
    {
     "name": "stdout",
     "output_type": "stream",
     "text": [
      "adjusted_r2 for train data:  0.9325926212524137 \n",
      "\n"
     ]
    },
    {
     "name": "stderr",
     "output_type": "stream",
     "text": [
      "[Parallel(n_jobs=4)]: Done   4 out of   4 | elapsed:    0.3s finished\n",
      "[Parallel(n_jobs=4)]: Using backend LokyBackend with 4 concurrent workers.\n"
     ]
    },
    {
     "name": "stdout",
     "output_type": "stream",
     "text": [
      "r2 for test data:  0.5262666833270343\n",
      "adjusted_r2 for test data:  0.5197849068347807\n"
     ]
    },
    {
     "name": "stderr",
     "output_type": "stream",
     "text": [
      "[Parallel(n_jobs=4)]: Done   4 out of   4 | elapsed:    0.2s finished\n"
     ]
    }
   ],
   "source": [
    "print(\"r2 for train data: \",dt_bagging.score(X_train,Y_train))\n",
    "print(\"adjusted_r2 for train data: \",adj_R2(X_train,Y_train,dt_bagging),'\\n')\n",
    "\n",
    "print(\"r2 for test data: \",dt_bagging.score(X_test,Y_test))\n",
    "print(\"adjusted_r2 for test data: \",adj_R2(X_test,Y_test,dt_bagging))"
   ]
  },
  {
   "cell_type": "code",
   "execution_count": 53,
   "id": "81e4414e",
   "metadata": {},
   "outputs": [
    {
     "name": "stderr",
     "output_type": "stream",
     "text": [
      "[Parallel(n_jobs=4)]: Using backend LokyBackend with 4 concurrent workers.\n",
      "[Parallel(n_jobs=4)]: Done   4 out of   4 | elapsed:    0.5s finished\n",
      "[Parallel(n_jobs=4)]: Using backend LokyBackend with 4 concurrent workers.\n",
      "[Parallel(n_jobs=4)]: Done   4 out of   4 | elapsed:    0.3s finished\n"
     ]
    },
    {
     "data": {
      "text/html": [
       "<div>\n",
       "<style scoped>\n",
       "    .dataframe tbody tr th:only-of-type {\n",
       "        vertical-align: middle;\n",
       "    }\n",
       "\n",
       "    .dataframe tbody tr th {\n",
       "        vertical-align: top;\n",
       "    }\n",
       "\n",
       "    .dataframe thead th {\n",
       "        text-align: right;\n",
       "    }\n",
       "</style>\n",
       "<table border=\"1\" class=\"dataframe\">\n",
       "  <thead>\n",
       "    <tr style=\"text-align: right;\">\n",
       "      <th></th>\n",
       "      <th>Model_Name</th>\n",
       "      <th>Train_R2</th>\n",
       "      <th>Test_R2</th>\n",
       "      <th>Parameters</th>\n",
       "    </tr>\n",
       "  </thead>\n",
       "  <tbody>\n",
       "    <tr>\n",
       "      <th>0</th>\n",
       "      <td>Bag Decision Tree Regressor</td>\n",
       "      <td>0.932593</td>\n",
       "      <td>0.519785</td>\n",
       "      <td>default</td>\n",
       "    </tr>\n",
       "    <tr>\n",
       "      <th>1</th>\n",
       "      <td>Bag Linear Regression</td>\n",
       "      <td>0.556782</td>\n",
       "      <td>0.572451</td>\n",
       "      <td>default</td>\n",
       "    </tr>\n",
       "    <tr>\n",
       "      <th>2</th>\n",
       "      <td>KNN Regressor</td>\n",
       "      <td>0.652048</td>\n",
       "      <td>0.499292</td>\n",
       "      <td>{weights=uniform, algorithm=auto}</td>\n",
       "    </tr>\n",
       "    <tr>\n",
       "      <th>3</th>\n",
       "      <td>Random Forest Regressor</td>\n",
       "      <td>0.638119</td>\n",
       "      <td>0.566961</td>\n",
       "      <td>{min_samples_split=30, min_samples_leaf=10, ma...</td>\n",
       "    </tr>\n",
       "    <tr>\n",
       "      <th>4</th>\n",
       "      <td>Decision Tree Regressor</td>\n",
       "      <td>0.638817</td>\n",
       "      <td>0.566889</td>\n",
       "      <td>{max_depth=8, min_samples_leaf=10, min_samples...</td>\n",
       "    </tr>\n",
       "    <tr>\n",
       "      <th>5</th>\n",
       "      <td>Ridge Regression</td>\n",
       "      <td>0.556786</td>\n",
       "      <td>0.572702</td>\n",
       "      <td>{alpha = 2.1}</td>\n",
       "    </tr>\n",
       "    <tr>\n",
       "      <th>6</th>\n",
       "      <td>Lasso Regression</td>\n",
       "      <td>0.556280</td>\n",
       "      <td>0.574002</td>\n",
       "      <td>{'alpha': '2.581021055193149'}</td>\n",
       "    </tr>\n",
       "    <tr>\n",
       "      <th>7</th>\n",
       "      <td>Linear Regression</td>\n",
       "      <td>0.556811</td>\n",
       "      <td>0.572602</td>\n",
       "      <td>default</td>\n",
       "    </tr>\n",
       "  </tbody>\n",
       "</table>\n",
       "</div>"
      ],
      "text/plain": [
       "                    Model_Name  Train_R2   Test_R2  \\\n",
       "0  Bag Decision Tree Regressor  0.932593  0.519785   \n",
       "1        Bag Linear Regression  0.556782  0.572451   \n",
       "2                KNN Regressor  0.652048  0.499292   \n",
       "3      Random Forest Regressor  0.638119  0.566961   \n",
       "4      Decision Tree Regressor  0.638817  0.566889   \n",
       "5             Ridge Regression  0.556786  0.572702   \n",
       "6             Lasso Regression  0.556280  0.574002   \n",
       "7            Linear Regression  0.556811  0.572602   \n",
       "\n",
       "                                          Parameters  \n",
       "0                                            default  \n",
       "1                                            default  \n",
       "2                  {weights=uniform, algorithm=auto}  \n",
       "3  {min_samples_split=30, min_samples_leaf=10, ma...  \n",
       "4  {max_depth=8, min_samples_leaf=10, min_samples...  \n",
       "5                                      {alpha = 2.1}  \n",
       "6                     {'alpha': '2.581021055193149'}  \n",
       "7                                            default  "
      ]
     },
     "execution_count": 53,
     "metadata": {},
     "output_type": "execute_result"
    }
   ],
   "source": [
    "Table = insertData(Table,'Bag Decision Tree Regressor',adj_R2(X_train,Y_train,dt_bagging),adj_R2(X_test,Y_test,dt_bagging))\n",
    "Table"
   ]
  },
  {
   "cell_type": "code",
   "execution_count": 116,
   "id": "2107df6f",
   "metadata": {},
   "outputs": [],
   "source": [
    "from sklearn.svm import SVR"
   ]
  },
  {
   "cell_type": "code",
   "execution_count": 117,
   "id": "098e7533",
   "metadata": {
    "scrolled": true
   },
   "outputs": [
    {
     "name": "stderr",
     "output_type": "stream",
     "text": [
      "[Parallel(n_jobs=1)]: Using backend SequentialBackend with 1 concurrent workers.\n"
     ]
    },
    {
     "name": "stdout",
     "output_type": "stream",
     "text": [
      "Building estimator 1 of 100 for this parallel run (total 100)...\n",
      "Building estimator 2 of 100 for this parallel run (total 100)...\n",
      "Building estimator 3 of 100 for this parallel run (total 100)...\n",
      "Building estimator 4 of 100 for this parallel run (total 100)...\n",
      "Building estimator 5 of 100 for this parallel run (total 100)...\n",
      "Building estimator 6 of 100 for this parallel run (total 100)...\n",
      "Building estimator 7 of 100 for this parallel run (total 100)...\n",
      "Building estimator 8 of 100 for this parallel run (total 100)...\n",
      "Building estimator 9 of 100 for this parallel run (total 100)...\n",
      "Building estimator 10 of 100 for this parallel run (total 100)...\n",
      "Building estimator 11 of 100 for this parallel run (total 100)...\n",
      "Building estimator 12 of 100 for this parallel run (total 100)...\n",
      "Building estimator 13 of 100 for this parallel run (total 100)...\n",
      "Building estimator 14 of 100 for this parallel run (total 100)...\n",
      "Building estimator 15 of 100 for this parallel run (total 100)...\n",
      "Building estimator 16 of 100 for this parallel run (total 100)...\n",
      "Building estimator 17 of 100 for this parallel run (total 100)...\n",
      "Building estimator 18 of 100 for this parallel run (total 100)...\n",
      "Building estimator 19 of 100 for this parallel run (total 100)...\n",
      "Building estimator 20 of 100 for this parallel run (total 100)...\n",
      "Building estimator 21 of 100 for this parallel run (total 100)...\n",
      "Building estimator 22 of 100 for this parallel run (total 100)...\n",
      "Building estimator 23 of 100 for this parallel run (total 100)...\n",
      "Building estimator 24 of 100 for this parallel run (total 100)...\n",
      "Building estimator 25 of 100 for this parallel run (total 100)...\n",
      "Building estimator 26 of 100 for this parallel run (total 100)...\n",
      "Building estimator 27 of 100 for this parallel run (total 100)...\n",
      "Building estimator 28 of 100 for this parallel run (total 100)...\n",
      "Building estimator 29 of 100 for this parallel run (total 100)...\n",
      "Building estimator 30 of 100 for this parallel run (total 100)...\n",
      "Building estimator 31 of 100 for this parallel run (total 100)...\n",
      "Building estimator 32 of 100 for this parallel run (total 100)...\n",
      "Building estimator 33 of 100 for this parallel run (total 100)...\n",
      "Building estimator 34 of 100 for this parallel run (total 100)...\n",
      "Building estimator 35 of 100 for this parallel run (total 100)...\n",
      "Building estimator 36 of 100 for this parallel run (total 100)...\n",
      "Building estimator 37 of 100 for this parallel run (total 100)...\n",
      "Building estimator 38 of 100 for this parallel run (total 100)...\n",
      "Building estimator 39 of 100 for this parallel run (total 100)...\n",
      "Building estimator 40 of 100 for this parallel run (total 100)...\n",
      "Building estimator 41 of 100 for this parallel run (total 100)...\n",
      "Building estimator 42 of 100 for this parallel run (total 100)...\n",
      "Building estimator 43 of 100 for this parallel run (total 100)...\n",
      "Building estimator 44 of 100 for this parallel run (total 100)...\n",
      "Building estimator 45 of 100 for this parallel run (total 100)...\n",
      "Building estimator 46 of 100 for this parallel run (total 100)...\n",
      "Building estimator 47 of 100 for this parallel run (total 100)...\n",
      "Building estimator 48 of 100 for this parallel run (total 100)...\n",
      "Building estimator 49 of 100 for this parallel run (total 100)...\n",
      "Building estimator 50 of 100 for this parallel run (total 100)...\n",
      "Building estimator 51 of 100 for this parallel run (total 100)...\n",
      "Building estimator 52 of 100 for this parallel run (total 100)...\n",
      "Building estimator 53 of 100 for this parallel run (total 100)...\n",
      "Building estimator 54 of 100 for this parallel run (total 100)...\n",
      "Building estimator 55 of 100 for this parallel run (total 100)...\n",
      "Building estimator 56 of 100 for this parallel run (total 100)...\n",
      "Building estimator 57 of 100 for this parallel run (total 100)...\n",
      "Building estimator 58 of 100 for this parallel run (total 100)...\n",
      "Building estimator 59 of 100 for this parallel run (total 100)...\n",
      "Building estimator 60 of 100 for this parallel run (total 100)...\n",
      "Building estimator 61 of 100 for this parallel run (total 100)...\n",
      "Building estimator 62 of 100 for this parallel run (total 100)...\n",
      "Building estimator 63 of 100 for this parallel run (total 100)...\n",
      "Building estimator 64 of 100 for this parallel run (total 100)...\n",
      "Building estimator 65 of 100 for this parallel run (total 100)...\n",
      "Building estimator 66 of 100 for this parallel run (total 100)...\n",
      "Building estimator 67 of 100 for this parallel run (total 100)...\n",
      "Building estimator 68 of 100 for this parallel run (total 100)...\n",
      "Building estimator 69 of 100 for this parallel run (total 100)...\n",
      "Building estimator 70 of 100 for this parallel run (total 100)...\n",
      "Building estimator 71 of 100 for this parallel run (total 100)...\n",
      "Building estimator 72 of 100 for this parallel run (total 100)...\n",
      "Building estimator 73 of 100 for this parallel run (total 100)...\n",
      "Building estimator 74 of 100 for this parallel run (total 100)...\n",
      "Building estimator 75 of 100 for this parallel run (total 100)...\n",
      "Building estimator 76 of 100 for this parallel run (total 100)...\n",
      "Building estimator 77 of 100 for this parallel run (total 100)...\n",
      "Building estimator 78 of 100 for this parallel run (total 100)...\n",
      "Building estimator 79 of 100 for this parallel run (total 100)...\n",
      "Building estimator 80 of 100 for this parallel run (total 100)...\n",
      "Building estimator 81 of 100 for this parallel run (total 100)...\n",
      "Building estimator 82 of 100 for this parallel run (total 100)...\n",
      "Building estimator 83 of 100 for this parallel run (total 100)...\n",
      "Building estimator 84 of 100 for this parallel run (total 100)...\n",
      "Building estimator 85 of 100 for this parallel run (total 100)...\n",
      "Building estimator 86 of 100 for this parallel run (total 100)...\n",
      "Building estimator 87 of 100 for this parallel run (total 100)...\n",
      "Building estimator 88 of 100 for this parallel run (total 100)...\n",
      "Building estimator 89 of 100 for this parallel run (total 100)...\n",
      "Building estimator 90 of 100 for this parallel run (total 100)...\n",
      "Building estimator 91 of 100 for this parallel run (total 100)...\n",
      "Building estimator 92 of 100 for this parallel run (total 100)...\n",
      "Building estimator 93 of 100 for this parallel run (total 100)...\n",
      "Building estimator 94 of 100 for this parallel run (total 100)...\n",
      "Building estimator 95 of 100 for this parallel run (total 100)...\n",
      "Building estimator 96 of 100 for this parallel run (total 100)...\n",
      "Building estimator 97 of 100 for this parallel run (total 100)...\n",
      "Building estimator 98 of 100 for this parallel run (total 100)...\n",
      "Building estimator 99 of 100 for this parallel run (total 100)...\n",
      "Building estimator 100 of 100 for this parallel run (total 100)...\n"
     ]
    },
    {
     "name": "stderr",
     "output_type": "stream",
     "text": [
      "[Parallel(n_jobs=1)]: Done   1 out of   1 | elapsed:  2.3min remaining:    0.0s\n",
      "[Parallel(n_jobs=1)]: Done   1 out of   1 | elapsed:  2.3min finished\n"
     ]
    },
    {
     "data": {
      "text/plain": [
       "BaggingRegressor(base_estimator=SVR(), n_estimators=100, verbose=2)"
      ]
     },
     "execution_count": 117,
     "metadata": {},
     "output_type": "execute_result"
    }
   ],
   "source": [
    "# # Decision Tree Regressor\n",
    "# from sklearn.ensemble import BaggingRegressor\n",
    "\n",
    "# svr_bagging = BaggingRegressor(base_estimator=SVR(), n_estimators=100, bootstrap=True,verbose=2)\n",
    "# svr_bagging.fit(X_train,Y_train)"
   ]
  },
  {
   "cell_type": "code",
   "execution_count": 118,
   "id": "323847d3",
   "metadata": {},
   "outputs": [
    {
     "name": "stderr",
     "output_type": "stream",
     "text": [
      "[Parallel(n_jobs=1)]: Using backend SequentialBackend with 1 concurrent workers.\n",
      "[Parallel(n_jobs=1)]: Done   1 out of   1 | elapsed:  5.7min remaining:    0.0s\n",
      "[Parallel(n_jobs=1)]: Done   1 out of   1 | elapsed:  5.7min finished\n",
      "[Parallel(n_jobs=1)]: Using backend SequentialBackend with 1 concurrent workers.\n"
     ]
    },
    {
     "name": "stdout",
     "output_type": "stream",
     "text": [
      "r2 for train data:  -0.007774727114581603\n"
     ]
    },
    {
     "name": "stderr",
     "output_type": "stream",
     "text": [
      "[Parallel(n_jobs=1)]: Done   1 out of   1 | elapsed:  5.9min remaining:    0.0s\n",
      "[Parallel(n_jobs=1)]: Done   1 out of   1 | elapsed:  5.9min finished\n",
      "[Parallel(n_jobs=1)]: Using backend SequentialBackend with 1 concurrent workers.\n"
     ]
    },
    {
     "name": "stdout",
     "output_type": "stream",
     "text": [
      "adjusted_r2 for train data:  -0.01118638721520493 \n",
      "\n"
     ]
    },
    {
     "name": "stderr",
     "output_type": "stream",
     "text": [
      "[Parallel(n_jobs=1)]: Done   1 out of   1 | elapsed:  1.5min remaining:    0.0s\n",
      "[Parallel(n_jobs=1)]: Done   1 out of   1 | elapsed:  1.5min finished\n",
      "[Parallel(n_jobs=1)]: Using backend SequentialBackend with 1 concurrent workers.\n"
     ]
    },
    {
     "name": "stdout",
     "output_type": "stream",
     "text": [
      "r2 for test data:  0.01819860776469384\n",
      "adjusted_r2 for test data:  0.0047652752118014785\n"
     ]
    },
    {
     "name": "stderr",
     "output_type": "stream",
     "text": [
      "[Parallel(n_jobs=1)]: Done   1 out of   1 | elapsed:  1.5min remaining:    0.0s\n",
      "[Parallel(n_jobs=1)]: Done   1 out of   1 | elapsed:  1.5min finished\n"
     ]
    }
   ],
   "source": [
    "# print(\"r2 for train data: \",svr_bagging.score(X_train,Y_train))\n",
    "# print(\"adjusted_r2 for train data: \",adj_R2(X_train,Y_train,svr_bagging),'\\n')\n",
    "\n",
    "# print(\"r2 for test data: \",svr_bagging.score(X_test,Y_test))\n",
    "# print(\"adjusted_r2 for test data: \",adj_R2(X_test,Y_test,svr_bagging))"
   ]
  },
  {
   "cell_type": "code",
   "execution_count": 55,
   "id": "5fbed33c",
   "metadata": {},
   "outputs": [
    {
     "name": "stderr",
     "output_type": "stream",
     "text": [
      "[Parallel(n_jobs=4)]: Using backend LokyBackend with 4 concurrent workers.\n",
      "[Parallel(n_jobs=4)]: Done   4 out of   4 | elapsed:    0.5s finished\n"
     ]
    },
    {
     "data": {
      "text/plain": [
       "BaggingRegressor(base_estimator=KNeighborsRegressor(), n_estimators=100,\n",
       "                 n_jobs=-1, verbose=2)"
      ]
     },
     "execution_count": 55,
     "metadata": {},
     "output_type": "execute_result"
    }
   ],
   "source": [
    "# KNN Regressor\n",
    "from sklearn.ensemble import BaggingRegressor\n",
    "\n",
    "knn_bagging = BaggingRegressor(base_estimator=KNeighborsRegressor(), n_estimators=100, bootstrap=True,verbose=2,n_jobs=-1)\n",
    "knn_bagging.fit(X_train,Y_train)"
   ]
  },
  {
   "cell_type": "code",
   "execution_count": 56,
   "id": "110dc165",
   "metadata": {},
   "outputs": [
    {
     "name": "stderr",
     "output_type": "stream",
     "text": [
      "[Parallel(n_jobs=4)]: Using backend LokyBackend with 4 concurrent workers.\n",
      "[Parallel(n_jobs=4)]: Done   4 out of   4 | elapsed:   45.8s finished\n"
     ]
    },
    {
     "name": "stdout",
     "output_type": "stream",
     "text": [
      "r2 for train data:  0.6726079730924011\n"
     ]
    },
    {
     "name": "stderr",
     "output_type": "stream",
     "text": [
      "[Parallel(n_jobs=4)]: Using backend LokyBackend with 4 concurrent workers.\n",
      "[Parallel(n_jobs=4)]: Done   4 out of   4 | elapsed:   46.4s finished\n"
     ]
    },
    {
     "name": "stdout",
     "output_type": "stream",
     "text": [
      "adjusted_r2 for train data:  0.6714996397661022 \n",
      "\n"
     ]
    },
    {
     "name": "stderr",
     "output_type": "stream",
     "text": [
      "[Parallel(n_jobs=4)]: Using backend LokyBackend with 4 concurrent workers.\n",
      "[Parallel(n_jobs=4)]: Done   4 out of   4 | elapsed:   12.6s finished\n"
     ]
    },
    {
     "name": "stdout",
     "output_type": "stream",
     "text": [
      "r2 for test data:  0.5209609684790683\n"
     ]
    },
    {
     "name": "stderr",
     "output_type": "stream",
     "text": [
      "[Parallel(n_jobs=4)]: Using backend LokyBackend with 4 concurrent workers.\n",
      "[Parallel(n_jobs=4)]: Done   4 out of   4 | elapsed:   12.6s finished\n"
     ]
    },
    {
     "name": "stdout",
     "output_type": "stream",
     "text": [
      "adjusted_r2 for test data:  0.5144065974350579\n"
     ]
    }
   ],
   "source": [
    "print(\"r2 for train data: \",knn_bagging.score(X_train,Y_train))\n",
    "print(\"adjusted_r2 for train data: \",adj_R2(X_train,Y_train,knn_bagging),'\\n')\n",
    "\n",
    "print(\"r2 for test data: \",knn_bagging.score(X_test,Y_test))\n",
    "print(\"adjusted_r2 for test data: \",adj_R2(X_test,Y_test,knn_bagging))"
   ]
  },
  {
   "cell_type": "code",
   "execution_count": 57,
   "id": "b800e14c",
   "metadata": {},
   "outputs": [
    {
     "name": "stderr",
     "output_type": "stream",
     "text": [
      "[Parallel(n_jobs=4)]: Using backend LokyBackend with 4 concurrent workers.\n",
      "[Parallel(n_jobs=4)]: Done   4 out of   4 | elapsed:   45.1s finished\n",
      "[Parallel(n_jobs=4)]: Using backend LokyBackend with 4 concurrent workers.\n",
      "[Parallel(n_jobs=4)]: Done   4 out of   4 | elapsed:   11.9s finished\n"
     ]
    },
    {
     "data": {
      "text/html": [
       "<div>\n",
       "<style scoped>\n",
       "    .dataframe tbody tr th:only-of-type {\n",
       "        vertical-align: middle;\n",
       "    }\n",
       "\n",
       "    .dataframe tbody tr th {\n",
       "        vertical-align: top;\n",
       "    }\n",
       "\n",
       "    .dataframe thead th {\n",
       "        text-align: right;\n",
       "    }\n",
       "</style>\n",
       "<table border=\"1\" class=\"dataframe\">\n",
       "  <thead>\n",
       "    <tr style=\"text-align: right;\">\n",
       "      <th></th>\n",
       "      <th>Model_Name</th>\n",
       "      <th>Train_R2</th>\n",
       "      <th>Test_R2</th>\n",
       "      <th>Parameters</th>\n",
       "    </tr>\n",
       "  </thead>\n",
       "  <tbody>\n",
       "    <tr>\n",
       "      <th>0</th>\n",
       "      <td>Bag KNN Regressor</td>\n",
       "      <td>0.671500</td>\n",
       "      <td>0.514407</td>\n",
       "      <td>default</td>\n",
       "    </tr>\n",
       "    <tr>\n",
       "      <th>1</th>\n",
       "      <td>Bag Decision Tree Regressor</td>\n",
       "      <td>0.932593</td>\n",
       "      <td>0.519785</td>\n",
       "      <td>default</td>\n",
       "    </tr>\n",
       "    <tr>\n",
       "      <th>2</th>\n",
       "      <td>Bag Linear Regression</td>\n",
       "      <td>0.556782</td>\n",
       "      <td>0.572451</td>\n",
       "      <td>default</td>\n",
       "    </tr>\n",
       "    <tr>\n",
       "      <th>3</th>\n",
       "      <td>KNN Regressor</td>\n",
       "      <td>0.652048</td>\n",
       "      <td>0.499292</td>\n",
       "      <td>{weights=uniform, algorithm=auto}</td>\n",
       "    </tr>\n",
       "    <tr>\n",
       "      <th>4</th>\n",
       "      <td>Random Forest Regressor</td>\n",
       "      <td>0.638119</td>\n",
       "      <td>0.566961</td>\n",
       "      <td>{min_samples_split=30, min_samples_leaf=10, ma...</td>\n",
       "    </tr>\n",
       "    <tr>\n",
       "      <th>5</th>\n",
       "      <td>Decision Tree Regressor</td>\n",
       "      <td>0.638817</td>\n",
       "      <td>0.566889</td>\n",
       "      <td>{max_depth=8, min_samples_leaf=10, min_samples...</td>\n",
       "    </tr>\n",
       "    <tr>\n",
       "      <th>6</th>\n",
       "      <td>Ridge Regression</td>\n",
       "      <td>0.556786</td>\n",
       "      <td>0.572702</td>\n",
       "      <td>{alpha = 2.1}</td>\n",
       "    </tr>\n",
       "    <tr>\n",
       "      <th>7</th>\n",
       "      <td>Lasso Regression</td>\n",
       "      <td>0.556280</td>\n",
       "      <td>0.574002</td>\n",
       "      <td>{'alpha': '2.581021055193149'}</td>\n",
       "    </tr>\n",
       "    <tr>\n",
       "      <th>8</th>\n",
       "      <td>Linear Regression</td>\n",
       "      <td>0.556811</td>\n",
       "      <td>0.572602</td>\n",
       "      <td>default</td>\n",
       "    </tr>\n",
       "  </tbody>\n",
       "</table>\n",
       "</div>"
      ],
      "text/plain": [
       "                    Model_Name  Train_R2   Test_R2  \\\n",
       "0            Bag KNN Regressor  0.671500  0.514407   \n",
       "1  Bag Decision Tree Regressor  0.932593  0.519785   \n",
       "2        Bag Linear Regression  0.556782  0.572451   \n",
       "3                KNN Regressor  0.652048  0.499292   \n",
       "4      Random Forest Regressor  0.638119  0.566961   \n",
       "5      Decision Tree Regressor  0.638817  0.566889   \n",
       "6             Ridge Regression  0.556786  0.572702   \n",
       "7             Lasso Regression  0.556280  0.574002   \n",
       "8            Linear Regression  0.556811  0.572602   \n",
       "\n",
       "                                          Parameters  \n",
       "0                                            default  \n",
       "1                                            default  \n",
       "2                                            default  \n",
       "3                  {weights=uniform, algorithm=auto}  \n",
       "4  {min_samples_split=30, min_samples_leaf=10, ma...  \n",
       "5  {max_depth=8, min_samples_leaf=10, min_samples...  \n",
       "6                                      {alpha = 2.1}  \n",
       "7                     {'alpha': '2.581021055193149'}  \n",
       "8                                            default  "
      ]
     },
     "execution_count": 57,
     "metadata": {},
     "output_type": "execute_result"
    }
   ],
   "source": [
    "Table = insertData(Table,'Bag KNN Regressor',adj_R2(X_train,Y_train,knn_bagging),adj_R2(X_test,Y_test,knn_bagging))\n",
    "Table"
   ]
  },
  {
   "cell_type": "markdown",
   "id": "14439861",
   "metadata": {},
   "source": [
    "## Gradient Boosting"
   ]
  },
  {
   "cell_type": "code",
   "execution_count": 60,
   "id": "7cf631ff",
   "metadata": {},
   "outputs": [
    {
     "data": {
      "text/plain": [
       "GradientBoostingRegressor(random_state=42)"
      ]
     },
     "execution_count": 60,
     "metadata": {},
     "output_type": "execute_result"
    }
   ],
   "source": [
    "from sklearn.ensemble import GradientBoostingRegressor\n",
    "\n",
    "gradient_boost_reg = GradientBoostingRegressor(random_state=42)\n",
    "gradient_boost_reg.fit(X_train,Y_train)"
   ]
  },
  {
   "cell_type": "code",
   "execution_count": 61,
   "id": "7645a055",
   "metadata": {},
   "outputs": [
    {
     "name": "stdout",
     "output_type": "stream",
     "text": [
      "r2 for train data:  0.6259275568763688\n",
      "adjusted_r2 for train data:  0.6246611944695624 \n",
      "\n",
      "r2 for test data:  0.6023717761780724\n",
      "adjusted_r2 for test data:  0.5969312948289323\n"
     ]
    }
   ],
   "source": [
    "print(\"r2 for train data: \",gradient_boost_reg.score(X_train,Y_train))\n",
    "print(\"adjusted_r2 for train data: \",adj_R2(X_train,Y_train,gradient_boost_reg),'\\n')\n",
    "\n",
    "print(\"r2 for test data: \",gradient_boost_reg.score(X_test,Y_test))\n",
    "print(\"adjusted_r2 for test data: \",adj_R2(X_test,Y_test,gradient_boost_reg))"
   ]
  },
  {
   "cell_type": "code",
   "execution_count": null,
   "id": "5d70e94c",
   "metadata": {},
   "outputs": [],
   "source": [
    "Table = insertData(Table,'Gradient Boosting',adj_R2(X_train,Y_train,gradient_boost_reg),adj_R2(X_test,Y_test,gradient_boost_reg))\n",
    "Table"
   ]
  },
  {
   "cell_type": "code",
   "execution_count": 66,
   "id": "5d189282",
   "metadata": {},
   "outputs": [],
   "source": [
    "HyperParameters = {'learning_rate':[0.1,0.2,0.3,0.4,0.5,0.6,0.7,0.8,0.9],\n",
    "                   'n_estimators':[50, 100, 150, 200, 250, 300, 350, 400, 450, 500],\n",
    "                   'max_leaf_nodes':[2, 5, 10, 20, 50, 100],\n",
    "                   'max_depth':[8,10,12,14,16,18]\n",
    "                  }\n",
    "\n",
    "# HyperParameters = {'min_samples_split':[2,4,6,8,10,12,14,16,18,20,22,24,26,28,30],\n",
    "#                    'max_depth':[8,10,12,14,16,18],\n",
    "#                    }\n",
    "\n",
    "# param_distributions = {\n",
    "#     \"n_estimators\": [1, 2, 5, 10, 20, 50, 100, 200, 500],\n",
    "#     \"max_leaf_nodes\": [2, 5, 10, 20, 50, 100],\n",
    "#     \"learning_rate\": loguniform(0.01, 1),\n",
    "# }"
   ]
  },
  {
   "cell_type": "code",
   "execution_count": 67,
   "id": "8c290aec",
   "metadata": {},
   "outputs": [
    {
     "name": "stdout",
     "output_type": "stream",
     "text": [
      "Fitting 5 folds for each of 100 candidates, totalling 500 fits\n"
     ]
    },
    {
     "data": {
      "text/plain": [
       "RandomizedSearchCV(cv=5, estimator=GradientBoostingRegressor(random_state=0),\n",
       "                   n_iter=100, n_jobs=-1,\n",
       "                   param_distributions={'learning_rate': [0.1, 0.2, 0.3, 0.4,\n",
       "                                                          0.5, 0.6, 0.7, 0.8,\n",
       "                                                          0.9],\n",
       "                                        'max_depth': [8, 10, 12, 14, 16, 18],\n",
       "                                        'max_leaf_nodes': [2, 5, 10, 20, 50,\n",
       "                                                           100],\n",
       "                                        'n_estimators': [50, 100, 150, 200, 250,\n",
       "                                                         300, 350, 400, 450,\n",
       "                                                         500]},\n",
       "                   random_state=42, verbose=3)"
      ]
     },
     "execution_count": 67,
     "metadata": {},
     "output_type": "execute_result"
    }
   ],
   "source": [
    "from sklearn.ensemble import GradientBoostingRegressor\n",
    "from sklearn.model_selection import RandomizedSearchCV\n",
    "\n",
    "gradient_boost_reg = RandomizedSearchCV(GradientBoostingRegressor(random_state=0), param_distributions = HyperParameters, cv = 5,\n",
    "                            n_iter = 100, n_jobs = -1, verbose = 3, return_train_score=False, random_state = 42)\n",
    "\n",
    "gradient_boost_reg.fit(X_train, Y_train)"
   ]
  },
  {
   "cell_type": "code",
   "execution_count": 68,
   "id": "5d1a35db",
   "metadata": {
    "scrolled": false
   },
   "outputs": [
    {
     "name": "stdout",
     "output_type": "stream",
     "text": [
      "0.5916709989876346\n",
      "{'n_estimators': 50, 'max_leaf_nodes': 5, 'max_depth': 16, 'learning_rate': 0.2}\n"
     ]
    }
   ],
   "source": [
    "print(gradient_boost_reg.best_score_)\n",
    "print(gradient_boost_reg.best_params_)"
   ]
  },
  {
   "cell_type": "code",
   "execution_count": 69,
   "id": "167f3c87",
   "metadata": {},
   "outputs": [
    {
     "data": {
      "text/plain": [
       "GradientBoostingRegressor(learning_rate=0.2, max_depth=16, max_leaf_nodes=5,\n",
       "                          n_estimators=50)"
      ]
     },
     "execution_count": 69,
     "metadata": {},
     "output_type": "execute_result"
    }
   ],
   "source": [
    "from sklearn.ensemble import GradientBoostingRegressor\n",
    "\n",
    "gradient_boost_reg = GradientBoostingRegressor(n_estimators=50, max_leaf_nodes=5, max_depth=16, learning_rate=0.2)\n",
    "gradient_boost_reg.fit(X_train,Y_train)"
   ]
  },
  {
   "cell_type": "code",
   "execution_count": 70,
   "id": "b69a167d",
   "metadata": {},
   "outputs": [
    {
     "name": "stdout",
     "output_type": "stream",
     "text": [
      "r2 for train data:  0.6183314254896173\n",
      "adjusted_r2 for train data:  0.6170393475953372 \n",
      "\n",
      "r2 for test data:  0.6081124011376817\n",
      "adjusted_r2 for test data:  0.6027504649248124\n"
     ]
    }
   ],
   "source": [
    "print(\"r2 for train data: \",gradient_boost_reg.score(X_train,Y_train))\n",
    "print(\"adjusted_r2 for train data: \",adj_R2(X_train,Y_train,gradient_boost_reg),'\\n')\n",
    "\n",
    "print(\"r2 for test data: \",gradient_boost_reg.score(X_test,Y_test))\n",
    "print(\"adjusted_r2 for test data: \",adj_R2(X_test,Y_test,gradient_boost_reg))"
   ]
  },
  {
   "cell_type": "code",
   "execution_count": 71,
   "id": "51567715",
   "metadata": {},
   "outputs": [
    {
     "data": {
      "text/html": [
       "<div>\n",
       "<style scoped>\n",
       "    .dataframe tbody tr th:only-of-type {\n",
       "        vertical-align: middle;\n",
       "    }\n",
       "\n",
       "    .dataframe tbody tr th {\n",
       "        vertical-align: top;\n",
       "    }\n",
       "\n",
       "    .dataframe thead th {\n",
       "        text-align: right;\n",
       "    }\n",
       "</style>\n",
       "<table border=\"1\" class=\"dataframe\">\n",
       "  <thead>\n",
       "    <tr style=\"text-align: right;\">\n",
       "      <th></th>\n",
       "      <th>Model_Name</th>\n",
       "      <th>Train_R2</th>\n",
       "      <th>Test_R2</th>\n",
       "      <th>Parameters</th>\n",
       "    </tr>\n",
       "  </thead>\n",
       "  <tbody>\n",
       "    <tr>\n",
       "      <th>0</th>\n",
       "      <td>Gradient Boosting</td>\n",
       "      <td>0.617039</td>\n",
       "      <td>0.602750</td>\n",
       "      <td>{n_estimators=50, max_leaf_nodes=5, max_depth=...</td>\n",
       "    </tr>\n",
       "    <tr>\n",
       "      <th>1</th>\n",
       "      <td>Bag KNN Regressor</td>\n",
       "      <td>0.671500</td>\n",
       "      <td>0.514407</td>\n",
       "      <td>default</td>\n",
       "    </tr>\n",
       "    <tr>\n",
       "      <th>2</th>\n",
       "      <td>Bag Decision Tree Regressor</td>\n",
       "      <td>0.932593</td>\n",
       "      <td>0.519785</td>\n",
       "      <td>default</td>\n",
       "    </tr>\n",
       "    <tr>\n",
       "      <th>3</th>\n",
       "      <td>Bag Linear Regression</td>\n",
       "      <td>0.556782</td>\n",
       "      <td>0.572451</td>\n",
       "      <td>default</td>\n",
       "    </tr>\n",
       "    <tr>\n",
       "      <th>4</th>\n",
       "      <td>KNN Regressor</td>\n",
       "      <td>0.652048</td>\n",
       "      <td>0.499292</td>\n",
       "      <td>{weights=uniform, algorithm=auto}</td>\n",
       "    </tr>\n",
       "    <tr>\n",
       "      <th>5</th>\n",
       "      <td>Random Forest Regressor</td>\n",
       "      <td>0.638119</td>\n",
       "      <td>0.566961</td>\n",
       "      <td>{min_samples_split=30, min_samples_leaf=10, ma...</td>\n",
       "    </tr>\n",
       "    <tr>\n",
       "      <th>6</th>\n",
       "      <td>Decision Tree Regressor</td>\n",
       "      <td>0.638817</td>\n",
       "      <td>0.566889</td>\n",
       "      <td>{max_depth=8, min_samples_leaf=10, min_samples...</td>\n",
       "    </tr>\n",
       "    <tr>\n",
       "      <th>7</th>\n",
       "      <td>Ridge Regression</td>\n",
       "      <td>0.556786</td>\n",
       "      <td>0.572702</td>\n",
       "      <td>{alpha = 2.1}</td>\n",
       "    </tr>\n",
       "    <tr>\n",
       "      <th>8</th>\n",
       "      <td>Lasso Regression</td>\n",
       "      <td>0.556280</td>\n",
       "      <td>0.574002</td>\n",
       "      <td>{'alpha': '2.581021055193149'}</td>\n",
       "    </tr>\n",
       "    <tr>\n",
       "      <th>9</th>\n",
       "      <td>Linear Regression</td>\n",
       "      <td>0.556811</td>\n",
       "      <td>0.572602</td>\n",
       "      <td>default</td>\n",
       "    </tr>\n",
       "  </tbody>\n",
       "</table>\n",
       "</div>"
      ],
      "text/plain": [
       "                    Model_Name  Train_R2   Test_R2  \\\n",
       "0            Gradient Boosting  0.617039  0.602750   \n",
       "1            Bag KNN Regressor  0.671500  0.514407   \n",
       "2  Bag Decision Tree Regressor  0.932593  0.519785   \n",
       "3        Bag Linear Regression  0.556782  0.572451   \n",
       "4                KNN Regressor  0.652048  0.499292   \n",
       "5      Random Forest Regressor  0.638119  0.566961   \n",
       "6      Decision Tree Regressor  0.638817  0.566889   \n",
       "7             Ridge Regression  0.556786  0.572702   \n",
       "8             Lasso Regression  0.556280  0.574002   \n",
       "9            Linear Regression  0.556811  0.572602   \n",
       "\n",
       "                                          Parameters  \n",
       "0  {n_estimators=50, max_leaf_nodes=5, max_depth=...  \n",
       "1                                            default  \n",
       "2                                            default  \n",
       "3                                            default  \n",
       "4                  {weights=uniform, algorithm=auto}  \n",
       "5  {min_samples_split=30, min_samples_leaf=10, ma...  \n",
       "6  {max_depth=8, min_samples_leaf=10, min_samples...  \n",
       "7                                      {alpha = 2.1}  \n",
       "8                     {'alpha': '2.581021055193149'}  \n",
       "9                                            default  "
      ]
     },
     "execution_count": 71,
     "metadata": {},
     "output_type": "execute_result"
    }
   ],
   "source": [
    "Table = insertData(Table,'Gradient Boosting',adj_R2(X_train,Y_train,gradient_boost_reg),adj_R2(X_test,Y_test,gradient_boost_reg),[{'n_estimators=50, max_leaf_nodes=5, max_depth=16, learning_rate=0.2'}])\n",
    "Table"
   ]
  },
  {
   "cell_type": "markdown",
   "id": "8b1d8a88",
   "metadata": {},
   "source": [
    "## XGBRegressor"
   ]
  },
  {
   "cell_type": "code",
   "execution_count": 72,
   "id": "ec0eead1",
   "metadata": {},
   "outputs": [
    {
     "name": "stdout",
     "output_type": "stream",
     "text": [
      "[12:08:52] WARNING: C:/Users/Administrator/workspace/xgboost-win64_release_1.5.1/src/objective/regression_obj.cu:188: reg:linear is now deprecated in favor of reg:squarederror.\n"
     ]
    },
    {
     "data": {
      "text/plain": [
       "XGBRegressor(base_score=0.5, booster='gbtree', colsample_bylevel=1,\n",
       "             colsample_bynode=1, colsample_bytree=1, enable_categorical=False,\n",
       "             gamma=0, gpu_id=-1, importance_type=None,\n",
       "             interaction_constraints='', learning_rate=0.300000012,\n",
       "             max_delta_step=0, max_depth=6, min_child_weight=1, missing=nan,\n",
       "             monotone_constraints='()', n_estimators=10, n_jobs=4,\n",
       "             num_parallel_tree=1, objective='reg:linear', predictor='auto',\n",
       "             random_state=42, reg_alpha=0, reg_lambda=1, scale_pos_weight=1,\n",
       "             seed=42, subsample=1, tree_method='exact', validate_parameters=1,\n",
       "             verbosity=None)"
      ]
     },
     "execution_count": 72,
     "metadata": {},
     "output_type": "execute_result"
    }
   ],
   "source": [
    "from xgboost import XGBRegressor\n",
    "\n",
    "XGB_reg=XGBRegressor(objective ='reg:linear',n_estimators = 10, seed = 42)\n",
    "XGB_reg.fit(X_train,Y_train)"
   ]
  },
  {
   "cell_type": "code",
   "execution_count": 73,
   "id": "0d1a5439",
   "metadata": {
    "scrolled": true
   },
   "outputs": [
    {
     "name": "stdout",
     "output_type": "stream",
     "text": [
      "r2 for train data:  0.652694689158984\n",
      "adjusted_r2 for train data:  0.6515189425959367 \n",
      "\n",
      "r2 for test data:  0.5962695047356253\n",
      "adjusted_r2 for test data:  0.5907455300829896\n"
     ]
    }
   ],
   "source": [
    "print(\"r2 for train data: \",XGB_reg.score(X_train,Y_train))\n",
    "print(\"adjusted_r2 for train data: \",adj_R2(X_train,Y_train,XGB_reg),'\\n')\n",
    "\n",
    "print(\"r2 for test data: \",XGB_reg.score(X_test,Y_test))\n",
    "print(\"adjusted_r2 for test data: \",adj_R2(X_test,Y_test,XGB_reg))"
   ]
  },
  {
   "cell_type": "code",
   "execution_count": 74,
   "id": "bf4fafe6",
   "metadata": {},
   "outputs": [
    {
     "data": {
      "text/html": [
       "<div>\n",
       "<style scoped>\n",
       "    .dataframe tbody tr th:only-of-type {\n",
       "        vertical-align: middle;\n",
       "    }\n",
       "\n",
       "    .dataframe tbody tr th {\n",
       "        vertical-align: top;\n",
       "    }\n",
       "\n",
       "    .dataframe thead th {\n",
       "        text-align: right;\n",
       "    }\n",
       "</style>\n",
       "<table border=\"1\" class=\"dataframe\">\n",
       "  <thead>\n",
       "    <tr style=\"text-align: right;\">\n",
       "      <th></th>\n",
       "      <th>Model_Name</th>\n",
       "      <th>Train_R2</th>\n",
       "      <th>Test_R2</th>\n",
       "      <th>Parameters</th>\n",
       "    </tr>\n",
       "  </thead>\n",
       "  <tbody>\n",
       "    <tr>\n",
       "      <th>0</th>\n",
       "      <td>XGBRegressor</td>\n",
       "      <td>0.651519</td>\n",
       "      <td>0.590746</td>\n",
       "      <td>default</td>\n",
       "    </tr>\n",
       "    <tr>\n",
       "      <th>1</th>\n",
       "      <td>Gradient Boosting</td>\n",
       "      <td>0.617039</td>\n",
       "      <td>0.602750</td>\n",
       "      <td>{n_estimators=50, max_leaf_nodes=5, max_depth=...</td>\n",
       "    </tr>\n",
       "    <tr>\n",
       "      <th>2</th>\n",
       "      <td>Bag KNN Regressor</td>\n",
       "      <td>0.671500</td>\n",
       "      <td>0.514407</td>\n",
       "      <td>default</td>\n",
       "    </tr>\n",
       "    <tr>\n",
       "      <th>3</th>\n",
       "      <td>Bag Decision Tree Regressor</td>\n",
       "      <td>0.932593</td>\n",
       "      <td>0.519785</td>\n",
       "      <td>default</td>\n",
       "    </tr>\n",
       "    <tr>\n",
       "      <th>4</th>\n",
       "      <td>Bag Linear Regression</td>\n",
       "      <td>0.556782</td>\n",
       "      <td>0.572451</td>\n",
       "      <td>default</td>\n",
       "    </tr>\n",
       "    <tr>\n",
       "      <th>5</th>\n",
       "      <td>KNN Regressor</td>\n",
       "      <td>0.652048</td>\n",
       "      <td>0.499292</td>\n",
       "      <td>{weights=uniform, algorithm=auto}</td>\n",
       "    </tr>\n",
       "    <tr>\n",
       "      <th>6</th>\n",
       "      <td>Random Forest Regressor</td>\n",
       "      <td>0.638119</td>\n",
       "      <td>0.566961</td>\n",
       "      <td>{min_samples_split=30, min_samples_leaf=10, ma...</td>\n",
       "    </tr>\n",
       "    <tr>\n",
       "      <th>7</th>\n",
       "      <td>Decision Tree Regressor</td>\n",
       "      <td>0.638817</td>\n",
       "      <td>0.566889</td>\n",
       "      <td>{max_depth=8, min_samples_leaf=10, min_samples...</td>\n",
       "    </tr>\n",
       "    <tr>\n",
       "      <th>8</th>\n",
       "      <td>Ridge Regression</td>\n",
       "      <td>0.556786</td>\n",
       "      <td>0.572702</td>\n",
       "      <td>{alpha = 2.1}</td>\n",
       "    </tr>\n",
       "    <tr>\n",
       "      <th>9</th>\n",
       "      <td>Lasso Regression</td>\n",
       "      <td>0.556280</td>\n",
       "      <td>0.574002</td>\n",
       "      <td>{'alpha': '2.581021055193149'}</td>\n",
       "    </tr>\n",
       "    <tr>\n",
       "      <th>10</th>\n",
       "      <td>Linear Regression</td>\n",
       "      <td>0.556811</td>\n",
       "      <td>0.572602</td>\n",
       "      <td>default</td>\n",
       "    </tr>\n",
       "  </tbody>\n",
       "</table>\n",
       "</div>"
      ],
      "text/plain": [
       "                     Model_Name  Train_R2   Test_R2  \\\n",
       "0                  XGBRegressor  0.651519  0.590746   \n",
       "1             Gradient Boosting  0.617039  0.602750   \n",
       "2             Bag KNN Regressor  0.671500  0.514407   \n",
       "3   Bag Decision Tree Regressor  0.932593  0.519785   \n",
       "4         Bag Linear Regression  0.556782  0.572451   \n",
       "5                 KNN Regressor  0.652048  0.499292   \n",
       "6       Random Forest Regressor  0.638119  0.566961   \n",
       "7       Decision Tree Regressor  0.638817  0.566889   \n",
       "8              Ridge Regression  0.556786  0.572702   \n",
       "9              Lasso Regression  0.556280  0.574002   \n",
       "10            Linear Regression  0.556811  0.572602   \n",
       "\n",
       "                                           Parameters  \n",
       "0                                             default  \n",
       "1   {n_estimators=50, max_leaf_nodes=5, max_depth=...  \n",
       "2                                             default  \n",
       "3                                             default  \n",
       "4                                             default  \n",
       "5                   {weights=uniform, algorithm=auto}  \n",
       "6   {min_samples_split=30, min_samples_leaf=10, ma...  \n",
       "7   {max_depth=8, min_samples_leaf=10, min_samples...  \n",
       "8                                       {alpha = 2.1}  \n",
       "9                      {'alpha': '2.581021055193149'}  \n",
       "10                                            default  "
      ]
     },
     "execution_count": 74,
     "metadata": {},
     "output_type": "execute_result"
    }
   ],
   "source": [
    "Table = insertData(Table,'XGBRegressor',adj_R2(X_train,Y_train,XGB_reg),adj_R2(X_test,Y_test,XGB_reg))\n",
    "Table"
   ]
  },
  {
   "cell_type": "code",
   "execution_count": 75,
   "id": "ba89cc40",
   "metadata": {},
   "outputs": [],
   "source": [
    "HyperParameters = {'n_estimators': [15,17,18,19,20,22,25,26,27,28,29,30],\n",
    "                   'booster': ['gbtree'],\n",
    "                   'max_depth': [3,4,5,6],\n",
    "                   'min_child_weight': [74,75,78,79,80,81]\n",
    "                  }"
   ]
  },
  {
   "cell_type": "code",
   "execution_count": 76,
   "id": "13e59791",
   "metadata": {},
   "outputs": [
    {
     "name": "stdout",
     "output_type": "stream",
     "text": [
      "Fitting 5 folds for each of 100 candidates, totalling 500 fits\n"
     ]
    },
    {
     "data": {
      "text/plain": [
       "RandomizedSearchCV(cv=5,\n",
       "                   estimator=XGBRegressor(base_score=None, booster=None,\n",
       "                                          colsample_bylevel=None,\n",
       "                                          colsample_bynode=None,\n",
       "                                          colsample_bytree=None,\n",
       "                                          enable_categorical=False, gamma=None,\n",
       "                                          gpu_id=None, importance_type=None,\n",
       "                                          interaction_constraints=None,\n",
       "                                          learning_rate=None,\n",
       "                                          max_delta_step=None, max_depth=None,\n",
       "                                          min_child_weight=None, missing=nan,\n",
       "                                          monotone_constraints=...\n",
       "                                          predictor=None, random_state=None,\n",
       "                                          reg_alpha=None, reg_lambda=None,\n",
       "                                          scale_pos_weight=None, subsample=None,\n",
       "                                          tree_method=None,\n",
       "                                          validate_parameters=None,\n",
       "                                          verbosity=None),\n",
       "                   n_iter=100, n_jobs=-1,\n",
       "                   param_distributions={'booster': ['gbtree'],\n",
       "                                        'max_depth': [3, 4, 5, 6],\n",
       "                                        'min_child_weight': [74, 75, 78, 79, 80,\n",
       "                                                             81],\n",
       "                                        'n_estimators': [15, 17, 18, 19, 20, 22,\n",
       "                                                         25, 26, 27, 28, 29,\n",
       "                                                         30]},\n",
       "                   random_state=42, verbose=3)"
      ]
     },
     "execution_count": 76,
     "metadata": {},
     "output_type": "execute_result"
    }
   ],
   "source": [
    "from xgboost import XGBRegressor\n",
    "from sklearn.model_selection import RandomizedSearchCV\n",
    "\n",
    "XGB_reg = RandomizedSearchCV(XGBRegressor(), param_distributions = HyperParameters, cv = 5,\n",
    "                            n_iter = 100, n_jobs = -1, verbose = 3, return_train_score=False, random_state = 42)\n",
    "\n",
    "XGB_reg.fit(X_train, Y_train)"
   ]
  },
  {
   "cell_type": "code",
   "execution_count": 77,
   "id": "4a6e4916",
   "metadata": {},
   "outputs": [
    {
     "name": "stdout",
     "output_type": "stream",
     "text": [
      "0.5924184532812771\n",
      "{'n_estimators': 15, 'min_child_weight': 79, 'max_depth': 4, 'booster': 'gbtree'}\n"
     ]
    }
   ],
   "source": [
    "print(XGB_reg.best_score_)\n",
    "print(XGB_reg.best_params_)"
   ]
  },
  {
   "cell_type": "code",
   "execution_count": 78,
   "id": "fc01c14e",
   "metadata": {},
   "outputs": [
    {
     "name": "stdout",
     "output_type": "stream",
     "text": [
      "[12:11:12] WARNING: C:/Users/Administrator/workspace/xgboost-win64_release_1.5.1/src/objective/regression_obj.cu:188: reg:linear is now deprecated in favor of reg:squarederror.\n"
     ]
    },
    {
     "data": {
      "text/plain": [
       "XGBRegressor(base_score=0.5, booster='gbtree', colsample_bylevel=1,\n",
       "             colsample_bynode=1, colsample_bytree=1, enable_categorical=False,\n",
       "             gamma=0, gpu_id=-1, importance_type=None,\n",
       "             interaction_constraints='', learning_rate=0.300000012,\n",
       "             max_delta_step=0, max_depth=6, min_child_weight=79, missing=nan,\n",
       "             monotone_constraints='()', n_estimators=15, n_jobs=4,\n",
       "             num_parallel_tree=1, objective='reg:linear', predictor='auto',\n",
       "             random_state=42, reg_alpha=0, reg_lambda=1, scale_pos_weight=1,\n",
       "             seed=42, subsample=1, tree_method='exact', validate_parameters=1,\n",
       "             verbosity=None)"
      ]
     },
     "execution_count": 78,
     "metadata": {},
     "output_type": "execute_result"
    }
   ],
   "source": [
    "from xgboost import XGBRegressor\n",
    "\n",
    "XGB_reg=XGBRegressor(objective ='reg:linear',n_estimators = 15, min_child_weight=79, booster='gbtree',seed = 42)\n",
    "XGB_reg.fit(X_train,Y_train)"
   ]
  },
  {
   "cell_type": "code",
   "execution_count": 79,
   "id": "5146ded3",
   "metadata": {},
   "outputs": [
    {
     "name": "stdout",
     "output_type": "stream",
     "text": [
      "r2 for train data:  0.6272560938720815\n",
      "adjusted_r2 for train data:  0.6259942290147158 \n",
      "\n",
      "r2 for test data:  0.6123450772312957\n",
      "adjusted_r2 for test data:  0.607041053897756\n"
     ]
    }
   ],
   "source": [
    "print(\"r2 for train data: \",XGB_reg.score(X_train,Y_train))\n",
    "print(\"adjusted_r2 for train data: \",adj_R2(X_train,Y_train,XGB_reg),'\\n')\n",
    "\n",
    "print(\"r2 for test data: \",XGB_reg.score(X_test,Y_test))\n",
    "print(\"adjusted_r2 for test data: \",adj_R2(X_test,Y_test,XGB_reg))"
   ]
  },
  {
   "cell_type": "code",
   "execution_count": 80,
   "id": "eb7bd6eb",
   "metadata": {},
   "outputs": [
    {
     "data": {
      "text/html": [
       "<div>\n",
       "<style scoped>\n",
       "    .dataframe tbody tr th:only-of-type {\n",
       "        vertical-align: middle;\n",
       "    }\n",
       "\n",
       "    .dataframe tbody tr th {\n",
       "        vertical-align: top;\n",
       "    }\n",
       "\n",
       "    .dataframe thead th {\n",
       "        text-align: right;\n",
       "    }\n",
       "</style>\n",
       "<table border=\"1\" class=\"dataframe\">\n",
       "  <thead>\n",
       "    <tr style=\"text-align: right;\">\n",
       "      <th></th>\n",
       "      <th>Model_Name</th>\n",
       "      <th>Train_R2</th>\n",
       "      <th>Test_R2</th>\n",
       "      <th>Parameters</th>\n",
       "    </tr>\n",
       "  </thead>\n",
       "  <tbody>\n",
       "    <tr>\n",
       "      <th>0</th>\n",
       "      <td>XGBRegressor</td>\n",
       "      <td>0.625994</td>\n",
       "      <td>0.607041</td>\n",
       "      <td>{objective=reg:linear,n_estimators = 15, min_c...</td>\n",
       "    </tr>\n",
       "    <tr>\n",
       "      <th>1</th>\n",
       "      <td>XGBRegressor</td>\n",
       "      <td>0.651519</td>\n",
       "      <td>0.590746</td>\n",
       "      <td>default</td>\n",
       "    </tr>\n",
       "    <tr>\n",
       "      <th>2</th>\n",
       "      <td>Gradient Boosting</td>\n",
       "      <td>0.617039</td>\n",
       "      <td>0.602750</td>\n",
       "      <td>{n_estimators=50, max_leaf_nodes=5, max_depth=...</td>\n",
       "    </tr>\n",
       "    <tr>\n",
       "      <th>3</th>\n",
       "      <td>Bag KNN Regressor</td>\n",
       "      <td>0.671500</td>\n",
       "      <td>0.514407</td>\n",
       "      <td>default</td>\n",
       "    </tr>\n",
       "    <tr>\n",
       "      <th>4</th>\n",
       "      <td>Bag Decision Tree Regressor</td>\n",
       "      <td>0.932593</td>\n",
       "      <td>0.519785</td>\n",
       "      <td>default</td>\n",
       "    </tr>\n",
       "    <tr>\n",
       "      <th>5</th>\n",
       "      <td>Bag Linear Regression</td>\n",
       "      <td>0.556782</td>\n",
       "      <td>0.572451</td>\n",
       "      <td>default</td>\n",
       "    </tr>\n",
       "    <tr>\n",
       "      <th>6</th>\n",
       "      <td>KNN Regressor</td>\n",
       "      <td>0.652048</td>\n",
       "      <td>0.499292</td>\n",
       "      <td>{weights=uniform, algorithm=auto}</td>\n",
       "    </tr>\n",
       "    <tr>\n",
       "      <th>7</th>\n",
       "      <td>Random Forest Regressor</td>\n",
       "      <td>0.638119</td>\n",
       "      <td>0.566961</td>\n",
       "      <td>{min_samples_split=30, min_samples_leaf=10, ma...</td>\n",
       "    </tr>\n",
       "    <tr>\n",
       "      <th>8</th>\n",
       "      <td>Decision Tree Regressor</td>\n",
       "      <td>0.638817</td>\n",
       "      <td>0.566889</td>\n",
       "      <td>{max_depth=8, min_samples_leaf=10, min_samples...</td>\n",
       "    </tr>\n",
       "    <tr>\n",
       "      <th>9</th>\n",
       "      <td>Ridge Regression</td>\n",
       "      <td>0.556786</td>\n",
       "      <td>0.572702</td>\n",
       "      <td>{alpha = 2.1}</td>\n",
       "    </tr>\n",
       "    <tr>\n",
       "      <th>10</th>\n",
       "      <td>Lasso Regression</td>\n",
       "      <td>0.556280</td>\n",
       "      <td>0.574002</td>\n",
       "      <td>{'alpha': '2.581021055193149'}</td>\n",
       "    </tr>\n",
       "    <tr>\n",
       "      <th>11</th>\n",
       "      <td>Linear Regression</td>\n",
       "      <td>0.556811</td>\n",
       "      <td>0.572602</td>\n",
       "      <td>default</td>\n",
       "    </tr>\n",
       "  </tbody>\n",
       "</table>\n",
       "</div>"
      ],
      "text/plain": [
       "                     Model_Name  Train_R2   Test_R2  \\\n",
       "0                  XGBRegressor  0.625994  0.607041   \n",
       "1                  XGBRegressor  0.651519  0.590746   \n",
       "2             Gradient Boosting  0.617039  0.602750   \n",
       "3             Bag KNN Regressor  0.671500  0.514407   \n",
       "4   Bag Decision Tree Regressor  0.932593  0.519785   \n",
       "5         Bag Linear Regression  0.556782  0.572451   \n",
       "6                 KNN Regressor  0.652048  0.499292   \n",
       "7       Random Forest Regressor  0.638119  0.566961   \n",
       "8       Decision Tree Regressor  0.638817  0.566889   \n",
       "9              Ridge Regression  0.556786  0.572702   \n",
       "10             Lasso Regression  0.556280  0.574002   \n",
       "11            Linear Regression  0.556811  0.572602   \n",
       "\n",
       "                                           Parameters  \n",
       "0   {objective=reg:linear,n_estimators = 15, min_c...  \n",
       "1                                             default  \n",
       "2   {n_estimators=50, max_leaf_nodes=5, max_depth=...  \n",
       "3                                             default  \n",
       "4                                             default  \n",
       "5                                             default  \n",
       "6                   {weights=uniform, algorithm=auto}  \n",
       "7   {min_samples_split=30, min_samples_leaf=10, ma...  \n",
       "8   {max_depth=8, min_samples_leaf=10, min_samples...  \n",
       "9                                       {alpha = 2.1}  \n",
       "10                     {'alpha': '2.581021055193149'}  \n",
       "11                                            default  "
      ]
     },
     "execution_count": 80,
     "metadata": {},
     "output_type": "execute_result"
    }
   ],
   "source": [
    "Table = insertData(Table,'XGBRegressor',adj_R2(X_train,Y_train,XGB_reg),adj_R2(X_test,Y_test,XGB_reg),[{'objective=reg:linear,n_estimators = 15, min_child_weight=79, booster=gbtree, seed = 42'}])\n",
    "Table"
   ]
  },
  {
   "cell_type": "code",
   "execution_count": null,
   "id": "b4fa31fa",
   "metadata": {},
   "outputs": [],
   "source": []
  }
 ],
 "metadata": {
  "kernelspec": {
   "display_name": "Python 3 (ipykernel)",
   "language": "python",
   "name": "python3"
  },
  "language_info": {
   "codemirror_mode": {
    "name": "ipython",
    "version": 3
   },
   "file_extension": ".py",
   "mimetype": "text/x-python",
   "name": "python",
   "nbconvert_exporter": "python",
   "pygments_lexer": "ipython3",
   "version": "3.9.7"
  }
 },
 "nbformat": 4,
 "nbformat_minor": 5
}
